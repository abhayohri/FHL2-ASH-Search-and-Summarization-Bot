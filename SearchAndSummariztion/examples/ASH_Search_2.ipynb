{
 "cells": [
  {
   "attachments": {},
   "cell_type": "markdown",
   "metadata": {},
   "source": [
    "#### Init"
   ]
  },
  {
   "cell_type": "code",
   "execution_count": 571,
   "metadata": {},
   "outputs": [],
   "source": [
    "import os\n",
    "import json\n",
    "import urllib\n",
    "import requests\n",
    "import random\n",
    "from collections import OrderedDict\n",
    "from IPython.display import display, HTML\n",
    "from langchain.prompts import PromptTemplate\n",
    "from langchain.chat_models import AzureChatOpenAI\n",
    "from langchain.docstore.document import Document\n",
    "from langchain.chains.question_answering import load_qa_chain\n",
    "from langchain.chains.qa_with_sources import load_qa_with_sources_chain\n",
    "from configparser import ConfigParser\n",
    "from flask import Flask, request,  jsonify\n",
    "import openai\n",
    "\n",
    "parser = ConfigParser()\n",
    "parser.read('../secrets2.cfg')\n",
    "\n",
    "AZURE_SEARCH_API_VERSION = parser.get('my_api','AZURE_SEARCH_API_VERSION')\n",
    "AZURE_OPENAI_API_VERSION = parser.get('my_api','AZURE_OPENAI_API_VERSION')\n",
    "AZURE_SEARCH_ENDPOINT = parser.get('my_api','AZURE_SEARCH_ENDPOINT')\n",
    "AZURE_SEARCH_KEY = parser.get('my_api','AZURE_SEARCH_KEY')\n",
    "SEMANTIC_CONFIG = parser.get('my_api','SEMANTIC_CONFIG')\n",
    "AZURE_OPENAI_ENDPOINT = parser.get('my_api','AZURE_OPENAI_ENDPOINT')\n",
    "AZURE_OPENAI_API_KEY = parser.get('my_api','AZURE_OPENAI_API_KEY')\n",
    "PORTAL_TOKEN = parser.get('my_api','PORTAL_TOKEN')\n",
    "URL  = parser.get('my_api','ASH_EXAMPLE_DATA_SOURCE')\n",
    "MODEL = \"gpt-35-turbo\" # options: gpt-35-turbo, gpt-4, gpt-4-32k\n",
    "\n",
    "# Set the ENV variables that Langchain needs to connect to Azure OpenAI\n",
    "os.environ[\"OPENAI_API_BASE\"] = os.environ[\"AZURE_OPENAI_ENDPOINT\"] = AZURE_OPENAI_ENDPOINT\n",
    "os.environ[\"OPENAI_API_KEY\"] = os.environ[\"AZURE_OPENAI_API_KEY\"] = AZURE_OPENAI_API_KEY\n",
    "os.environ[\"OPENAI_API_VERSION\"] = os.environ[\"AZURE_OPENAI_API_VERSION\"] = AZURE_OPENAI_API_VERSION\n",
    "os.environ[\"OPENAI_API_TYPE\"] = \"azure\" \n",
    "\n",
    "# Setup the Payloads header\n",
    "headers = {'Content-Type': 'application/json','api-key': AZURE_SEARCH_KEY}\n",
    "ASHheaders = {\"Authorization\": PORTAL_TOKEN}\n",
    "indexes = [\"fhlabhishekindex\"]\n",
    "\n",
    "\n",
    "# mode = \"Jupyter\"\n",
    "mode = \"Service\"\n",
    "\n"
   ]
  },
  {
   "cell_type": "code",
   "execution_count": 550,
   "metadata": {},
   "outputs": [],
   "source": [
    "import requests\n",
    "from bs4 import BeautifulSoup\n",
    "import re\n",
    "import pandas as pd\n",
    "from common.model_common import model_tokens_limit, num_tokens_from_string, num_tokens_from_docs"
   ]
  },
  {
   "attachments": {},
   "cell_type": "markdown",
   "metadata": {},
   "source": [
    "2. Create langchain documents and get the most recent documents that are within the token limit"
   ]
  },
  {
   "cell_type": "code",
   "execution_count": 551,
   "metadata": {},
   "outputs": [],
   "source": [
    "def create_langchain_documents(ordered_content):# Iterate over each of the results chunks and create a LangChain Document class to use further in the pipeline\n",
    "    docs = []\n",
    "    for key,value in ordered_content.items():\n",
    "        for page in value[\"chunks\"]:\n",
    "            docs.append(Document(page_content=page, metadata={\"source\": key}))\n",
    "    return docs"
   ]
  },
  {
   "cell_type": "code",
   "execution_count": 552,
   "metadata": {},
   "outputs": [],
   "source": [
    "\n",
    "# Calculate number of tokens of our docs\n",
    "def get_token_sizes(docs):\n",
    "    tokens_limit = model_tokens_limit(MODEL) \n",
    "    if(len(docs)>0):        \n",
    "        num_tokens = num_tokens_from_docs(docs) \n",
    "        print(\"Custom token limit for\", MODEL, \":\", tokens_limit)\n",
    "        print(\"Combined docs tokens count:\",num_tokens)\n",
    "        return tokens_limit, num_tokens    \n",
    "    else:\n",
    "        print(\"NO RESULTS FROM AZURE SEARCH\")\n",
    "        return tokens_limit,0\n",
    "\n",
    "\n"
   ]
  },
  {
   "attachments": {},
   "cell_type": "markdown",
   "metadata": {},
   "source": [
    "Create LLM model"
   ]
  },
  {
   "cell_type": "code",
   "execution_count": 553,
   "metadata": {},
   "outputs": [],
   "source": [
    "if mode == \"Jupyter\":\n",
    "    # Create our LLM model\n",
    "    # Make sure you have the deployment named \"gpt-35-turbo\" for the model \"gpt-35-turbo (0301)\". \n",
    "    # Use \"gpt-4\" if you have it available.\n",
    "    llm2 = AzureChatOpenAI(deployment_name=MODEL, temperature=0, max_tokens=500)"
   ]
  },
  {
   "attachments": {},
   "cell_type": "markdown",
   "metadata": {},
   "source": [
    "Formulate the query"
   ]
  },
  {
   "cell_type": "code",
   "execution_count": 554,
   "metadata": {},
   "outputs": [],
   "source": [
    "if mode == \"Jupyter\":\n",
    "    QUESTION = \"what are the Authentication issues?\" # the question asked by the user\n"
   ]
  },
  {
   "cell_type": "code",
   "execution_count": 555,
   "metadata": {},
   "outputs": [],
   "source": [
    "QUERY_PROMT_TEMPLATE = \"\"\"Below is a history of the conversation so far, and a new question asked by the user that needs to be answered by searching in a knowledge base about Azure outages and service issues.\n",
    "    Generate a search query based on the conversation and the new question. \n",
    "    Do not include cited source filenames and document names e.g info.txt or doc.pdf in the search query terms.\n",
    "    Do not include any text inside [] or <<>> in the search query terms.\n",
    "    If the question is not in English, translate the question to English before generating the search query.\n",
    "=========\n",
    "Chat History:\n",
    "{}\n",
    "=========\n",
    "Question:\n",
    "{}\n",
    "\n",
    "Search query:\n",
    "\"\"\"\n"
   ]
  },
  {
   "cell_type": "code",
   "execution_count": 556,
   "metadata": {},
   "outputs": [],
   "source": [
    "\n",
    "def generate_query_from_history(question, chat_history):\n",
    "    print (\"chat_history: \", chat_history)\n",
    "    \n",
    "    answer = \"\"\n",
    "    if chat_history == \"\":\n",
    "        print (\"Not calling GPT to make query\")\n",
    "        return answer\n",
    "\n",
    "    completion = openai.Completion.create(\n",
    "            engine=MODEL, \n",
    "            prompt=QUERY_PROMT_TEMPLATE.format(chat_history, question), \n",
    "            temperature=0.0, \n",
    "            max_tokens=32, \n",
    "            n=1, \n",
    "            stop=[\"\\n\"])\n",
    "    q = completion.choices[0].text\n",
    "\n",
    "    answer = q\n",
    "\n",
    "    print(answer)\n",
    "    return answer\n",
    "\n",
    "# generate_query_from_history(QUESTION, chat_history = \"<|im_start|>user\\nwhen did I have authentication issues\\n<|im_end|>\\n<|im_start|>assistant\\nI don't know when you had authentication issues. None of the provided Tracking IDs mention a timeframe that matches the question. \\n<|im_end|>\")"
   ]
  },
  {
   "cell_type": "code",
   "execution_count": 557,
   "metadata": {},
   "outputs": [],
   "source": [
    "def get_search_query(question, hisory_text = \"\"):\n",
    "    user_input = question\n",
    "\n",
    "    ## Define user input\n",
    "    search_query = user_input\n",
    "\n",
    "    ## TBD: add chat history/summary as query input\n",
    "    search_query = generate_query_from_history(user_input, hisory_text)\n",
    "    print (\"search query: {}\".format(search_query))\n",
    "\n",
    "    if search_query == \"\":\n",
    "        search_query = user_input\n",
    "    return search_query\n",
    "\n",
    "\n",
    "if mode == \"Jupyter\":\n",
    "    search_query = get_search_query(QUESTION)"
   ]
  },
  {
   "attachments": {},
   "cell_type": "markdown",
   "metadata": {},
   "source": [
    "# Case 2: Search    \n",
    "  \n",
    "The first Question the user asks:"
   ]
  },
  {
   "attachments": {},
   "cell_type": "markdown",
   "metadata": {},
   "source": [
    "##### To find what events might be associated with this Question. We need to search all the users events we do this currently via keyword cognitive search and by a limited in memory vector search.\n",
    "    Current logic:\n",
    "    get events via the index currently set to 5\n",
    "    order and sort by score\n",
    "    if too many events returned for tokenization vector sort to get top results currently 4. TO DISABLE THIS: get number of docs that can fit in a token size(untested)           \n",
    "    if 0 results retuned: search on a small subset of the most recent data(from the api) using the embeddings model. (Allow user to select next not implemented) \n",
    "    **This should all be replaced by doing a vector search using the in private preview version of cognitive search which has the capabilities of vector search baked in**\n",
    "\n",
    "1. The keyword search: "
   ]
  },
  {
   "attachments": {},
   "cell_type": "markdown",
   "metadata": {},
   "source": [
    "1. call Azure search service"
   ]
  },
  {
   "cell_type": "code",
   "execution_count": 558,
   "metadata": {},
   "outputs": [],
   "source": [
    "## calls Azure Search service to get relevant documents based on the query.\n",
    "def get_agg_search_results(search_query, filter = None, skip = 0): # get the events the question might pertain to. currently gets 5 events in the example\n",
    "    \n",
    "    print (\"Calling Azure search to get relevant documents...\")\n",
    "    agg_search_results = [] \n",
    "\n",
    "    _skip = 5*skip\n",
    "    print(f\"skipping {_skip} documents\")\n",
    "\n",
    "    \n",
    "    for index in indexes:\n",
    "        url = AZURE_SEARCH_ENDPOINT + '/indexes/'+ index + '/docs'\n",
    "        url += '?api-version={}'.format(AZURE_SEARCH_API_VERSION)\n",
    "        url += '&search={}'.format(search_query.strip(\"\\\"\\'\"))\n",
    "        url += '&select=*'\n",
    "        url += '&$top=5'  # You can change this to anything you need/want\n",
    "        if filter != None:\n",
    "            url += '&filter={}'.format(filter)\n",
    "        url += '&queryLanguage=en-us'\n",
    "        url += '&queryType=semantic'\n",
    "        url += '&semanticConfiguration={}'.format(SEMANTIC_CONFIG)\n",
    "        url += '&$count=true'\n",
    "        url += '&speller=lexicon'\n",
    "        url += '&answers=extractive|count-3'\n",
    "        url += '&captions=extractive|highlight-false'\n",
    "        url += f'&$skip={_skip}'\n",
    "\n",
    "        resp = requests.get(url, headers=headers)\n",
    "        print(url)\n",
    "        #print(resp.status_code)\n",
    "\n",
    "        search_results = resp.json()\n",
    "        print (\"search results:\", search_results)\n",
    "        agg_search_results.append(search_results)\n",
    "        \n",
    "        results_found = search_results['@odata.count']\n",
    "        returned_results = len(search_results['value'])\n",
    "        print(\"Results Found: {}, Results Returned: {}\".format(results_found, returned_results ))\n",
    "        \n",
    "        return agg_search_results, results_found, returned_results \n",
    "\n",
    "\n",
    "if mode == \"Jupyter\":\n",
    "    agg_search_results, results_found, returned_results = get_agg_search_results(search_query,  0)\n",
    "    #agg_search_results\n",
    "    #print (results_found)\n",
    "    #print (returned_results)"
   ]
  },
  {
   "attachments": {},
   "cell_type": "markdown",
   "metadata": {},
   "source": [
    "2. Filter and order search results by score:"
   ]
  },
  {
   "cell_type": "code",
   "execution_count": 559,
   "metadata": {},
   "outputs": [],
   "source": [
    "# from the above responses more filtering is possible simmilar to \n",
    "\n",
    "#display(HTML('<h4>Top Answers</h4>'))\n",
    "\n",
    "def sort_and_order_content(agg_search_results):\n",
    "    for search_results in agg_search_results:\n",
    "        if '@search.answers' in search_results:\n",
    "            for result in search_results['@search.answers']:\n",
    "                print(result['score'])\n",
    "                if result['score'] > 0.5: # Show answers that are at least 50% of the max possible score=1\n",
    "                    print(\"got here\")\n",
    "                    display(HTML('<h5>' + 'Answer - score: ' + str(round(result['score'],2)) + '</h5>'))\n",
    "                    display(HTML(result['text']))\n",
    "                \n",
    "    #print(\"\\n\\n\")\n",
    "    #display(HTML('<h4>Top Results</h4>'))\n",
    "\n",
    "    content = dict()\n",
    "    ordered_content = OrderedDict()\n",
    "\n",
    "\n",
    "    for search_results in agg_search_results:\n",
    "        for result in search_results['value']:\n",
    "            if result['@search.rerankerScore'] > 0.5: # Filter results that are at least 12.5% of the max possible score=4\n",
    "                content[result['id']]={\n",
    "                                        \"title\": result['title'],\n",
    "                                        \"chunks\": result['pages'],\n",
    "                                        \"language\": result['language'], \n",
    "                                        \"caption\": result['@search.captions'][0]['text'],\n",
    "                                        \"score\": result['@search.rerankerScore'],\n",
    "                                        #\"name\": result['metadata_storage_name'], \n",
    "                                        #\"location\": result['metadata_storage_path']                  \n",
    "                                    }\n",
    "                \n",
    "    #print(json.dumps(content, indent=4))\n",
    "        \n",
    "    #After results have been filtered we will Sort and add them as an Ordered list\\n\",\n",
    "    for id in sorted(content, key= lambda x: content[x][\"score\"], reverse=True):\n",
    "        ordered_content[id] = content[id]\n",
    "        #url = ordered_content[id]['location'] + DATASOURCE_SAS_TOKEN\n",
    "        title = str(ordered_content[id]['title']) if (ordered_content[id]['title']) else ordered_content[id]['name']\n",
    "        score = str(round(ordered_content[id]['score'],2))\n",
    "        #display(HTML('<h5><a href=\"'+ url + '\">' + title + '</a> - score: '+ score + '</h5>'))\n",
    "        print(f\"${id} - ${title} - ${score}\")\n",
    "        #display(HTML(ordered_content[id]['caption']))\n",
    "\n",
    "    return ordered_content\n",
    "\n",
    "if mode == \"Jupyter\":\n",
    "    ordered_content = sort_and_order_content(agg_search_results)\n",
    "    #print(json.dumps(ordered_content, indent=4))\n",
    "    docs  = create_langchain_documents(ordered_content)\n",
    "    tokens_limit,num_tokens = get_token_sizes(docs)"
   ]
  },
  {
   "attachments": {},
   "cell_type": "markdown",
   "metadata": {},
   "source": [
    "3. The vector search:"
   ]
  },
  {
   "cell_type": "code",
   "execution_count": 560,
   "metadata": {},
   "outputs": [],
   "source": [
    " \n",
    "from langchain.embeddings import OpenAIEmbeddings, HuggingFaceEmbeddings\n",
    "from langchain.vectorstores import FAISS\n",
    "\n",
    "def get_chain_type_and_top_docs(question, tokens_limit,num_tokens,docs):    \n",
    "    print(num_tokens)\n",
    "    search_complete =False\n",
    "    if num_tokens ==0 or docs is None or len(docs) == 0 or num_tokens > tokens_limit: # need to do a vector search in these cases\n",
    "        if num_tokens ==0 or docs is None or len(docs) == 0:\n",
    "            search_complete =True\n",
    "            docs = fetch_ASH_data_as_langchain_docs()\n",
    "            print(f\"number of docs returned by api: {len(docs)}\" )\n",
    "            if docs is None or len(docs) == 0:\n",
    "                return None,\"\",True\n",
    "        # Select the Embedder model\n",
    "        if len(docs) < 50:\n",
    "            # OpenAI models are accurate but slower, they also only (for now) accept one text at a time (chunk_size)\n",
    "            embedder = OpenAIEmbeddings(deployment=\"text-embedding-ada-002\", chunk_size=1) \n",
    "        else:\n",
    "            # Bert based models are faster (3x-10x) but not as great in accuracy as OpenAI models\n",
    "            # Since this repo supports Multiple languages we need to use a multilingual model. \n",
    "            # But if English only is the requirement, use \"multi-qa-MiniLM-L6-cos-v1\"\n",
    "            # The fastest english model is \"all-MiniLM-L12-v2\"\n",
    "            embedder = HuggingFaceEmbeddings(model_name = 'distiluse-base-multilingual-cased-v2') #not deployed\n",
    "        \n",
    "        print(embedder)\n",
    "        \n",
    "        # Create our in-memory vector database index from the chunks given by Azure Search.\n",
    "        # We are using FAISS. https://ai.facebook.com/tools/faiss/\n",
    "        db = FAISS.from_documents(docs, embedder)\n",
    "        top_docs = db.similarity_search(question, k=4)  # Return the top 4 documents\n",
    "        print(f\"the top docs selected by similarity search: ${len(top_docs)}\" )\n",
    "        \n",
    "        # Now we need to recalculate the tokens count of the top results from similarity vector search\n",
    "        # in order to select the chain type: stuff (all chunks in one prompt) or \n",
    "        # map_reduce (multiple calls to the LLM to summarize/reduce the chunks and then combine them)\n",
    "        \n",
    "        num_tokens = num_tokens_from_docs(top_docs)\n",
    "        print(\"Token count after similarity search:\", num_tokens)\n",
    "        chain_type = \"map_reduce\" if num_tokens > tokens_limit else \"stuff\"\n",
    "        \n",
    "    else:\n",
    "        # if total tokens is less than our limit, we don't need to vectorize and do similarity search\n",
    "        top_docs = docs\n",
    "        chain_type = \"stuff\"\n",
    "    \n",
    "    \n",
    "    return top_docs,chain_type,search_complete\n",
    "\n",
    "if mode == \"Jupyter\": \n",
    "    top_docs,chain_type,search_complete = get_chain_type_and_top_docs(QUESTION,tokens_limit,num_tokens,docs)\n",
    "    \n",
    "    print(\"Chain Type selected:\", chain_type)\n"
   ]
  },
  {
   "cell_type": "code",
   "execution_count": 561,
   "metadata": {},
   "outputs": [],
   "source": [
    "def search_wrapper(question,skip, history_text :str):\n",
    "    search_query = get_search_query(question, history_text)\n",
    "    agg_search_results, num_results_found, num_returned_results = get_agg_search_results(search_query, skip)\n",
    "    ordered_retrieved_docs = sort_and_order_content(agg_search_results)\n",
    "    langchain_docs  = create_langchain_documents(ordered_retrieved_docs)\n",
    "    tokens_limit,num_tokens = get_token_sizes(langchain_docs)\n",
    "    top_docs,chain_type,search_complete = get_chain_type_and_top_docs(question,tokens_limit,num_tokens,langchain_docs)\n",
    "    return top_docs,chain_type,search_complete, num_returned_results"
   ]
  },
  {
   "attachments": {},
   "cell_type": "markdown",
   "metadata": {},
   "source": [
    "#### Search is complete time to Summarize the data:"
   ]
  },
  {
   "cell_type": "code",
   "execution_count": 562,
   "metadata": {},
   "outputs": [],
   "source": [
    "COMBINE_QUESTION_PROMPT_TEMPLATE = \"\"\"Use the following portion of a long document to see if any of the text is relevant to answer the question. \n",
    "Return any relevant text in {language}.\n",
    "{context}\n",
    "Question: {question}\n",
    "Relevant text, if any, in {language}:\"\"\"\n",
    "\n",
    "COMBINE_QUESTION_PROMPT = PromptTemplate(\n",
    "    template=COMBINE_QUESTION_PROMPT_TEMPLATE, input_variables=[\"context\", \"question\", \"language\"]\n",
    ")\n",
    "\n",
    "\n",
    "COMBINE_PROMPT_TEMPLATE = \"\"\"\n",
    "These are examples of how you must provide the answer:\n",
    "--> Beginning of examples\n",
    "=========\n",
    "QUESTION: Which state/country's law governs the interpretation of the contract?\n",
    "=========\n",
    "Content: This Agreement is governed by English law and the parties submit to the exclusive jurisdiction of the English courts in  relation to any dispute (contractual or non-contractual) concerning this Agreement save that either party may apply to any court for an  injunction or other relief to protect its Intellectual Property Rights.\n",
    "Source: https://xxx.com/article1.pdf\n",
    "Content: No Waiver. Failure or delay in exercising any right or remedy under this Agreement shall not constitute a waiver of such (or any other)  right or remedy.\\n\\n11.7 Severability. The invalidity, illegality or unenforceability of any term (or part of a term) of this Agreement shall not affect the continuation  in force of the remainder of the term (if any) and this Agreement.\\n\\n11.8 No Agency. Except as expressly stated otherwise, nothing in this Agreement shall create an agency, partnership or joint venture of any  kind between the parties.\\n\\n11.9 No Third-Party Beneficiaries.\n",
    "Source: https://yyyy.com/article2.html\n",
    "Content: (b) if Google believes, in good faith, that the Distributor has violated or caused Google to violate any Anti-Bribery Laws (as  defined in Clause 8.5) or that such a violation is reasonably likely to occur,\n",
    "Source: https://yyyy.com/article3.csv\n",
    "Content: The terms of this Agreement shall be subject to the laws of Manchester, England, and any disputes arising from or relating to this Agreement shall be exclusively resolved by the courts of that state, except where either party may seek an injunction or other legal remedy to safeguard their Intellectual Property Rights.\n",
    "Source: https://ppp.com/article4.pdf\n",
    "=========\n",
    "FINAL ANSWER IN English: This Agreement is governed by English law, specifically the laws of Manchester, England.\n",
    "SOURCES: https://xxx.com/article1.pdf, https://ppp.com/article4.pdf\n",
    "=========\n",
    "QUESTION: What did the president say about Michael Jackson?\n",
    "=========\n",
    "Content: Madam Speaker, Madam Vice President, our First Lady and Second Gentleman. Members of Congress and the Cabinet. Justices of the Supreme Court. My fellow Americans.  \\n\\nLast year COVID-19 kept us apart. This year we are finally together again. \\n\\nTonight, we meet as Democrats Republicans and Independents. But most importantly as Americans. \\n\\nWith a duty to one another to the American people to the Constitution. \\n\\nAnd with an unwavering resolve that freedom will always triumph over tyranny. \\n\\nSix days ago, Russia’s Vladimir Putin sought to shake the foundations of the free world thinking he could make it bend to his menacing ways. But he badly miscalculated. \\n\\nHe thought he could roll into Ukraine and the world would roll over. Instead he met a wall of strength he never imagined. \\n\\nHe met the Ukrainian people. \\n\\nFrom President Zelenskyy to every Ukrainian, their fearlessness, their courage, their determination, inspires the world. \\n\\nGroups of citizens blocking tanks with their bodies. Everyone from students to retirees teachers turned soldiers defending their homeland.\n",
    "Source: https://fff.com/article23.pdf\n",
    "Content: And we won’t stop. \\n\\nWe have lost so much to COVID-19. Time with one another. And worst of all, so much loss of life. \\n\\nLet’s use this moment to reset. Let’s stop looking at COVID-19 as a partisan dividing line and see it for what it is: A God-awful disease.  \\n\\nLet’s stop seeing each other as enemies, and start seeing each other for who we really are: Fellow Americans.  \\n\\nWe can’t change how divided we’ve been. But we can change how we move forward—on COVID-19 and other issues we must face together. \\n\\nI recently visited the New York City Police Department days after the funerals of Officer Wilbert Mora and his partner, Officer Jason Rivera. \\n\\nThey were responding to a 9-1-1 call when a man shot and killed them with a stolen gun. \\n\\nOfficer Mora was 27 years old. \\n\\nOfficer Rivera was 22. \\n\\nBoth Dominican Americans who’d grown up on the same streets they later chose to patrol as police officers. \\n\\nI spoke with their families and told them that we are forever in debt for their sacrifice, and we will carry on their mission to restore the trust and safety every community deserves.\n",
    "Source: https://jjj.com/article56.pdf\n",
    "Content: And a proud Ukrainian people, who have known 30 years  of independence, have repeatedly shown that they will not tolerate anyone who tries to take their country backwards.  \\n\\nTo all Americans, I will be honest with you, as I’ve always promised. A Russian dictator, invading a foreign country, has costs around the world. \\n\\nAnd I’m taking robust action to make sure the pain of our sanctions  is targeted at Russia’s economy. And I will use every tool at our disposal to protect American businesses and consumers. \\n\\nTonight, I can announce that the United States has worked with 30 other countries to release 60 Million barrels of oil from reserves around the world.  \\n\\nAmerica will lead that effort, releasing 30 Million barrels from our own Strategic Petroleum Reserve. And we stand ready to do more if necessary, unified with our allies.  \\n\\nThese steps will help blunt gas prices here at home. And I know the news about what’s happening can seem alarming. \\n\\nBut I want you to know that we are going to be okay.\n",
    "Source: https://vvv.com/article145.pdf\n",
    "Content: More support for patients and families. \\n\\nTo get there, I call on Congress to fund ARPA-H, the Advanced Research Projects Agency for Health. \\n\\nIt’s based on DARPA—the Defense Department project that led to the Internet, GPS, and so much more.  \\n\\nARPA-H will have a singular purpose—to drive breakthroughs in cancer, Alzheimer’s, diabetes, and more. \\n\\nA unity agenda for the nation. \\n\\nWe can do this. \\n\\nMy fellow Americans—tonight , we have gathered in a sacred space—the citadel of our democracy. \\n\\nIn this Capitol, generation after generation, Americans have debated great questions amid great strife, and have done great things. \\n\\nWe have fought for freedom, expanded liberty, defeated totalitarianism and terror. \\n\\nAnd built the strongest, freest, and most prosperous nation the world has ever known. \\n\\nNow is the hour. \\n\\nOur moment of responsibility. \\n\\nOur test of resolve and conscience, of history itself. \\n\\nIt is in this moment that our character is formed. Our purpose is found. Our future is forged. \\n\\nWell I know this nation.\n",
    "Source: https://uuu.com/article15.pdf\n",
    "=========\n",
    "FINAL ANSWER IN English: The president did not mention Michael Jackson.\n",
    "SOURCES: N/A\n",
    "<-- End of examples\n",
    "Given the following extracted parts of a long document and a question, create a final answer with references (\"SOURCES\"). \n",
    "If you don't know the answer, just say that you don't know. Don't try to make up an answer.\n",
    "ALWAYS return a \"SOURCES\" part in your answer.\n",
    "Instead of using the word \"Document\" use \"Tracking ID\"\n",
    "Respond in {language}.\n",
    "=========\n",
    "Chat History:\n",
    "{chat_history}\n",
    "=========\n",
    "QUESTION: {question}\n",
    "=========\n",
    "{summaries}\n",
    "=========\n",
    "FINAL ANSWER IN {language}:\"\"\"\n",
    "\n",
    "\n",
    "COMBINE_PROMPT = PromptTemplate(\n",
    "    template=COMBINE_PROMPT_TEMPLATE, input_variables=[\"summaries\", \"question\", \"language\", \"chat_history\"]\n",
    ")"
   ]
  },
  {
   "cell_type": "code",
   "execution_count": 563,
   "metadata": {},
   "outputs": [],
   "source": [
    "# Set the ENV variables that Langchain needs to connect to Azure OpenAI\n",
    "os.environ[\"OPENAI_API_BASE\"] = os.environ[\"AZURE_OPENAI_ENDPOINT\"] = AZURE_OPENAI_ENDPOINT\n",
    "os.environ[\"OPENAI_API_KEY\"] = os.environ[\"AZURE_OPENAI_API_KEY\"] = AZURE_OPENAI_API_KEY\n",
    "os.environ[\"OPENAI_API_VERSION\"] = os.environ[\"AZURE_OPENAI_API_VERSION\"] = AZURE_OPENAI_API_VERSION\n",
    "os.environ[\"OPENAI_API_TYPE\"] = \"azure\"   \n",
    "\n",
    "\n",
    "\n",
    "def get_chat_response(question,llm2,chain_type,top_docs, chat_history):\n",
    "\n",
    "    if top_docs is not None and len(top_docs)> 0:\n",
    "        if chain_type == \"stuff\":\n",
    "            chain = load_qa_with_sources_chain(llm2, chain_type=chain_type, \n",
    "                                            prompt=COMBINE_PROMPT)\n",
    "        elif chain_type == \"map_reduce\":\n",
    "            chain = load_qa_with_sources_chain(llm2, chain_type=chain_type, \n",
    "                                            question_prompt=COMBINE_QUESTION_PROMPT,\n",
    "                                            combine_prompt=COMBINE_PROMPT,\n",
    "                                            return_intermediate_steps=True)\n",
    "\n",
    "        response = chain({\"input_documents\": top_docs, \"question\": question, \"language\": \"English\", \"chat_history\": chat_history})\n",
    "        answer = response['output_text']\n",
    "        #print(response)\n",
    "        print(answer)\n",
    "        return answer\n",
    "    return \"\"\n",
    "\n",
    "if mode == \"Jupyter\":\n",
    "    # Create our LLM model\n",
    "    # Make sure you have the deployment named \"gpt-35-turbo\" for the model \"gpt-35-turbo (0301)\". \n",
    "    # Use \"gpt-4\" if you have it available.\n",
    "    llm2 = AzureChatOpenAI(deployment_name=MODEL, temperature=0, max_tokens=500)\n",
    "    answer = get_chat_response(QUESTION,llm2,chain_type,top_docs)"
   ]
  },
  {
   "attachments": {},
   "cell_type": "markdown",
   "metadata": {},
   "source": [
    "##### remember history"
   ]
  },
  {
   "cell_type": "code",
   "execution_count": 564,
   "metadata": {},
   "outputs": [],
   "source": [
    "h_arr = [] #history array\n",
    "\n",
    "def add_history(history_arr, user_input= \"\", answer = \"\"):\n",
    "    \n",
    "    if user_input == None or user_input == \"\":\n",
    "        return history_arr\n",
    "    \n",
    "    history_dict = {}\n",
    "    history_dict['user'] = user_input\n",
    "    history_dict['bot'] = answer\n",
    "    history_arr.append(history_dict)\n",
    "    return history_arr\n",
    "\n",
    "\n",
    "\n",
    "def get_chat_history_as_text(history, include_last_turn=True, approx_max_tokens=1000) -> str:\n",
    "        history_text = \"\"\n",
    "        for h in reversed(history if include_last_turn else history[:-1]):\n",
    "            history_text = \"\"\"<|im_start|>user\"\"\" +\"\\n\" + h[\"user\"] + \"\\n\" + \"\"\"<|im_end|>\"\"\" + \"\\n\" + \"\"\"<|im_start|>assistant\"\"\" + \"\\n\" + (h.get(\"bot\") + \"\"\"<|im_end|>\"\"\" if h.get(\"bot\") else \"\") + \"\\n\" + history_text\n",
    "            if len(history_text) > approx_max_tokens*4:\n",
    "                break    \n",
    "        return history_text\n",
    "\n",
    "\n",
    "if mode == \"Jupyter\":\n",
    "     h_arr = add_history(h_arr, QUESTION, answer)\n",
    "     print (h_arr)\n",
    "     history_text = get_chat_history_as_text(h_arr)\n",
    "     print (history_text)"
   ]
  },
  {
   "cell_type": "code",
   "execution_count": 565,
   "metadata": {},
   "outputs": [],
   "source": [
    "  \n",
    "\n",
    "\n",
    "\n",
    "def get_chat_response(question,llm2,chain_type,top_docs, chat_history):\n",
    "    print (\"chat_history: \", chat_history)\n",
    "    \n",
    "    if top_docs is not None and len(top_docs)> 0:\n",
    "        if chain_type == \"stuff\":\n",
    "            chain = load_qa_with_sources_chain(llm2, chain_type=chain_type, \n",
    "                                            prompt=COMBINE_PROMPT)\n",
    "        elif chain_type == \"map_reduce\":\n",
    "            chain = load_qa_with_sources_chain(llm2, chain_type=chain_type, \n",
    "                                            question_prompt=COMBINE_QUESTION_PROMPT,\n",
    "                                            combine_prompt=COMBINE_PROMPT,\n",
    "                                            return_intermediate_steps=True)\n",
    "\n",
    "        response = chain({\"input_documents\": top_docs, \"question\": question, \"language\": \"English\", \"chat_history\": chat_history})\n",
    "        answer = response['output_text']\n",
    "        #print(response)\n",
    "        print(answer)\n",
    "        return answer\n",
    "    return \"\"\n"
   ]
  },
  {
   "cell_type": "code",
   "execution_count": 566,
   "metadata": {},
   "outputs": [],
   "source": [
    "\n",
    "if mode == \"Jupyter\":\n",
    "    # Create our LLM model\n",
    "    # Make sure you have the deployment named \"gpt-35-turbo\" for the model \"gpt-35-turbo (0301)\". \n",
    "    # Use \"gpt-4\" if you have it available.\n",
    "    llm2 = AzureChatOpenAI(deployment_name=MODEL, temperature=0, max_tokens=500)\n",
    "    answer = get_chat_response(search_query,llm2,chain_type,top_docs, history_text)\n"
   ]
  },
  {
   "cell_type": "code",
   "execution_count": 567,
   "metadata": {},
   "outputs": [],
   "source": [
    "if mode == \"Jupyter\":\n",
    "    display(HTML('<h4>Azure OpenAI ChatGPT Answer:</h4>'))\n",
    "    display(HTML(answer.split(\"SOURCES:\")[0]))\n",
    "\n"
   ]
  },
  {
   "cell_type": "code",
   "execution_count": 568,
   "metadata": {},
   "outputs": [],
   "source": [
    "#we get the sources:\n",
    "if mode == \"Jupyter\":\n",
    "    \n",
    "    sources_list = answer.split(\"SOURCES:\")[1].replace(\" \",\"\").split(\",\")\n",
    "    sources_html = '<u>Sources</u>: '\n",
    "    display(HTML(sources_html))\n",
    "    for index, value in enumerate(sources_list):\n",
    "        print(value)"
   ]
  },
  {
   "attachments": {},
   "cell_type": "markdown",
   "metadata": {},
   "source": [
    "#### Running the flask service"
   ]
  },
  {
   "cell_type": "code",
   "execution_count": 569,
   "metadata": {},
   "outputs": [],
   "source": [
    "\n",
    "\n",
    "def orchestrate_simple_chat(llm3, question: str, skip: int, history_arr: list):\n",
    "\n",
    "    # convert history into text.\n",
    "    chat_history = get_chat_history_as_text(history_arr)\n",
    "    \n",
    "    #search\n",
    "    top_docs3,chain_type3,search_complete,num_searched_docs = search_wrapper(question, skip, chat_history)\n",
    "\n",
    "    #prompt chatgpt               \n",
    "    answer3 = get_chat_response(question,llm3,chain_type3,top_docs3, chat_history)\n",
    "    try:\n",
    "        answer = answer3.split(\"SOURCES:\")[0]\n",
    "    except:\n",
    "        answer = \"\"\n",
    "\n",
    "    try:\n",
    "        sources = answer3.split(\"SOURCES:\")[1].replace(\" \",\"\").split(\",\")\n",
    "    except: \n",
    "        sources = \"\"     \n",
    "\n",
    "    history_arr =  add_history(history_arr,question, answer)      \n",
    "    print (\"chat_history: \", history_arr)\n",
    "    \n",
    "    return jsonify(answer = answer , source_tracking_ids = sources, next_skip = skip +1, search_complete = search_complete), history_arr    "
   ]
  },
  {
   "cell_type": "code",
   "execution_count": 570,
   "metadata": {},
   "outputs": [
    {
     "name": "stdout",
     "output_type": "stream",
     "text": [
      " * Serving Flask app '__main__'\n",
      " * Debug mode: off\n"
     ]
    },
    {
     "name": "stderr",
     "output_type": "stream",
     "text": [
      "WARNING: This is a development server. Do not use it in a production deployment. Use a production WSGI server instead.\n",
      " * Running on http://127.0.0.1:5000\n",
      "Press CTRL+C to quit\n",
      "127.0.0.1 - - [06/Jun/2023 22:44:09] \"GET /askQuestion?question=when%20did%20I%20have%20authentication%20issues HTTP/1.1\" 308 -\n"
     ]
    },
    {
     "name": "stdout",
     "output_type": "stream",
     "text": [
      "the question is: when did I have authentication issues\n",
      "skip is: 0\n",
      "chat_history:  \n",
      "Not calling GPT to make query\n",
      "search query: \n",
      "Calling Azure search to get relevant documents...\n",
      "skipping 0 documents\n",
      "https://fhl-abhishek-search.search.windows.net/indexes/fhlabhishekindex/docs?api-version=2021-04-30-Preview&search=when did I have authentication issues&select=*&$top=5&filter=0&queryLanguage=en-us&queryType=semantic&semanticConfiguration=fhlabhishek-semantic-config&$count=true&speller=lexicon&answers=extractive|count-3&captions=extractive|highlight-false&$skip=0\n",
      "search results: {'@odata.context': \"https://fhl-abhishek-search.search.windows.net/indexes('fhlabhishekindex')/$metadata#docs(*)\", '@odata.count': 8, '@search.answers': [], 'value': [{'@search.score': 0.9433406, '@search.rerankerScore': 0.6332778930664062, '@search.captions': [{'text': 'AAD Provisioning Services - Errors When Configuring Provisioning Scenarios - Mitigated. AAD Provisioning Services - Errors When Configuring Provisioning Scenarios - Mitigated. AAD Provisioning Services - Errors When Configuring Provisioning Scenarios - Mitigated.', 'highlights': ''}], 'id': 'WNXY-RS8', 'title': 'AAD Provisioning Services - Errors When Configuring Provisioning Scenarios - Mitigated', 'language': 'en', 'pages': ['Summary of Impact: Between 17:20 UTC on 12 May 2023 and 16:42 UTC on 29 May 2023, you were identified as a customer using Azure Active Directory Provisioning Services for applications with multiple authentication methods, who may have experienced errors when configuring provisioning scenarios.\\nPreliminary Root Cause: A code regression in a recent deployment introduced a bug that was responsible for the previously mentioned symptoms.\\nMitigation: We rolled back to a previously known stable version prior to the introduction of the code regression to ensure that normal operations would resume.\\nNext Steps:\\xa0We will continue to investigate how this code regression came about in order to prevent future occurrences. Stay informed about Azure service issues by creating custom service health alerts:\\xa0https://aka.ms/ash-videos\\xa0for video tutorials and\\xa0https://aka.ms/ash-alerts\\xa0for how-to documentation.'], 'startTime': '2023-05-29T14:19:53.633Z', 'mitigationTime': '2023-05-29T16:42:00Z'}, {'@search.score': 1.7600523, '@search.rerankerScore': 0.6143302917480469, '@search.captions': [{'text': 'RCA - Azure Multi-Factor Authentication - MFA Pull Down Refresh Issues. RCA - Azure Multi-Factor Authentication - MFA Pull Down Refresh Issues. RCA - Azure Multi-Factor Authentication - MFA Pull Down Refresh Issues.', 'highlights': ''}], 'id': 'FLX7-VD8', 'title': 'RCA - Azure Multi-Factor Authentication - MFA Pull Down Refresh Issues', 'language': 'en', 'pages': ['What happened?\\nYou were impacted by a platform issue that caused some of our Multi-Factor Authentication (MFA) customers to experience issues when attempting a pull-down refresh using the Microsoft Authenticator app on Android devices, between 19:19 UTC on 6 Mar 2023 and 22:20 UTC on 21 March 2023. While this issue impacted only one scenario where customers used a pull-down refresh instead of interacting with the push notification, unfortunately it impacted one or more of your Azure subscriptions. That’s why we’re providing you with this Post Incident Review (PIR) – to summarize what went wrong, how we responded, and the steps Microsoft is taking to learn from this and improve.\\nWhat went wrong and why?\\nThe Microsoft Authenticator app has support for a client-initiated refresh to allow customers to poll for a pending notification from the service. A recent service update contained a new feature that exposed a code issue when refreshing the Microsoft Authenticator app using the Pull-to-Refresh feature on Android devices. This only impacted users that utilize the Pull-to-Refresh feature on specific versions of the Microsoft Authenticator app to receive the authentication notification. Interactions with push notifications were not affected. While the service update followed our safe deployment practices, this break was not detected until reported by customers as the volume of Microsoft Authenticator Pull-to-Refresh requests from Android devices is very low.\\nHow did we respond?\\nUpon receiving the customer reports, we investigated and identified the feature that was causing this experience degradation. A configuration override was prepared by 19:39 UTC on 21 March 2023 and safely rolled out to mitigate the impact by 22:20 UTC on 21 March 2023. Affected customers may have needed to re-register their devices for multi-factor authentication.\\nHow are we making incidents like this less likely or less impactful?\\nWe are enhancing our telemetry to detect these issues on a per flow granularity instead of a holistic one. This will show us immediately when one of these flows is affected by an issue in the future.\\nWe are also taking steps to ensure that low volume scenarios have adequate validations to help protect against the possibility of this kind of failure.\\nHow can customers make incidents like this less impactful?\\nFinally, consider ensuring that the right people in your organization will be notified about any future service issues - by configuring Azure Service Health alerts. These can trigger emails, SMS, push notifications, webhooks, and more: https://aka.ms/ash-alerts\\nHow can we make our incident communications more useful?\\nYou can rate this PIR and provide any feedback using our quick 3-question survey.'], 'startTime': '2023-03-17T09:05:33.49Z', 'mitigationTime': '2023-03-21T10:20:28Z'}, {'@search.score': 0.28582606, '@search.rerankerScore': 0.5943984985351562, '@search.captions': [{'text': 'Azure Multi-Factor Authentication (MFA) - Applying Mitigation. Azure Multi-Factor Authentication (MFA) - Applying Mitigation. Azure Multi-Factor Authentication (MFA) - Applying Mitigation.', 'highlights': ''}], 'id': 'BL8Y-DT8', 'title': 'Azure Multi-Factor Authentication (MFA) - Applying Mitigation', 'language': 'en', 'pages': ['Summary of impact:\\xa0Between 05:38 UTC on 12 May 2023 and and 07:48 UTC on 20 May 2023, you were identified as a customer using Azure Multi-Factor Authentication (MFA) wherein users may be blocked while using Windows first time setup (Out of Box Experience) or Windows Intune AutoPilot and Authenticator App with Code Match is used as an MFA method.\\nPreliminary root cause:\\xa0A recent code change to update the service introduced a bug that caused the issue.\\xa0\\nMitigation:\\xa0We rolled out a fix in the update code to mitigate the issue.\\xa0\\nNext steps:\\xa0We will continue to investigate to establish the full root cause and prevent future occurrences. Stay informed about Azure service issues by creating custom service health alerts:\\xa0\\xa0https://aka.ms/ash-videos\\xa0for video tutorials and\\xa0\\xa0https://aka.ms/ash-alerts\\xa0for how-to documentation.'], 'startTime': '2023-05-19T06:21:30.633Z', 'mitigationTime': '2023-05-20T07:48:21Z'}, {'@search.score': 1.6088759, '@search.rerankerScore': 0.5410366058349609, '@search.captions': [{'text': 'PIR/ RCA - Azure Multi-Factor Authentication - Issues with Push Notifications. PIR/ RCA - Azure Multi-Factor Authentication - Issues with Push Notifications. PIR/ RCA - Azure Multi-Factor Authentication - Issues with Push Notifications.', 'highlights': ''}], 'id': 'M0L-VC0', 'title': 'PIR/ RCA - Azure Multi-Factor Authentication - Issues with Push Notifications', 'language': 'en', 'pages': [\"What happened?\\nBetween 13:00 UTC and 14:05 UTC on 12 April 2023 you were identified as a customer using Azure Multi-Factor Authentication (MFA) that may have experienced difficulties receiving push notifications on their Android phones due to an issue with a third-party provider. Apple iOS users, and other MFA methods, were not impacted.\\nWhat went wrong and why?\\nWe determined the cause of these push notification issues was due to an issue with a third-party provider's push notification service. We determined that calls to this service were experiencing a high rate of errors.\\xa0\\nHow did we respond?\\nWe were alerted to the issue by monitoring. We were able to fall back to a legacy system that was operating normally with minimal failures. We manually performed a failover following our safe deployment practices, which allowed MFA to completely recover. Once the third-party provider's push notification service recovered, we failed back the traffic.\\xa0\\nHow are we making incidents like this less likely or less impactful?\\nWe improved the resiliency of the service by configuring an automatic failover of push notification traffic to the legacy system if the primary system experiences degradation. (Completed)We are updating our public documentation, recommending customers to complete the MFA request (even without a push notification) by opening the Microsoft Authenticator app and approving. (Completed)We are improving the user experience for similar issues, to convey that users can complete the MFA request by opening the Authenticator App if they are not receiving push notification (Estimated Completion: October 2023).\\nHow can customers make incidents like this less impactful?\\nConsider ensuring that the right people in your organization will be notified about any future service issues - by configuring Azure Service Health alerts. These can trigger emails, SMS, push notifications, webhooks, and more:\\xa0https://aka.ms/ash-alerts\\nHow can we make our incident communications more useful?\\nYou can rate this PIR and provide any feedback using our quick 3-question survey.\"], 'startTime': '2023-04-12T13:00:27Z', 'mitigationTime': '2023-04-12T14:05:28Z'}, {'@search.score': 0.2824934, '@search.rerankerScore': 0.45794105529785156, '@search.captions': [{'text': 'PIR - Azure Multi-Factor Authentication. PIR - Azure Multi-Factor Authentication. PIR - Azure Multi-Factor Authentication.', 'highlights': ''}], 'id': 'FKPH-7Z8', 'title': 'PIR - Azure Multi-Factor Authentication', 'language': 'en', 'pages': ['What happened?\\nBetween 13:00 UTC and 15:50 UTC on 4 April 2023, customers using Authenticator App for Azure Multi-Factor Authentication (MFA) may have experienced difficulties in receiving push notification on their Android phones to sign into Azure resources, such as Azure Active Directory, when Multi-Factor Authentication is required by policy. As this issue was global and impacted more than one region, we are providing you with this Post Incident Review (PIR) to summarize what went wrong, how we responded, and the steps Microsoft is taking to learn from this and improve.\\nWhat went wrong and why?\\nThe cause of the issue was a third-party push notification service experiencing high rates of errors.\\nHow did we respond?\\nOur monitors alerted us about the issue. The dashboard indicated that the issue was global impacting multiple regions. Based our our investigation it was revealed that the legacy channel, which is planned to be deprecated sometime in future, was operating normal with minimal failures. We manually performed a failover to the legacy channel following safe deployment plan, which allowed Azure MFA to completely recover. Once the third-party push notification service declared mitigation, we failed back the traffic.\\nHow are we making incidents like this less likely or less impactful?\\nWe have updated our troubleshooting guide to consider failing over the traffic to legacy channel for push notification traffic for Android if the primary channel is experiencing degradation (Completed).We are working on improving the resiliency to automatically failover push notification traffic to legacy channel if the primary channel experiences degradation.We are improving our public documentation so it recommends customers to complete the MFA request by opening up Microsoft Authenticator App and approving the request.In the longer term, we are improving the user experience to convey that they can complete the MFA request by opening the Authenticator App, if they are not receiving push notification.\\nHow can we make our incident communications more useful?\\nYou can rate this PIR and provide any feedback using our quick 3-question survey.'], 'startTime': '2023-04-04T13:00:42Z', 'mitigationTime': '2023-04-04T16:34:00Z'}]}\n",
      "Results Found: 8, Results Returned: 5\n",
      "$WNXY-RS8 - $AAD Provisioning Services - Errors When Configuring Provisioning Scenarios - Mitigated - $0.63\n",
      "$FLX7-VD8 - $RCA - Azure Multi-Factor Authentication - MFA Pull Down Refresh Issues - $0.61\n",
      "$BL8Y-DT8 - $Azure Multi-Factor Authentication (MFA) - Applying Mitigation - $0.59\n",
      "$M0L-VC0 - $PIR/ RCA - Azure Multi-Factor Authentication - Issues with Push Notifications - $0.54\n",
      "Custom token limit for gpt-35-turbo : 3000\n",
      "Combined docs tokens count: 1303\n",
      "1303\n",
      "chat_history:  \n"
     ]
    },
    {
     "name": "stderr",
     "output_type": "stream",
     "text": [
      "127.0.0.1 - - [06/Jun/2023 22:44:11] \"GET /askQuestion/?question=when%20did%20I%20have%20authentication%20issues HTTP/1.1\" 200 -\n"
     ]
    },
    {
     "name": "stdout",
     "output_type": "stream",
     "text": [
      "I don't know when you had authentication issues. None of the provided Tracking IDs mention a timeframe that matches the question. \n",
      "SOURCES: N/A\n",
      "chat_history:  [{'user': 'when did I have authentication issues', 'bot': \"I don't know when you had authentication issues. None of the provided Tracking IDs mention a timeframe that matches the question. \\n\"}]\n"
     ]
    },
    {
     "name": "stderr",
     "output_type": "stream",
     "text": [
      "127.0.0.1 - - [06/Jun/2023 22:44:16] \"GET /askQuestion?question=when%20did%20I%20have%20authentication%20issues HTTP/1.1\" 308 -\n"
     ]
    },
    {
     "name": "stdout",
     "output_type": "stream",
     "text": [
      "the question is: when did I have authentication issues\n",
      "skip is: 0\n",
      "chat_history:  <|im_start|>user\n",
      "when did I have authentication issues\n",
      "<|im_end|>\n",
      "<|im_start|>assistant\n",
      "I don't know when you had authentication issues. None of the provided Tracking IDs mention a timeframe that matches the question. \n",
      "<|im_end|>\n",
      "\n",
      "Azure authentication issues history<|im_end|>\n",
      "search query: Azure authentication issues history<|im_end|>\n",
      "Calling Azure search to get relevant documents...\n",
      "skipping 0 documents\n"
     ]
    },
    {
     "name": "stderr",
     "output_type": "stream",
     "text": [
      "Retrying langchain.chat_models.openai.ChatOpenAI.completion_with_retry.<locals>._completion_with_retry in 1.0 seconds as it raised RateLimitError: Requests to the Creates a completion for the chat message Operation under Azure OpenAI API version 2023-03-15-preview have exceeded call rate limit of your current OpenAI S0 pricing tier. Please retry after 3 seconds. Please go here: https://aka.ms/oai/quotaincrease if you would like to further increase the default rate limit..\n"
     ]
    },
    {
     "name": "stdout",
     "output_type": "stream",
     "text": [
      "https://fhl-abhishek-search.search.windows.net/indexes/fhlabhishekindex/docs?api-version=2021-04-30-Preview&search=Azure authentication issues history<|im_end|>&select=*&$top=5&filter=0&queryLanguage=en-us&queryType=semantic&semanticConfiguration=fhlabhishek-semantic-config&$count=true&speller=lexicon&answers=extractive|count-3&captions=extractive|highlight-false&$skip=0\n",
      "search results: {'@odata.context': \"https://fhl-abhishek-search.search.windows.net/indexes('fhlabhishekindex')/$metadata#docs(*)\", '@odata.count': 16, '@search.answers': [], 'value': [{'@search.score': 1.8798603, '@search.rerankerScore': 1.0486984252929688, '@search.captions': [{'text': 'RCA - Azure Multi-Factor Authentication - MFA Pull Down Refresh Issues. RCA - Azure Multi-Factor Authentication - MFA Pull Down Refresh Issues. RCA - Azure Multi-Factor Authentication - MFA Pull Down Refresh Issues.', 'highlights': ''}], 'id': 'FLX7-VD8', 'title': 'RCA - Azure Multi-Factor Authentication - MFA Pull Down Refresh Issues', 'language': 'en', 'pages': ['What happened?\\nYou were impacted by a platform issue that caused some of our Multi-Factor Authentication (MFA) customers to experience issues when attempting a pull-down refresh using the Microsoft Authenticator app on Android devices, between 19:19 UTC on 6 Mar 2023 and 22:20 UTC on 21 March 2023. While this issue impacted only one scenario where customers used a pull-down refresh instead of interacting with the push notification, unfortunately it impacted one or more of your Azure subscriptions. That’s why we’re providing you with this Post Incident Review (PIR) – to summarize what went wrong, how we responded, and the steps Microsoft is taking to learn from this and improve.\\nWhat went wrong and why?\\nThe Microsoft Authenticator app has support for a client-initiated refresh to allow customers to poll for a pending notification from the service. A recent service update contained a new feature that exposed a code issue when refreshing the Microsoft Authenticator app using the Pull-to-Refresh feature on Android devices. This only impacted users that utilize the Pull-to-Refresh feature on specific versions of the Microsoft Authenticator app to receive the authentication notification. Interactions with push notifications were not affected. While the service update followed our safe deployment practices, this break was not detected until reported by customers as the volume of Microsoft Authenticator Pull-to-Refresh requests from Android devices is very low.\\nHow did we respond?\\nUpon receiving the customer reports, we investigated and identified the feature that was causing this experience degradation. A configuration override was prepared by 19:39 UTC on 21 March 2023 and safely rolled out to mitigate the impact by 22:20 UTC on 21 March 2023. Affected customers may have needed to re-register their devices for multi-factor authentication.\\nHow are we making incidents like this less likely or less impactful?\\nWe are enhancing our telemetry to detect these issues on a per flow granularity instead of a holistic one. This will show us immediately when one of these flows is affected by an issue in the future.\\nWe are also taking steps to ensure that low volume scenarios have adequate validations to help protect against the possibility of this kind of failure.\\nHow can customers make incidents like this less impactful?\\nFinally, consider ensuring that the right people in your organization will be notified about any future service issues - by configuring Azure Service Health alerts. These can trigger emails, SMS, push notifications, webhooks, and more: https://aka.ms/ash-alerts\\nHow can we make our incident communications more useful?\\nYou can rate this PIR and provide any feedback using our quick 3-question survey.'], 'startTime': '2023-03-17T09:05:33.49Z', 'mitigationTime': '2023-03-21T10:20:28Z'}, {'@search.score': 1.9943545, '@search.rerankerScore': 0.9152584075927734, '@search.captions': [{'text': 'PIR/ RCA - Azure Multi-Factor Authentication - Issues with Push Notifications. PIR/ RCA - Azure Multi-Factor Authentication - Issues with Push Notifications. PIR/ RCA - Azure Multi-Factor Authentication - Issues with Push Notifications.', 'highlights': ''}], 'id': 'M0L-VC0', 'title': 'PIR/ RCA - Azure Multi-Factor Authentication - Issues with Push Notifications', 'language': 'en', 'pages': [\"What happened?\\nBetween 13:00 UTC and 14:05 UTC on 12 April 2023 you were identified as a customer using Azure Multi-Factor Authentication (MFA) that may have experienced difficulties receiving push notifications on their Android phones due to an issue with a third-party provider. Apple iOS users, and other MFA methods, were not impacted.\\nWhat went wrong and why?\\nWe determined the cause of these push notification issues was due to an issue with a third-party provider's push notification service. We determined that calls to this service were experiencing a high rate of errors.\\xa0\\nHow did we respond?\\nWe were alerted to the issue by monitoring. We were able to fall back to a legacy system that was operating normally with minimal failures. We manually performed a failover following our safe deployment practices, which allowed MFA to completely recover. Once the third-party provider's push notification service recovered, we failed back the traffic.\\xa0\\nHow are we making incidents like this less likely or less impactful?\\nWe improved the resiliency of the service by configuring an automatic failover of push notification traffic to the legacy system if the primary system experiences degradation. (Completed)We are updating our public documentation, recommending customers to complete the MFA request (even without a push notification) by opening the Microsoft Authenticator app and approving. (Completed)We are improving the user experience for similar issues, to convey that users can complete the MFA request by opening the Authenticator App if they are not receiving push notification (Estimated Completion: October 2023).\\nHow can customers make incidents like this less impactful?\\nConsider ensuring that the right people in your organization will be notified about any future service issues - by configuring Azure Service Health alerts. These can trigger emails, SMS, push notifications, webhooks, and more:\\xa0https://aka.ms/ash-alerts\\nHow can we make our incident communications more useful?\\nYou can rate this PIR and provide any feedback using our quick 3-question survey.\"], 'startTime': '2023-04-12T13:00:27Z', 'mitigationTime': '2023-04-12T14:05:28Z'}, {'@search.score': 0.5716521, '@search.rerankerScore': 0.8946533203125, '@search.captions': [{'text': 'Azure Multi-Factor Authentication (MFA) - Applying Mitigation. Azure Multi-Factor Authentication (MFA) - Applying Mitigation. Azure Multi-Factor Authentication (MFA) - Applying Mitigation.', 'highlights': ''}], 'id': 'BL8Y-DT8', 'title': 'Azure Multi-Factor Authentication (MFA) - Applying Mitigation', 'language': 'en', 'pages': ['Summary of impact:\\xa0Between 05:38 UTC on 12 May 2023 and and 07:48 UTC on 20 May 2023, you were identified as a customer using Azure Multi-Factor Authentication (MFA) wherein users may be blocked while using Windows first time setup (Out of Box Experience) or Windows Intune AutoPilot and Authenticator App with Code Match is used as an MFA method.\\nPreliminary root cause:\\xa0A recent code change to update the service introduced a bug that caused the issue.\\xa0\\nMitigation:\\xa0We rolled out a fix in the update code to mitigate the issue.\\xa0\\nNext steps:\\xa0We will continue to investigate to establish the full root cause and prevent future occurrences. Stay informed about Azure service issues by creating custom service health alerts:\\xa0\\xa0https://aka.ms/ash-videos\\xa0for video tutorials and\\xa0\\xa0https://aka.ms/ash-alerts\\xa0for how-to documentation.'], 'startTime': '2023-05-19T06:21:30.633Z', 'mitigationTime': '2023-05-20T07:48:21Z'}, {'@search.score': 0.38080662, '@search.rerankerScore': 0.8106784820556641, '@search.captions': [{'text': 'PIR/RCA - Azure MFA - Difficulties signing into Azure resources. PIR/RCA - Azure MFA - Difficulties signing into Azure resources. PIR/RCA - Azure MFA - Difficulties signing into Azure resources.', 'highlights': ''}], 'id': 'BKTY-9C8', 'title': 'PIR/RCA - Azure MFA - Difficulties signing into Azure resources', 'language': 'en', 'pages': ['What happened?\\nBetween 17:20 UTC and 18:23 UTC on 18 May 2023, customers using voice calls for Multi-Factor Authentication (MFA) in the USA may have experienced difficulties signing into Azure resources, such as Azure Active Directory, when Multi-Factor Authentication is required by policy.\\nThat’s why we’re providing you with this Post Incident Review (PIR) – to summarize what went wrong, how we responded, and the steps Microsoft is taking to learn from this and improve.\\nWhat went wrong?\\nOur telemetry indicated that the issue was related to voice service providers in the USA which impacted Azure MFA users.\\nHow did we respond?\\nThe voice service providers in the USA recovered, which subsequently mitigated the impact to Azure MFA\\nHow are we making incidents like this less likely or less impactful?\\nWe will continue to work with the various voice service providers to prevent recurrence.\\nHow can we make our incident communications more useful?\\nYou can rate this PIR and provide any feedback using our quick\\xa03-question survey.'], 'startTime': '2023-05-18T17:49:41.417Z', 'mitigationTime': '2023-05-18T18:23:36Z'}, {'@search.score': 0.5649868, '@search.rerankerScore': 0.7936248779296875, '@search.captions': [{'text': 'PIR - Azure Multi-Factor Authentication. PIR - Azure Multi-Factor Authentication. PIR - Azure Multi-Factor Authentication.', 'highlights': ''}], 'id': 'FKPH-7Z8', 'title': 'PIR - Azure Multi-Factor Authentication', 'language': 'en', 'pages': ['What happened?\\nBetween 13:00 UTC and 15:50 UTC on 4 April 2023, customers using Authenticator App for Azure Multi-Factor Authentication (MFA) may have experienced difficulties in receiving push notification on their Android phones to sign into Azure resources, such as Azure Active Directory, when Multi-Factor Authentication is required by policy. As this issue was global and impacted more than one region, we are providing you with this Post Incident Review (PIR) to summarize what went wrong, how we responded, and the steps Microsoft is taking to learn from this and improve.\\nWhat went wrong and why?\\nThe cause of the issue was a third-party push notification service experiencing high rates of errors.\\nHow did we respond?\\nOur monitors alerted us about the issue. The dashboard indicated that the issue was global impacting multiple regions. Based our our investigation it was revealed that the legacy channel, which is planned to be deprecated sometime in future, was operating normal with minimal failures. We manually performed a failover to the legacy channel following safe deployment plan, which allowed Azure MFA to completely recover. Once the third-party push notification service declared mitigation, we failed back the traffic.\\nHow are we making incidents like this less likely or less impactful?\\nWe have updated our troubleshooting guide to consider failing over the traffic to legacy channel for push notification traffic for Android if the primary channel is experiencing degradation (Completed).We are working on improving the resiliency to automatically failover push notification traffic to legacy channel if the primary channel experiences degradation.We are improving our public documentation so it recommends customers to complete the MFA request by opening up Microsoft Authenticator App and approving the request.In the longer term, we are improving the user experience to convey that they can complete the MFA request by opening the Authenticator App, if they are not receiving push notification.\\nHow can we make our incident communications more useful?\\nYou can rate this PIR and provide any feedback using our quick 3-question survey.'], 'startTime': '2023-04-04T13:00:42Z', 'mitigationTime': '2023-04-04T16:34:00Z'}]}\n",
      "Results Found: 16, Results Returned: 5\n",
      "$FLX7-VD8 - $RCA - Azure Multi-Factor Authentication - MFA Pull Down Refresh Issues - $1.05\n",
      "$M0L-VC0 - $PIR/ RCA - Azure Multi-Factor Authentication - Issues with Push Notifications - $0.92\n",
      "$BL8Y-DT8 - $Azure Multi-Factor Authentication (MFA) - Applying Mitigation - $0.89\n",
      "$BKTY-9C8 - $PIR/RCA - Azure MFA - Difficulties signing into Azure resources - $0.81\n",
      "$FKPH-7Z8 - $PIR - Azure Multi-Factor Authentication - $0.79\n",
      "Custom token limit for gpt-35-turbo : 3000\n",
      "Combined docs tokens count: 1734\n",
      "1734\n",
      "chat_history:  <|im_start|>user\n",
      "when did I have authentication issues\n",
      "<|im_end|>\n",
      "<|im_start|>assistant\n",
      "I don't know when you had authentication issues. None of the provided Tracking IDs mention a timeframe that matches the question. \n",
      "<|im_end|>\n",
      "\n"
     ]
    },
    {
     "name": "stderr",
     "output_type": "stream",
     "text": [
      "Retrying langchain.chat_models.openai.ChatOpenAI.completion_with_retry.<locals>._completion_with_retry in 2.0 seconds as it raised RateLimitError: Requests to the Creates a completion for the chat message Operation under Azure OpenAI API version 2023-03-15-preview have exceeded call rate limit of your current OpenAI S0 pricing tier. Please retry after 2 seconds. Please go here: https://aka.ms/oai/quotaincrease if you would like to further increase the default rate limit..\n",
      "127.0.0.1 - - [06/Jun/2023 22:44:23] \"GET /askQuestion/?question=when%20did%20I%20have%20authentication%20issues HTTP/1.1\" 200 -\n"
     ]
    },
    {
     "name": "stdout",
     "output_type": "stream",
     "text": [
      "You had authentication issues between 13:00 UTC and 14:05 UTC on 12 April 2023, between 05:38 UTC on 12 May 2023 and 07:48 UTC on 20 May 2023, and between 13:00 UTC and 15:50 UTC on 4 April 2023. \n",
      "SOURCES: Tracking IDs M0L-VC0, BL8Y-DT8, and FKPH-7Z8.\n",
      "chat_history:  [{'user': 'when did I have authentication issues', 'bot': \"I don't know when you had authentication issues. None of the provided Tracking IDs mention a timeframe that matches the question. \\n\"}, {'user': 'when did I have authentication issues', 'bot': 'You had authentication issues between 13:00 UTC and 14:05 UTC on 12 April 2023, between 05:38 UTC on 12 May 2023 and 07:48 UTC on 20 May 2023, and between 13:00 UTC and 15:50 UTC on 4 April 2023. \\n'}]\n"
     ]
    }
   ],
   "source": [
    "# flask service\n",
    "\n",
    "if mode == \"Service\":\n",
    "\n",
    "    \n",
    "    app = Flask(__name__)\n",
    "\n",
    "    HTTP_400_BAD_REQUEST = 400\n",
    "\n",
    "   \n",
    "    llm3 = AzureChatOpenAI(deployment_name=MODEL, temperature=0, max_tokens=500)\n",
    "    history_arr = []\n",
    "\n",
    "    @app.route('/askQuestion/')\n",
    "    def hello_world():\n",
    "        if request.args is None:\n",
    "            return jsonify({'error': \"No question asked\"}),HTTP_400_BAD_REQUEST    \n",
    "\n",
    "        question = request.args.get('question')\n",
    "        if question is None or len(question) == 0: \n",
    "            return jsonify({'error': \"No question asked\"}),HTTP_400_BAD_REQUEST\n",
    "        \n",
    "        \n",
    "        skip = 0\n",
    "        try:\n",
    "            skip = int(request.args.get('skip'))\n",
    "        except:\n",
    "            skip = 0\n",
    "\n",
    "        search_complete = False\n",
    "        global history_arr\n",
    "        print(f\"the question is: {question}\")\n",
    "        print(f\"skip is: {skip}\")\n",
    "             \n",
    "        json_response, history_arr = orchestrate_simple_chat(llm3, question, skip, history_arr)\n",
    "        #print (\"json_response\", json_response.json())\n",
    "        \n",
    "        \n",
    "        return json_response\n",
    "\n",
    "        \n",
    "\n",
    "    \n",
    "    app.run()"
   ]
  },
  {
   "attachments": {},
   "cell_type": "markdown",
   "metadata": {},
   "source": [
    "Sample:\n",
    "\n",
    "http://127.0.0.1:5000/askQuestion/?question=%22what%20are%20Authentication%20issues%22\n",
    "\n",
    "\n",
    "\n",
    "{\n",
    "    \"answer\":\"Authentication issues refer to difficulties experienced by customers when attempting to access Azure, Dynamics 365, and/or Microsoft 365 due to platform issues or third-party push notification service errors. The causes of these issues are identified in the Tracking IDs RV5D-7S0, F_BK-398, and FKPH-7Z8. The responses to these issues include mitigating the impact, increasing instance counts, routing traffic to other regions, and failing over to the legacy channel. Microsoft is taking steps to improve resiliency, monitoring, and documentation to prevent or reduce the impact of future incidents. Customers can also evaluate the reliability of their applications and configure Azure Service Health alerts to be notified of future service issues. \\n\",\n",
    "    \"num_tracking_ids\":4,\n",
    "    \"search_complete\":true,\n",
    "    \"source_tracking_ids\":[\"RV5D-7S0\",\"F_BK-398\",\"FKPH-7Z8\"]}\n",
    "\n",
    "{\"answer\":\"Authentication issues refer to difficulties experienced by customers when attempting to access Azure, Dynamics 365, and/or Microsoft 365 due to platform issues or third-party push notification service errors. The causes of these issues are identified in the Tracking IDs RV5D-7S0, F_BK-398, and FKPH-7Z8. The sources provide detailed information on what went wrong, how Microsoft responded, and the steps being taken to improve the service and make incidents like this less likely or less impactful. \\n\",\"num_tracking_ids\":4,\"search_complete\":false,\"source_tracking_ids\":[\"RV5D-7S0\",\"F_BK-398\",\"FKPH-7Z8\"]}"
   ]
  }
 ],
 "metadata": {
  "kernelspec": {
   "display_name": "Python 3",
   "language": "python",
   "name": "python3"
  },
  "language_info": {
   "codemirror_mode": {
    "name": "ipython",
    "version": 3
   },
   "file_extension": ".py",
   "mimetype": "text/x-python",
   "name": "python",
   "nbconvert_exporter": "python",
   "pygments_lexer": "ipython3",
   "version": "3.10.2"
  },
  "orig_nbformat": 4
 },
 "nbformat": 4,
 "nbformat_minor": 2
}
