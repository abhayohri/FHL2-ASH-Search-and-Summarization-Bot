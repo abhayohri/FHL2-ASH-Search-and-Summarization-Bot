{
 "cells": [
  {
   "cell_type": "code",
   "metadata": {},
   "outputs": [],
   "source": [
    "import os\n",
    "import json\n",
    "import urllib\n",
    "import requests\n",
    "import random\n",
    "from collections import OrderedDict\n",
    "from IPython.display import display, HTML\n",
    "from langchain.prompts import PromptTemplate\n",
    "from langchain.chat_models import AzureChatOpenAI\n",
    "from langchain.docstore.document import Document\n",
    "from langchain.chains.question_answering import load_qa_chain\n",
    "from langchain.chains.qa_with_sources import load_qa_with_sources_chain\n",
    "from configparser import ConfigParser\n",
    "\n",
    "parser = ConfigParser()\n",
    "parser.read('../secrets2.cfg')\n",
    "\n",
    "AZURE_SEARCH_API_VERSION = parser.get('my_api','AZURE_SEARCH_API_VERSION')\n",
    "AZURE_OPENAI_API_VERSION = parser.get('my_api','AZURE_OPENAI_API_VERSION')\n",
    "AZURE_SEARCH_ENDPOINT = parser.get('my_api','AZURE_SEARCH_ENDPOINT')\n",
    "AZURE_SEARCH_KEY = parser.get('my_api','AZURE_SEARCH_KEY')\n",
    "SEMANTIC_CONFIG = parser.get('my_api', 'SEMANTIC_CONFIG') or None\n",
    "AZURE_OPENAI_ENDPOINT = parser.get('my_api','AZURE_OPENAI_ENDPOINT')\n",
    "AZURE_OPENAI_API_KEY = parser.get('my_api','AZURE_OPENAI_API_KEY')\n",
    "PORTAL_TOKEN = parser.get('my_api','PORTAL_TOKEN')\n",
    "URL  = parser.get('my_api','ASH_EXAMPLE_DATA_SOURCE')\n",
    "MODEL = \"gpt-35-turbo\" # options: gpt-35-turbo, gpt-4, gpt-4-32k\n",
    "\n",
    "# Setup the Payloads header\n",
    "headers = {'Content-Type': 'application/json','api-key': AZURE_SEARCH_KEY}\n",
    "ASHheaders = {\"Authorization\": PORTAL_TOKEN}\n",
    "indexes = [\"fhlabhishekindex\"]"
   ]
  },
  {
   "attachments": {},
   "cell_type": "markdown",
   "metadata": {},
   "source": [
    "# Case 1: ( Summarization )\n",
    "**Simple functionality that can generate a list of summaries at load time for the user to fetch**\n",
    "\n",
    "\n",
    "\n",
    "\n",
    "1. get data(using the api for fhl):"
   ]
  },
  {
   "cell_type": "code",
   "metadata": {},
   "outputs": [
    {
     "data": {
      "text/plain": [
       "50"
      ]
     },
     "execution_count": 57,
     "metadata": {},
     "output_type": "execute_result"
    }
   ],
   "source": [
    "import requests\n",
    "from bs4 import BeautifulSoup\n",
    "import re\n",
    "import pandas as pd\n",
    "\n",
    "def fetch_data():\n",
    "    # api-endpoint\n",
    "    URL  = parser.get('my_api','ASH_EXAMPLE_DATA_SOURCE') \n",
    "\n",
    "    r = requests.get(url = URL, headers = ASHheaders)\n",
    "        # extracting data in json format\n",
    "    data = r.json()\n",
    "\n",
    "    print(data)\n",
    "\n",
    "    result = dict()\n",
    "\n",
    "    if 'value' in data:\n",
    "        for event in data['value']:           \n",
    "            \n",
    "            if event['name'][0] == '_' or 'properties' not in event:\n",
    "                continue\n",
    "            \n",
    "            props = set (['title','impactStartTime','impactMitigationTime','description','impact'])\n",
    "\n",
    "            if props.issubset(event['properties'].keys()) and event['properties']['title'][0] != '_':  \n",
    "                propsDict = dict()\n",
    "                propsDict['title'] = event['properties']['title']\n",
    "                propsDict['chunks'] = [event['properties']['description']]# todo: implement actual chunking\n",
    "                propsDict['language'] = 'en'\n",
    "                propsDict['caption'] = event['properties']['title']\n",
    "                propsDict['score']  = 3 \n",
    "                propsDict['start time'] =  event['properties']['impactStartTime']\n",
    "                propsDict['end time'] =  event['properties']['impactMitigationTime']\n",
    "\n",
    "                result[event['name']] = propsDict\n",
    "\n",
    "    return result                        \n",
    "if mode == \"Jupyter\":              \n",
    "    summary_data = fetch_data()\n",
    "#print(json.dumps(summary_data['BL8Y-DT8'], indent=4))\n"
   ]
  },
  {
   "attachments": {},
   "cell_type": "markdown",
   "metadata": {},
   "source": [
    "2. Create langchain documents and get the most recent documents that are within the token limit"
   ]
  },
  {
   "cell_type": "code",
   "execution_count": 384,
   "metadata": {},
   "outputs": [
    {
     "name": "stdout",
     "output_type": "stream",
     "text": [
      "50\n",
      "page_content='Feedback bar Demo -update 4' metadata={'source': 'ABHAY052923'}\n"
     ]
    }
   ],
   "source": [
    "def create_langchain_documents(ordered_content):# Iterate over each of the results chunks and create a LangChain Document class to use further in the pipeline\n",
    "    docs = []\n",
    "    for key,value in ordered_content.items():\n",
    "        for page in value[\"chunks\"]:\n",
    "            docs.append(Document(page_content=page, metadata={\"source\": key}))\n",
    "    return docs\n",
    "if mode == \"Jupyter\":\n",
    "    summary_docs  = create_langchain_documents(summary_data)"
   ]
  },
  {
   "cell_type": "code",
   "execution_count": 385,
   "metadata": {},
   "outputs": [],
   "source": [
    "# functions for calculating token lengths\n",
    "import tiktoken\n",
    "from typing import List\n",
    "# Returning the toekn limit based on model selection\n",
    "def model_tokens_limit(model: str) -> int:\n",
    "    \"\"\"Returns the number of tokens limits in a text model.\"\"\"\n",
    "    if model == \"gpt-35-turbo\":\n",
    "        token_limit = 3000\n",
    "    elif model == \"gpt-4\":\n",
    "        token_limit = 7000\n",
    "    elif model == \"gpt-4-32k\":\n",
    "        token_limit = 31000\n",
    "    else:\n",
    "        token_limit = 3000\n",
    "    return token_limit\n",
    "\n",
    "# Returns the num of tokens used on a string\n",
    "def num_tokens_from_string(string: str) -> int:\n",
    "    encoding_name ='cl100k_base'\n",
    "    \"\"\"Returns the number of tokens in a text string.\"\"\"\n",
    "    encoding = tiktoken.get_encoding(encoding_name)\n",
    "    num_tokens = len(encoding.encode(string))\n",
    "    return num_tokens\n",
    "\n",
    "def num_tokens_from_docs(docs: List[Document]) -> int:\n",
    "    num_tokens = 0\n",
    "    for i in range(len(docs)):\n",
    "        num_tokens += num_tokens_from_string(docs[i].page_content)\n",
    "    return num_tokens\n",
    "\n",
    "\n"
   ]
  },
  {
   "cell_type": "code",
   "execution_count": 386,
   "metadata": {},
   "outputs": [],
   "source": [
    "\n",
    "def limit_docs_to_max_token_lenght(summary_docs):# instead should just chunk the array into chunks of token size and return array of arrays\n",
    "    # Calculate number of tokens of our docs\n",
    "    summary_docs_used = []\n",
    "    summary_docs_used_token_count = 0\n",
    "    for doc1 in summary_docs:\n",
    "        summary_num_tokens = num_tokens_from_string(doc1.page_content)\n",
    "\n",
    "        if summary_docs_used_token_count + summary_num_tokens < model_tokens_limit(MODEL):\n",
    "            summary_docs_used_token_count = summary_docs_used_token_count + summary_num_tokens\n",
    "            summary_docs_used.append(doc1)  \n",
    "\n",
    "    print(\"Custom token limit for\", MODEL, \":\", model_tokens_limit(MODEL))\n",
    "    #print(\"total number of documents used: \", len(all_docs_used))\n",
    "    print(\"Summary docs count: \", len(summary_docs_used))\n",
    "    print(\"Summary docs token count: \", num_tokens_from_docs(summary_docs_used))\n",
    "    #print(\"Comparison docs token count: \", len(comparison_docs))\n",
    "    return summary_docs_used\n",
    "if mode == \"Jupyter\":\n",
    "    summary_docs_used = limit_docs_to_max_token_lenght(summary_docs)\n"
   ]
  },
  {
   "cell_type": "code",
   "execution_count": 61,
   "metadata": {},
   "outputs": [],
   "source": [
    "def fetch_ASH_data_as_langchain_docs():\n",
    "    summary_data = fetch_data()\n",
    "    summary_docs  = create_langchain_documents(summary_data)\n",
    "    summary_docs_used = limit_docs_to_max_token_lenght(summary_docs)\n",
    "    return summary_docs\n",
    "    "
   ]
  },
  {
   "attachments": {},
   "cell_type": "markdown",
   "metadata": {},
   "source": [
    "3. Initialize session with llm:"
   ]
  },
  {
   "cell_type": "code",
   "execution_count": 62,
   "metadata": {},
   "outputs": [],
   "source": [
    "# Set the ENV variables that Langchain needs to connect to Azure OpenAI\n",
    "os.environ[\"OPENAI_API_BASE\"] = os.environ[\"AZURE_OPENAI_ENDPOINT\"] = AZURE_OPENAI_ENDPOINT\n",
    "os.environ[\"OPENAI_API_KEY\"] = os.environ[\"AZURE_OPENAI_API_KEY\"] = AZURE_OPENAI_API_KEY\n",
    "os.environ[\"OPENAI_API_VERSION\"] = os.environ[\"AZURE_OPENAI_API_VERSION\"] = AZURE_OPENAI_API_VERSION\n",
    "os.environ[\"OPENAI_API_TYPE\"] = \"azure\"  \n",
    "\n",
    "# Create our LLM model\n",
    "# Make sure you have the deployment named \"gpt-35-turbo\" for the model \"gpt-35-turbo (0301)\". \n",
    "# Use \"gpt-4\" if you have it available.\n",
    "if mode == \"Jupyter\":\n",
    "    llm1 = AzureChatOpenAI(deployment_name=MODEL, temperature=0, max_tokens=500)\n",
    "\n"
   ]
  },
  {
   "attachments": {},
   "cell_type": "markdown",
   "metadata": {},
   "source": [
    "4. Using the following prompt and the above llm, generate a summary:"
   ]
  },
  {
   "cell_type": "code",
   "execution_count": 86,
   "metadata": {},
   "outputs": [
    {
     "name": "stdout",
     "output_type": "stream",
     "text": [
      "Between 05:38 UTC on 12 May 2023 and 07:48 UTC on 20 May 2023, customers using Azure Multi-Factor Authentication (MFA) may have been blocked while using Windows first time setup or Windows Intune AutoPilot and Authenticator App with Code Match as an MFA method. The issue was caused by a recent code change that introduced a bug, but a fix has been rolled out. Investigation will continue to establish the full root cause and prevent future occurrences. Customers can create custom service health alerts to stay informed about Azure service issues. (Tracking ID: BL8Y-DT8, ABHAY052923)\n",
      "\n",
      "Between 17:00 UTC on 19 May 2023 and 01:50 UTC on 26 May 2023, customers who have configured Azure Monitor diagnostic settings to export resource level Activity Logs to destinations such as an Azure Storage account, Azure Event Hub, Azure Log Analytics, and/or Azure Marketplace destination may have seen gaps in the data. The issue was caused by a bad check-in that got into a new release build, and it impacted customers in multiple regions. The issue was mitigated by rolling back the microservice, and improvements are being made to prevent future occurrences. Customers are advised to evaluate the reliability of their applications using guidance from the Azure Well-Architected Framework and configure Azure Service Health alerts. (Tracking ID: R_FM-3D0)\n",
      "\n",
      "Between 23:11 UTC on 22 March 2023 and 02:12 UTC on 23 March 2023, a subset of customers using Storage or Azure services with Storage dependencies in the East US region may have experienced service availability issues, including Azure SQL DB and Virtual Machines. The issue was caused by a sudden spike in the storage platform's internal background traffic that caused high resource utilization conditions on the backend storage nodes. The issue was mitigated by throttling the internal background traffic, and improvements are being made to prevent thread pool exhaustion in critical roles. (Tracking ID: VVX7-NT0)\n",
      "\n",
      "Between 13:00 UTC and 15:50 UTC on 4 April 2023, customers using App Service in West US 2 may have received intermittent HTTP 500-level response codes, experienced timeouts, or high latency when accessing App Service (Web, Mobile, and API Apps), App Service (Linux), or Function deployments hosted in this region. The issue was caused by backend components hosted in\n"
     ]
    }
   ],
   "source": [
    " \n",
    "if mode == \"Jupyter\":\n",
    "    # this is very temporary\n",
    "    SUMMARY_COMBINE_PROMPT_TEMPLATE = \"\"\"\n",
    "    These are examples of how you must provide the answer:\n",
    "    --> Beginning of examples\n",
    "    =========\n",
    "    Content: What happened?\\n on 11 April 2023 Mat threw a party\\nWhat are the Next steps?\\nMat will throw more parties\\nHow can customers make incidents like this less impactful?\\nbuy headphones\n",
    "    Source: A12h2h4j5\n",
    "    Content: What happened?\\n on 12 April 2023 Abhay ate an apple\\nWhat are the Next steps?\\nAbhay will sleep\n",
    "    Source: A12h2h4j5\n",
    "    Content: What happened?\\non 13 April 2023 An elephant broke a wall\\nHow will we fix the isse?\\nwe will continue to investigate \n",
    "    Source: j5j6k6\n",
    "    =========\n",
    "    SUMMARY: On 11 April 2023, Mat threw a party, and the next steps involve Mat planning to host more parties. To make incidents like this less impactful, customers are advised to buy headphones.On 12 April 2023, Abhay ate an apple, and the next step for Abhay is to sleep.On 13 April 2023, an elephant broke a wall. To address this issue, further investigation will be conducted.\n",
    "    SOURCES: A12h2h4j5, j5j6k6\n",
    "    =========\n",
    "    <-- End of examples\n",
    "    Given the following documents create a list of summaries. \n",
    "    combine similar events together.  \n",
    "    Add important details from each document. Do not add details not present in the documents.\n",
    "    ALWAYS return a \"SOURCES\" part in your answer.\n",
    "    Instead of using the word \"Document\" use \"Tracking ID\"\n",
    "    Respond in {language}.\n",
    "    =========\n",
    "    {summaries}\n",
    "    =========\n",
    "    FINAL ANSWER IN {language}:\n",
    "    \"\"\"\n",
    "\n",
    "    SUMMARY_COMBINE_SUMMARY_PROMPT = PromptTemplate(\n",
    "        template=SUMMARY_COMBINE_PROMPT_TEMPLATE, input_variables=[\"summaries\", \"language\"]\n",
    "    )\n",
    "\n",
    "    chain1 = load_qa_with_sources_chain(llm1, chain_type=\"stuff\", \n",
    "                                        prompt=SUMMARY_COMBINE_SUMMARY_PROMPT)\n",
    "\n",
    "    if mode == \"Jupyter\":\n",
    "\n",
    "        response1 = chain1({\"input_documents\": summary_docs_used,\"question\":\"\", \"language\": \"English\"})\n",
    "\n",
    "        #response1 = chain1({\"input_documents\": summary_docs,\"question\":\"\", \"token_length\": int(model_tokens_limit(MODEL)/2), \"language\": \"English\"})\n",
    "        answer1 = response1['output_text']\n",
    "        #print(response1)\n",
    "        #print(answer1)\n",
    "\n"
   ]
  },
  {
   "cell_type": "code",
   "execution_count": 390,
   "metadata": {},
   "outputs": [],
   "source": [
    "if mode == \"Jupyter\":\n",
    "    display(HTML('<h4>Azure OpenAI ChatGPT Answer:</h4>'))\n",
    "    display(HTML(answer1.split(\"SOURCES:\")[0]))"
   ]
  },
  {
   "attachments": {},
   "cell_type": "markdown",
   "metadata": {},
   "source": [
    "# Case 2: Search    \n",
    "  \n",
    "The first Question the user asks:"
   ]
  },
  {
   "cell_type": "code",
   "execution_count": 391,
   "metadata": {},
   "outputs": [],
   "source": [
    "if mode == \"Jupyter\":\n",
    "    QUESTION = \"what are the Authentication issues?\" # the question asked by the user\n"
   ]
  },
  {
   "attachments": {},
   "cell_type": "markdown",
   "metadata": {},
   "source": [
    "##### To find what events might be associated with this Question. We need to search all the users events we do this currently via keyword cognitive search and by a limited in memory vector search.\n",
    "    Current logic:\n",
    "    get events via the index currently set to 5\n",
    "    order and sort by score\n",
    "    if too many events returned for tokenization vector sort to get top results currently 4. TO DISABLE THIS: get number of docs that can fit in a token size(untested)           \n",
    "    if 0 results retuned: search on a small subset of the most recent data(from the api) using the embeddings model. (Allow user to select next not implemented) \n",
    "    **This should all be replaced by doing a vector search using the in private preview version of cognitive search which has the capabilities of vector search baked in**\n",
    "\n",
    "1. The keyword search: "
   ]
  },
  {
   "cell_type": "code",
   "execution_count": 392,
   "metadata": {},
   "outputs": [],
   "source": [
    "\n",
    "def get_agg_search_results(search, filter = None, skip = 0): # get the events the question might pertain to. currently gets 5 events in the example\n",
    "    agg_search_results = [] \n",
    "\n",
    "    _skip = 5*skip\n",
    "    print(f\"skipping {_skip} documents\")\n",
    "\n",
    "    \n",
    "    for index in indexes:\n",
    "        url = AZURE_SEARCH_ENDPOINT + '/indexes/'+ index + '/docs'\n",
    "        url += '?api-version={}'.format(AZURE_SEARCH_API_VERSION)\n",
    "        url += '&search={}'.format(search)\n",
    "        url += '&select=*'\n",
    "        url += '&$top=5'  # You can change this to anything you need/want\n",
    "        if filter != None:\n",
    "            url += '&filter={}'.format(filter)\n",
    "        url += '&queryLanguage=en-us'\n",
    "        url += '&queryType=semantic'\n",
    "        url += '&semanticConfiguration={}'.format(SEMANTIC_CONFIG)\n",
    "        url += '&$count=true'\n",
    "        url += '&speller=lexicon'\n",
    "        url += '&answers=extractive|count-3'\n",
    "        url += '&captions=extractive|highlight-false'\n",
    "        url += f'&$skip={_skip}'\n",
    "\n",
    "        resp = requests.get(url, headers=headers)\n",
    "        #print(url)\n",
    "        #print(resp.status_code)\n",
    "\n",
    "        search_results = resp.json()\n",
    "        agg_search_results.append(search_results)\n",
    "        if '@odata.count' in search_results:\n",
    "            print(\"Results Found: {}, Results Returned: {}\".format(search_results['@odata.count'], len(search_results['value'])))\n",
    "        else:\n",
    "            print(\"No results found: {}\".format(search_results))\n",
    "        return agg_search_results\n",
    "\n",
    "# agg_search_results"
   ]
  },
  {
   "attachments": {},
   "cell_type": "markdown",
   "metadata": {},
   "source": [
    "2. Filter and order search results by score:"
   ]
  },
  {
   "cell_type": "code",
   "execution_count": 183,
   "metadata": {},
   "outputs": [],
   "source": [
    "# from the above responses more filtering is possible simmilar to \n",
    "\n",
    "#display(HTML('<h4>Top Answers</h4>'))\n",
    "\n",
    "def sort_and_order_content(agg_search_results):\n",
    "    for search_results in agg_search_results:\n",
    "        if '@search.answers' in search_results:\n",
    "            for result in search_results['@search.answers']:\n",
    "                print(result['score'])\n",
    "                if result['score'] > 0.5: # Show answers that are at least 50% of the max possible score=1\n",
    "                    print(\"got here\")\n",
    "                    display(HTML('<h5>' + 'Answer - score: ' + str(round(result['score'],2)) + '</h5>'))\n",
    "                    display(HTML(result['text']))\n",
    "                \n",
    "    #print(\"\\n\\n\")\n",
    "    #display(HTML('<h4>Top Results</h4>'))\n",
    "\n",
    "    content = dict()\n",
    "    ordered_content = OrderedDict()\n",
    "\n",
    "\n",
    "    for search_results in agg_search_results:\n",
    "        for result in search_results['value']:\n",
    "            if result['@search.rerankerScore'] > 0.5: # Filter results that are at least 12.5% of the max possible score=4\n",
    "                content[result['id']]={\n",
    "                                        \"title\": result['title'],\n",
    "                                        \"chunks\": result['pages'],\n",
    "                                        \"language\": result['language'], \n",
    "                                        \"caption\": result['@search.captions'][0]['text'],\n",
    "                                        \"score\": result['@search.rerankerScore'],\n",
    "                                        #\"name\": result['metadata_storage_name'], \n",
    "                                        #\"location\": result['metadata_storage_path']                  \n",
    "                                    }\n",
    "                \n",
    "    #print(json.dumps(content, indent=4))\n",
    "        \n",
    "    #After results have been filtered we will Sort and add them as an Ordered list\\n\",\n",
    "    for id in sorted(content, key= lambda x: content[x][\"score\"], reverse=True):\n",
    "        ordered_content[id] = content[id]\n",
    "        #url = ordered_content[id]['location'] + DATASOURCE_SAS_TOKEN\n",
    "        title = str(ordered_content[id]['title']) if (ordered_content[id]['title']) else ordered_content[id]['name']\n",
    "        score = str(round(ordered_content[id]['score'],2))\n",
    "        #display(HTML('<h5><a href=\"'+ url + '\">' + title + '</a> - score: '+ score + '</h5>'))\n",
    "        print(f\"${id} - ${title} - ${score}\")\n",
    "        #display(HTML(ordered_content[id]['caption']))\n",
    "\n",
    "    return ordered_content\n",
    "if mode == \"Jupyter\":\n",
    "    ordered_content = sort_and_order_content(agg_search_results)\n",
    "    #print(json.dumps(ordered_content, indent=4))\n",
    "    docs  = create_langchain_documents(ordered_content)"
   ]
  },
  {
   "cell_type": "code",
   "execution_count": 190,
   "metadata": {},
   "outputs": [],
   "source": [
    "def get_docs_wrapper(search: str, filter, skip, debug: bool = False):\n",
    "    agg_search_results = get_agg_search_results(search, filter)\n",
    "    if debug:\n",
    "        print (agg_search_results)\n",
    "    ordered_content = sort_and_order_content(agg_search_results)\n",
    "    if debug:\n",
    "        print (ordered_content)\n",
    "    docs  = create_langchain_documents(ordered_content)\n",
    "    return docs\n",
    "    \n",
    "    \n",
    "if mode == \"Jupyter\":        \n",
    "    print(\"Number of chunks for chat gpt to use:\",len(docs))"
   ]
  },
  {
   "cell_type": "code",
   "execution_count": 395,
   "metadata": {},
   "outputs": [],
   "source": [
    "\n",
    "\n",
    "# Calculate number of tokens of our docs\n",
    "def get_token_sizes(docs):\n",
    "    tokens_limit = model_tokens_limit(MODEL) \n",
    "    if(len(docs)>0):        \n",
    "        num_tokens = num_tokens_from_docs(docs) \n",
    "        print(\"Custom token limit for\", MODEL, \":\", tokens_limit)\n",
    "        print(\"Combined docs tokens count:\",num_tokens)\n",
    "        return tokens_limit, num_tokens    \n",
    "    else:\n",
    "        print(\"NO RESULTS FROM AZURE SEARCH\")\n",
    "        return tokens_limit,0\n",
    "    \n",
    "if mode == \"Jupyter\":\n",
    "    tokens_limit,num_tokens = get_token_sizes(docs)\n",
    "\n"
   ]
  },
  {
   "attachments": {},
   "cell_type": "markdown",
   "metadata": {},
   "source": [
    "3. The vector search:"
   ]
  },
  {
   "cell_type": "code",
   "execution_count": 396,
   "metadata": {},
   "outputs": [],
   "source": [
    " \n",
    "from langchain.embeddings import OpenAIEmbeddings, HuggingFaceEmbeddings\n",
    "from langchain.vectorstores import FAISS\n",
    "\n",
    "def get_chain_type_and_top_docs(question, tokens_limit,num_tokens,docs):    \n",
    "    print(num_tokens)\n",
    "    search_complete =False\n",
    "    if num_tokens ==0 or docs is None or len(docs) == 0 or num_tokens > tokens_limit: # need to do a vector search in these cases\n",
    "        if num_tokens ==0 or docs is None or len(docs) == 0:\n",
    "            search_complete =True\n",
    "            docs = fetch_ASH_data_as_langchain_docs()\n",
    "            print(f\"number of docs returned by api: {len(docs)}\" )\n",
    "            if docs is None or len(docs) == 0:\n",
    "                return None,\"\",True\n",
    "        # Select the Embedder model\n",
    "        if len(docs) < 50:\n",
    "            # OpenAI models are accurate but slower, they also only (for now) accept one text at a time (chunk_size)\n",
    "            embedder = OpenAIEmbeddings(deployment=\"text-embedding-ada-002\", chunk_size=1) \n",
    "        else:\n",
    "            # Bert based models are faster (3x-10x) but not as great in accuracy as OpenAI models\n",
    "            # Since this repo supports Multiple languages we need to use a multilingual model. \n",
    "            # But if English only is the requirement, use \"multi-qa-MiniLM-L6-cos-v1\"\n",
    "            # The fastest english model is \"all-MiniLM-L12-v2\"\n",
    "            embedder = HuggingFaceEmbeddings(model_name = 'distiluse-base-multilingual-cased-v2') #not deployed\n",
    "        \n",
    "        print(embedder)\n",
    "        \n",
    "        # Create our in-memory vector database index from the chunks given by Azure Search.\n",
    "        # We are using FAISS. https://ai.facebook.com/tools/faiss/\n",
    "        db = FAISS.from_documents(docs, embedder)\n",
    "        top_docs = db.similarity_search(question, k=4)  # Return the top 4 documents\n",
    "        print(f\"the top docs selected by similarity search: ${len(top_docs)}\" )\n",
    "        \n",
    "        # Now we need to recalculate the tokens count of the top results from similarity vector search\n",
    "        # in order to select the chain type: stuff (all chunks in one prompt) or \n",
    "        # map_reduce (multiple calls to the LLM to summarize/reduce the chunks and then combine them)\n",
    "        \n",
    "        num_tokens = num_tokens_from_docs(top_docs)\n",
    "        print(\"Token count after similarity search:\", num_tokens)\n",
    "        chain_type = \"map_reduce\" if num_tokens > tokens_limit else \"stuff\"\n",
    "        \n",
    "    else:\n",
    "        # if total tokens is less than our limit, we don't need to vectorize and do similarity search\n",
    "        top_docs = docs\n",
    "        chain_type = \"stuff\"\n",
    "    \n",
    "    \n",
    "    return top_docs,chain_type,search_complete\n",
    "\n",
    "if mode == \"Jupyter\": \n",
    "    top_docs,chain_type,search_complete = get_chain_type_and_top_docs(QUESTION,tokens_limit,num_tokens,docs)\n",
    "    \n",
    "    print(\"Chain Type selected:\", chain_type)\n"
   ]
  },
  {
   "cell_type": "code",
   "execution_count": 397,
   "metadata": {},
   "outputs": [],
   "source": [
    "def search_wrapper(question,skip):\n",
    "    agg_search_results, num_results_found, num_returned_results = get_agg_search_results(question,skip)\n",
    "    ordered_content = sort_and_order_content(agg_search_results)\n",
    "    docs  = create_langchain_documents(ordered_content)\n",
    "    tokens_limit,num_tokens = get_token_sizes(docs)\n",
    "    top_docs,chain_type,search_complete = get_chain_type_and_top_docs(question,tokens_limit,num_tokens,docs)\n",
    "    return top_docs,chain_type,search_complete, num_returned_results"
   ]
  },
  {
   "attachments": {},
   "cell_type": "markdown",
   "metadata": {},
   "source": [
    "#### Run the search"
   ]
  },
  {
   "cell_type": "code",
   "execution_count": 187,
   "metadata": {},
   "outputs": [],
   "source": [
    "QUESTION = \"Give me events for Azure Active Directory in West Europe\" # the question asked by the user\n",
    "user_input = QUESTION\n",
    "\n",
    "## Define user input\n",
    "search = user_input\n",
    "\n",
    "\n",
    "### TBD: modify search to include chat history/chat summary\n",
    "\n",
    "\n",
    "### add filter if any\n",
    "filter = \"id ne '{}'\".format('QM_3-J88')"
   ]
  },
  {
   "cell_type": "code",
   "execution_count": 211,
   "metadata": {},
   "outputs": [
    {
     "name": "stdout",
     "output_type": "stream",
     "text": [
      "No results found: {'error': {'code': 'InvalidRequestParameter', 'message': \"Unknown semantic configuration 'servicehealthfhl-semantic-config'.\\r\\nParameter name: semanticConfiguration\", 'details': [{'code': 'UnknownSemanticConfiguration', 'message': \"Unknown semantic configuration 'servicehealthfhl-semantic-config'.\"}]}}\n",
      "[{'error': {'code': 'InvalidRequestParameter', 'message': \"Unknown semantic configuration 'servicehealthfhl-semantic-config'.\\r\\nParameter name: semanticConfiguration\", 'details': [{'code': 'UnknownSemanticConfiguration', 'message': \"Unknown semantic configuration 'servicehealthfhl-semantic-config'.\"}]}}]\n"
     ]
    },
    {
     "ename": "KeyError",
     "evalue": "'value'",
     "output_type": "error",
     "traceback": [
      "\u001b[1;31m---------------------------------------------------------------------------\u001b[0m",
      "\u001b[1;31mKeyError\u001b[0m                                  Traceback (most recent call last)",
      "Cell \u001b[1;32mIn[211], line 2\u001b[0m\n\u001b[0;32m      1\u001b[0m \u001b[39m## Run the search\u001b[39;00m\n\u001b[1;32m----> 2\u001b[0m docs \u001b[39m=\u001b[39m get_docs_wrapper(search, \u001b[39mfilter\u001b[39;49m, skip \u001b[39m=\u001b[39;49m \u001b[39mNone\u001b[39;49;00m, debug\u001b[39m=\u001b[39;49m \u001b[39mTrue\u001b[39;49;00m)\n\u001b[0;32m      3\u001b[0m \u001b[39mprint\u001b[39m(\u001b[39m\"\u001b[39m\u001b[39mNumber of chunks for chat gpt to use:\u001b[39m\u001b[39m\"\u001b[39m,\u001b[39mlen\u001b[39m(docs))\n\u001b[0;32m      6\u001b[0m tokens_limit,num_tokens \u001b[39m=\u001b[39m get_token_sizes(docs)\n",
      "Cell \u001b[1;32mIn[190], line 5\u001b[0m, in \u001b[0;36mget_docs_wrapper\u001b[1;34m(search, filter, skip, debug)\u001b[0m\n\u001b[0;32m      3\u001b[0m \u001b[39mif\u001b[39;00m debug:\n\u001b[0;32m      4\u001b[0m     \u001b[39mprint\u001b[39m (agg_search_results)\n\u001b[1;32m----> 5\u001b[0m ordered_content \u001b[39m=\u001b[39m sort_and_order_content(agg_search_results)\n\u001b[0;32m      6\u001b[0m \u001b[39mif\u001b[39;00m debug:\n\u001b[0;32m      7\u001b[0m     \u001b[39mprint\u001b[39m (ordered_content)\n",
      "Cell \u001b[1;32mIn[183], line 23\u001b[0m, in \u001b[0;36msort_and_order_content\u001b[1;34m(agg_search_results)\u001b[0m\n\u001b[0;32m     19\u001b[0m ordered_content \u001b[39m=\u001b[39m OrderedDict()\n\u001b[0;32m     22\u001b[0m \u001b[39mfor\u001b[39;00m search_results \u001b[39min\u001b[39;00m agg_search_results:\n\u001b[1;32m---> 23\u001b[0m     \u001b[39mfor\u001b[39;00m result \u001b[39min\u001b[39;00m search_results[\u001b[39m'\u001b[39;49m\u001b[39mvalue\u001b[39;49m\u001b[39m'\u001b[39;49m]:\n\u001b[0;32m     24\u001b[0m         \u001b[39mif\u001b[39;00m result[\u001b[39m'\u001b[39m\u001b[39m@search.rerankerScore\u001b[39m\u001b[39m'\u001b[39m] \u001b[39m>\u001b[39m \u001b[39m0.5\u001b[39m: \u001b[39m# Filter results that are at least 12.5% of the max possible score=4\u001b[39;00m\n\u001b[0;32m     25\u001b[0m             content[result[\u001b[39m'\u001b[39m\u001b[39mid\u001b[39m\u001b[39m'\u001b[39m]]\u001b[39m=\u001b[39m{\n\u001b[0;32m     26\u001b[0m                                     \u001b[39m\"\u001b[39m\u001b[39mtitle\u001b[39m\u001b[39m\"\u001b[39m: result[\u001b[39m'\u001b[39m\u001b[39mtitle\u001b[39m\u001b[39m'\u001b[39m],\n\u001b[0;32m     27\u001b[0m                                     \u001b[39m\"\u001b[39m\u001b[39mchunks\u001b[39m\u001b[39m\"\u001b[39m: result[\u001b[39m'\u001b[39m\u001b[39mpages\u001b[39m\u001b[39m'\u001b[39m],\n\u001b[1;32m   (...)\u001b[0m\n\u001b[0;32m     32\u001b[0m                                     \u001b[39m#\"location\": result['metadata_storage_path']                  \u001b[39;00m\n\u001b[0;32m     33\u001b[0m                                 }\n",
      "\u001b[1;31mKeyError\u001b[0m: 'value'"
     ]
    }
   ],
   "source": [
    "## Run the search\n",
    "docs = get_docs_wrapper(search, filter, skip = None, debug= True)\n",
    "print(\"Number of chunks for chat gpt to use:\",len(docs))\n",
    "\n",
    "\n",
    "tokens_limit,num_tokens = get_token_sizes(docs)"
   ]
  },
  {
   "cell_type": "code",
   "execution_count": 151,
   "metadata": {},
   "outputs": [
    {
     "name": "stdout",
     "output_type": "stream",
     "text": [
      "1701\n",
      "Chain Type selected: stuff\n"
     ]
    }
   ],
   "source": [
    "top_docs,chain_type = get_chain_type_and_top_docs(tokens_limit,num_tokens,docs)\n",
    "    \n",
    "print(\"Chain Type selected:\", chain_type)"
   ]
  },
  {
   "attachments": {},
   "cell_type": "markdown",
   "metadata": {},
   "source": [
    "#### Search is complete time to Summarize the data:"
   ]
  },
  {
   "cell_type": "code",
   "execution_count": 398,
   "metadata": {},
   "outputs": [],
   "source": [
    "COMBINE_QUESTION_PROMPT_TEMPLATE = \"\"\"Use the following portion of a long document to see if any of the text is relevant to answer the question. \n",
    "Return any relevant text in {language}.\n",
    "{context}\n",
    "Question: {question}\n",
    "Relevant text, if any, in {language}:\"\"\"\n",
    "\n",
    "COMBINE_QUESTION_PROMPT = PromptTemplate(\n",
    "    template=COMBINE_QUESTION_PROMPT_TEMPLATE, input_variables=[\"context\", \"question\", \"language\"]\n",
    ")\n",
    "\n",
    "\n",
    "COMBINE_PROMPT_TEMPLATE = \"\"\"\n",
    "These are examples of how you must provide the answer:\n",
    "--> Beginning of examples\n",
    "=========\n",
    "QUESTION: Which state/country's law governs the interpretation of the contract?\n",
    "=========\n",
    "Content: This Agreement is governed by English law and the parties submit to the exclusive jurisdiction of the English courts in  relation to any dispute (contractual or non-contractual) concerning this Agreement save that either party may apply to any court for an  injunction or other relief to protect its Intellectual Property Rights.\n",
    "Source: https://xxx.com/article1.pdf\n",
    "Content: No Waiver. Failure or delay in exercising any right or remedy under this Agreement shall not constitute a waiver of such (or any other)  right or remedy.\\n\\n11.7 Severability. The invalidity, illegality or unenforceability of any term (or part of a term) of this Agreement shall not affect the continuation  in force of the remainder of the term (if any) and this Agreement.\\n\\n11.8 No Agency. Except as expressly stated otherwise, nothing in this Agreement shall create an agency, partnership or joint venture of any  kind between the parties.\\n\\n11.9 No Third-Party Beneficiaries.\n",
    "Source: https://yyyy.com/article2.html\n",
    "Content: (b) if Google believes, in good faith, that the Distributor has violated or caused Google to violate any Anti-Bribery Laws (as  defined in Clause 8.5) or that such a violation is reasonably likely to occur,\n",
    "Source: https://yyyy.com/article3.csv\n",
    "Content: The terms of this Agreement shall be subject to the laws of Manchester, England, and any disputes arising from or relating to this Agreement shall be exclusively resolved by the courts of that state, except where either party may seek an injunction or other legal remedy to safeguard their Intellectual Property Rights.\n",
    "Source: https://ppp.com/article4.pdf\n",
    "=========\n",
    "FINAL ANSWER IN English: This Agreement is governed by English law, specifically the laws of Manchester, England.\n",
    "SOURCES: https://xxx.com/article1.pdf, https://ppp.com/article4.pdf\n",
    "=========\n",
    "QUESTION: What did the president say about Michael Jackson?\n",
    "=========\n",
    "Content: Madam Speaker, Madam Vice President, our First Lady and Second Gentleman. Members of Congress and the Cabinet. Justices of the Supreme Court. My fellow Americans.  \\n\\nLast year COVID-19 kept us apart. This year we are finally together again. \\n\\nTonight, we meet as Democrats Republicans and Independents. But most importantly as Americans. \\n\\nWith a duty to one another to the American people to the Constitution. \\n\\nAnd with an unwavering resolve that freedom will always triumph over tyranny. \\n\\nSix days ago, Russia’s Vladimir Putin sought to shake the foundations of the free world thinking he could make it bend to his menacing ways. But he badly miscalculated. \\n\\nHe thought he could roll into Ukraine and the world would roll over. Instead he met a wall of strength he never imagined. \\n\\nHe met the Ukrainian people. \\n\\nFrom President Zelenskyy to every Ukrainian, their fearlessness, their courage, their determination, inspires the world. \\n\\nGroups of citizens blocking tanks with their bodies. Everyone from students to retirees teachers turned soldiers defending their homeland.\n",
    "Source: https://fff.com/article23.pdf\n",
    "Content: And we won’t stop. \\n\\nWe have lost so much to COVID-19. Time with one another. And worst of all, so much loss of life. \\n\\nLet’s use this moment to reset. Let’s stop looking at COVID-19 as a partisan dividing line and see it for what it is: A God-awful disease.  \\n\\nLet’s stop seeing each other as enemies, and start seeing each other for who we really are: Fellow Americans.  \\n\\nWe can’t change how divided we’ve been. But we can change how we move forward—on COVID-19 and other issues we must face together. \\n\\nI recently visited the New York City Police Department days after the funerals of Officer Wilbert Mora and his partner, Officer Jason Rivera. \\n\\nThey were responding to a 9-1-1 call when a man shot and killed them with a stolen gun. \\n\\nOfficer Mora was 27 years old. \\n\\nOfficer Rivera was 22. \\n\\nBoth Dominican Americans who’d grown up on the same streets they later chose to patrol as police officers. \\n\\nI spoke with their families and told them that we are forever in debt for their sacrifice, and we will carry on their mission to restore the trust and safety every community deserves.\n",
    "Source: https://jjj.com/article56.pdf\n",
    "Content: And a proud Ukrainian people, who have known 30 years  of independence, have repeatedly shown that they will not tolerate anyone who tries to take their country backwards.  \\n\\nTo all Americans, I will be honest with you, as I’ve always promised. A Russian dictator, invading a foreign country, has costs around the world. \\n\\nAnd I’m taking robust action to make sure the pain of our sanctions  is targeted at Russia’s economy. And I will use every tool at our disposal to protect American businesses and consumers. \\n\\nTonight, I can announce that the United States has worked with 30 other countries to release 60 Million barrels of oil from reserves around the world.  \\n\\nAmerica will lead that effort, releasing 30 Million barrels from our own Strategic Petroleum Reserve. And we stand ready to do more if necessary, unified with our allies.  \\n\\nThese steps will help blunt gas prices here at home. And I know the news about what’s happening can seem alarming. \\n\\nBut I want you to know that we are going to be okay.\n",
    "Source: https://vvv.com/article145.pdf\n",
    "Content: More support for patients and families. \\n\\nTo get there, I call on Congress to fund ARPA-H, the Advanced Research Projects Agency for Health. \\n\\nIt’s based on DARPA—the Defense Department project that led to the Internet, GPS, and so much more.  \\n\\nARPA-H will have a singular purpose—to drive breakthroughs in cancer, Alzheimer’s, diabetes, and more. \\n\\nA unity agenda for the nation. \\n\\nWe can do this. \\n\\nMy fellow Americans—tonight , we have gathered in a sacred space—the citadel of our democracy. \\n\\nIn this Capitol, generation after generation, Americans have debated great questions amid great strife, and have done great things. \\n\\nWe have fought for freedom, expanded liberty, defeated totalitarianism and terror. \\n\\nAnd built the strongest, freest, and most prosperous nation the world has ever known. \\n\\nNow is the hour. \\n\\nOur moment of responsibility. \\n\\nOur test of resolve and conscience, of history itself. \\n\\nIt is in this moment that our character is formed. Our purpose is found. Our future is forged. \\n\\nWell I know this nation.\n",
    "Source: https://uuu.com/article15.pdf\n",
    "=========\n",
    "FINAL ANSWER IN English: The president did not mention Michael Jackson.\n",
    "SOURCES: N/A\n",
    "<-- End of examples\n",
    "Given the following extracted parts of a long document and a question, create a final answer with references (\"SOURCES\"). \n",
    "If you don't know the answer, just say that you don't know. Don't try to make up an answer.\n",
    "ALWAYS return a \"SOURCES\" part in your answer.\n",
    "Instead of using the word \"Document\" use \"Tracking ID\"\n",
    "Respond in {language}.\n",
    "=========\n",
    "QUESTION: {question}\n",
    "=========\n",
    "{summaries}\n",
    "=========\n",
    "FINAL ANSWER IN {language}:\"\"\"\n",
    "\n",
    "\n",
    "COMBINE_PROMPT = PromptTemplate(\n",
    "    template=COMBINE_PROMPT_TEMPLATE, input_variables=[\"summaries\", \"question\", \"language\"]\n",
    ")"
   ]
  },
  {
   "cell_type": "code",
   "execution_count": 399,
   "metadata": {},
   "outputs": [],
   "source": [
    "# Set the ENV variables that Langchain needs to connect to Azure OpenAI\n",
    "os.environ[\"OPENAI_API_BASE\"] = os.environ[\"AZURE_OPENAI_ENDPOINT\"] = AZURE_OPENAI_ENDPOINT\n",
    "os.environ[\"OPENAI_API_KEY\"] = os.environ[\"AZURE_OPENAI_API_KEY\"] = AZURE_OPENAI_API_KEY\n",
    "os.environ[\"OPENAI_API_VERSION\"] = os.environ[\"AZURE_OPENAI_API_VERSION\"] = AZURE_OPENAI_API_VERSION\n",
    "os.environ[\"OPENAI_API_TYPE\"] = \"azure\"   \n",
    "\n",
    "\n",
    "\n",
    "def get_chat_response(question,llm2,chain_type,top_docs):\n",
    "\n",
    "    if top_docs is not None and len(top_docs)> 0:\n",
    "        if chain_type == \"stuff\":\n",
    "            chain = load_qa_with_sources_chain(llm2, chain_type=chain_type, \n",
    "                                            prompt=COMBINE_PROMPT)\n",
    "        elif chain_type == \"map_reduce\":\n",
    "            chain = load_qa_with_sources_chain(llm2, chain_type=chain_type, \n",
    "                                            question_prompt=COMBINE_QUESTION_PROMPT,\n",
    "                                            combine_prompt=COMBINE_PROMPT,\n",
    "                                            return_intermediate_steps=True)\n",
    "\n",
    "        response = chain({\"input_documents\": top_docs, \"question\": question, \"language\": \"English\"})\n",
    "        answer = response['output_text']\n",
    "        #print(response)\n",
    "        print(answer)\n",
    "        return answer\n",
    "    return \"\"\n",
    "\n",
    "if mode == \"Jupyter\":\n",
    "    # Create our LLM model\n",
    "    # Make sure you have the deployment named \"gpt-35-turbo\" for the model \"gpt-35-turbo (0301)\". \n",
    "    # Use \"gpt-4\" if you have it available.\n",
    "    llm2 = AzureChatOpenAI(deployment_name=MODEL, temperature=0, max_tokens=500)\n",
    "    answer = get_chat_response(QUESTION,llm2,chain_type,top_docs)\n"
   ]
  },
  {
   "cell_type": "code",
   "execution_count": 141,
   "metadata": {},
   "outputs": [
    {
     "data": {
      "text/html": [
       "<h4>Azure OpenAI ChatGPT Answer:</h4>"
      ],
      "text/plain": [
       "<IPython.core.display.HTML object>"
      ]
     },
     "metadata": {},
     "output_type": "display_data"
    },
    {
     "data": {
      "text/html": [
       "I'm sorry, but I cannot find a specific answer to the question \"where is my authentication?\" in the given Tracking IDs. The documents only provide information about incidents and issues related to Azure Multi-Factor Authentication (MFA) and their respective causes, mitigations, and next steps. \n"
      ],
      "text/plain": [
       "<IPython.core.display.HTML object>"
      ]
     },
     "metadata": {},
     "output_type": "display_data"
    }
   ],
   "source": [
    "if mode == \"Jupyter\":\n",
    "    display(HTML('<h4>Azure OpenAI ChatGPT Answer:</h4>'))\n",
    "    display(HTML(answer.split(\"SOURCES:\")[0]))\n",
    "\n"
   ]
  },
  {
   "cell_type": "code",
   "execution_count": 401,
   "metadata": {},
   "outputs": [],
   "source": [
    "\n",
    "#we get the sources:\n",
    "if mode == \"Jupyter\":\n",
    "    \n",
    "    sources_list = answer.split(\"SOURCES:\")[1].replace(\" \",\"\").split(\",\")\n",
    "    sources_html = '<u>Sources</u>: '\n",
    "    display(HTML(sources_html))\n",
    "    for index, value in enumerate(sources_list):\n",
    "        print(value)\n",
    "    \n",
    "    \n",
    "\n"
   ]
  },
  {
   "cell_type": "code",
   "execution_count": 111,
   "metadata": {},
   "outputs": [],
   "source": [
    "## from azure search openai repo -Ignore for now\n",
    "\n",
    "from azure.identity import DefaultAzureCredential\n",
    "from azure.search.documents import SearchClient\n",
    "from azure.search.documents.models import QueryType\n",
    "\n",
    "AZURE_SEARCH_SERVICE = \"fhl-abhishek-search\"\n",
    "AZURE_SEARCH_INDEX = \"fhlabhishekindex\"\n",
    "KB_FIELDS_CONTENT = os.environ.get(\"KB_FIELDS_CONTENT\") or \"content\"\n",
    "KB_FIELDS_CATEGORY = os.environ.get(\"KB_FIELDS_CATEGORY\") or \"category\"\n",
    "KB_FIELDS_SOURCEPAGE = os.environ.get(\"KB_FIELDS_SOURCEPAGE\") or \"sourcepage\"\n",
    "\n",
    "# Use the current user identity to authenticate with Azure OpenAI, Cognitive Search and Blob Storage (no secrets needed, \n",
    "# just use 'az login' locally, and managed identity when deployed on Azure). If you need to use keys, use separate AzureKeyCredential instances with the \n",
    "# keys for each service\n",
    "azure_credential = DefaultAzureCredential()\n",
    "\n",
    "# Set up clients for Cognitive Search and Storage\n",
    "search_client = SearchClient(\n",
    "    endpoint=f\"https://{AZURE_SEARCH_SERVICE}.search.windows.net\",\n",
    "    index_name=AZURE_SEARCH_INDEX,\n",
    "    credential=azure_credential)\n",
    "\n",
    "r = search_client.search(search, \n",
    "                         filter=filter,\n",
    "                        #  query_type=QueryType.SEMANTIC, \n",
    "                         query_language=\"en-us\", \n",
    "                         query_speller=\"lexicon\", \n",
    "                         semantic_configuration_name=\"default\", \n",
    "                         top=3)\n",
    "\n",
    "for doc in r:\n",
    "    print (doc)\n",
    "# results = [doc[KB_FIELDS_SOURCEPAGE] + \": \" + doc[KB_FIELDS_CONTENT].replace(\"\\n\", \"\").replace(\"\\r\", \"\") for doc in r]\n",
    "# content = \"\\n\".join(results)"
   ]
  },
  {
   "attachments": {},
   "cell_type": "markdown",
   "metadata": {},
   "source": [
    "#### More Functionality and examples: \n",
    "1. client can search the next set of events:"
   ]
  },
  {
   "cell_type": "code",
   "execution_count": 402,
   "metadata": {},
   "outputs": [],
   "source": [
    "if mode == \"Jupyter\":\n",
    "    top_docs2,chain_type2,search_complete, num_docs = search_wrapper(5)\n",
    "    answer2 = get_chat_response(chain_type2,top_docs2)\n",
    "    display(HTML('<h4>Azure OpenAI ChatGPT Answer:</h4>'))\n",
    "    display(HTML(answer2.split(\"SOURCES:\")[0]))\n",
    "\n",
    "    sources_list2 = answer2.split(\"SOURCES:\")[1].replace(\" \",\"\").split(\",\")\n",
    "    sources_html2 = '<u>Sources</u>: '\n",
    "    display(HTML(sources_html2))\n",
    "    for index2, value2 in enumerate(sources_list2):\n",
    "        print(value2)\n",
    "    "
   ]
  },
  {
   "attachments": {},
   "cell_type": "markdown",
   "metadata": {},
   "source": [
    "2. If no events returned by cognitive search it uses the latest events:"
   ]
  },
  {
   "cell_type": "code",
   "execution_count": 78,
   "metadata": {},
   "outputs": [
    {
     "name": "stdout",
     "output_type": "stream",
     "text": [
      "Results Found: 7, Results Returned: 0\n",
      "NO RESULTS FROM AZURE SEARCH\n",
      "0\n",
      "Custom token limit for gpt-35-turbo : 3000\n",
      "Summary docs count:  16\n",
      "Summary docs token count:  2999\n",
      "number of docs returned by api: 50\n"
     ]
    },
    {
     "name": "stderr",
     "output_type": "stream",
     "text": [
      "d:\\Repo\\FHL\\2023-june\\FHL2-ASH-Search-and-Summarization-Bot\\venv\\lib\\site-packages\\tqdm\\auto.py:21: TqdmWarning: IProgress not found. Please update jupyter and ipywidgets. See https://ipywidgets.readthedocs.io/en/stable/user_install.html\n",
      "  from .autonotebook import tqdm as notebook_tqdm\n",
      "Downloading (…)6015c/.gitattributes: 100%|██████████| 690/690 [00:00<?, ?B/s] \n",
      "Downloading (…)_Pooling/config.json: 100%|██████████| 190/190 [00:00<00:00, 168kB/s]\n",
      "Downloading (…)/2_Dense/config.json: 100%|██████████| 114/114 [00:00<00:00, 114kB/s]\n",
      "Downloading pytorch_model.bin: 100%|██████████| 1.58M/1.58M [00:00<00:00, 5.72MB/s]\n",
      "Downloading (…)ff6066015c/README.md: 100%|██████████| 2.38k/2.38k [00:00<?, ?B/s]\n",
      "Downloading (…)6066015c/config.json: 100%|██████████| 610/610 [00:00<?, ?B/s] \n",
      "Downloading (…)ce_transformers.json: 100%|██████████| 122/122 [00:00<?, ?B/s] \n",
      "Downloading pytorch_model.bin: 100%|██████████| 539M/539M [00:54<00:00, 9.90MB/s] \n",
      "Downloading (…)nce_bert_config.json: 100%|██████████| 53.0/53.0 [00:00<00:00, 52.9kB/s]\n",
      "Downloading (…)cial_tokens_map.json: 100%|██████████| 112/112 [00:00<00:00, 217kB/s]\n",
      "Downloading (…)6015c/tokenizer.json: 100%|██████████| 1.96M/1.96M [00:00<00:00, 5.16MB/s]\n",
      "Downloading (…)okenizer_config.json: 100%|██████████| 531/531 [00:00<00:00, 532kB/s]\n",
      "Downloading (…)ff6066015c/vocab.txt: 100%|██████████| 996k/996k [00:00<00:00, 3.51MB/s]\n",
      "Downloading (…)066015c/modules.json: 100%|██████████| 341/341 [00:00<?, ?B/s] \n"
     ]
    },
    {
     "name": "stdout",
     "output_type": "stream",
     "text": [
      "client=SentenceTransformer(\n",
      "  (0): Transformer({'max_seq_length': 128, 'do_lower_case': False}) with Transformer model: DistilBertModel \n",
      "  (1): Pooling({'word_embedding_dimension': 768, 'pooling_mode_cls_token': False, 'pooling_mode_mean_tokens': True, 'pooling_mode_max_tokens': False, 'pooling_mode_mean_sqrt_len_tokens': False})\n",
      "  (2): Dense({'in_features': 768, 'out_features': 512, 'bias': True, 'activation_function': 'torch.nn.modules.activation.Tanh'})\n",
      ") model_name='distiluse-base-multilingual-cased-v2' cache_folder=None model_kwargs={} encode_kwargs={}\n",
      "the top docs selected by similarity search: $4\n",
      "Token count after similarity search: 2037\n",
      "For Tracking ID FLX7-VD8, the authentication issue was caused by a code issue when refreshing the Microsoft Authenticator app using the Pull-to-Refresh feature on Android devices. For Tracking ID FKPH-7Z8, the issue was related to voice service providers in the USA which impacted Azure MFA users. For Tracking ID WNXY-RS8, a code regression in a recent deployment introduced a bug that was responsible for errors when configuring provisioning scenarios. \n",
      "SOURCES: FLX7-VD8, FKPH-7Z8, WNXY-RS8\n"
     ]
    },
    {
     "data": {
      "text/html": [
       "<h4>Azure OpenAI ChatGPT Answer:</h4>"
      ],
      "text/plain": [
       "<IPython.core.display.HTML object>"
      ]
     },
     "metadata": {},
     "output_type": "display_data"
    },
    {
     "data": {
      "text/html": [
       "For Tracking ID FLX7-VD8, the authentication issue was caused by a code issue when refreshing the Microsoft Authenticator app using the Pull-to-Refresh feature on Android devices. For Tracking ID FKPH-7Z8, the issue was related to voice service providers in the USA which impacted Azure MFA users. For Tracking ID WNXY-RS8, a code regression in a recent deployment introduced a bug that was responsible for errors when configuring provisioning scenarios. \n"
      ],
      "text/plain": [
       "<IPython.core.display.HTML object>"
      ]
     },
     "metadata": {},
     "output_type": "display_data"
    },
    {
     "data": {
      "text/html": [
       "<u>Sources</u>: "
      ],
      "text/plain": [
       "<IPython.core.display.HTML object>"
      ]
     },
     "metadata": {},
     "output_type": "display_data"
    },
    {
     "name": "stdout",
     "output_type": "stream",
     "text": [
      "FLX7-VD8\n",
      "FKPH-7Z8\n",
      "WNXY-RS8\n"
     ]
    }
   ],
   "source": [
    "if mode == \"Jupyter\":\n",
    "    top_docs3,chain_type3,search_complete, num_docs = search_wrapper(20)\n",
    "    answer3 = get_chat_response(chain_type3,top_docs3)\n",
    "    display(HTML('<h4>Azure OpenAI ChatGPT Answer:</h4>'))\n",
    "    display(HTML(answer3.split(\"SOURCES:\")[0]))\n",
    "\n",
    "    sources_list3 = answer3.split(\"SOURCES:\")[1].replace(\" \",\"\").split(\",\")\n",
    "    sources_html3 = '<u>Sources</u>: '\n",
    "    display(HTML(sources_html3))\n",
    "    for index3, value3 in enumerate(sources_list3):\n",
    "        print(value3)"
   ]
  },
  {
   "attachments": {},
   "cell_type": "markdown",
   "metadata": {},
   "source": [
    "3. To ask further questions about the same set of events. trivial here need to maintain session or pass event information in service client model"
   ]
  },
  {
   "cell_type": "code",
   "execution_count": 404,
   "metadata": {},
   "outputs": [
    {
     "name": "stdout",
     "output_type": "stream",
     "text": [
      " * Serving Flask app '__main__'\n",
      " * Debug mode: off\n"
     ]
    },
    {
     "name": "stderr",
     "output_type": "stream",
     "text": [
      "WARNING: This is a development server. Do not use it in a production deployment. Use a production WSGI server instead.\n",
      " * Running on http://127.0.0.1:5000\n",
      "Press CTRL+C to quit\n"
     ]
    },
    {
     "name": "stdout",
     "output_type": "stream",
     "text": [
      "the question is: what are Authentication issues\n",
      "skip is: 1\n",
      "Results Found: 7, Results Returned: 5\n",
      "$FLX7-VD8 - $RCA - Azure Multi-Factor Authentication - MFA Pull Down Refresh Issues - $0.84\n",
      "$M0L-VC0 - $PIR/ RCA - Azure Multi-Factor Authentication - Issues with Push Notifications - $0.83\n",
      "$BL8Y-DT8 - $Azure Multi-Factor Authentication (MFA) - Applying Mitigation - $0.71\n",
      "$VS5M-RS8 - $Multi-Factor Authentication - Philippines - Mitigated - $0.61\n",
      "$FKPH-7Z8 - $PIR - Azure Multi-Factor Authentication - $0.6\n",
      "Custom token limit for gpt-35-turbo : 3000\n",
      "Combined docs tokens count: 1701\n",
      "1701\n"
     ]
    },
    {
     "name": "stderr",
     "output_type": "stream",
     "text": [
      "127.0.0.1 - - [06/Jun/2023 15:46:37] \"GET /askQuestion/?question=what%20are%20Authentication%20issues&skip=1 HTTP/1.1\" 200 -\n"
     ]
    },
    {
     "name": "stdout",
     "output_type": "stream",
     "text": [
      "Authentication issues refer to difficulties that customers using Azure Multi-Factor Authentication (MFA) may have experienced when attempting to receive push notifications on their Android phones or when using SMS as an MFA method. These issues were caused by a variety of factors, including bugs in recent code changes, errors with third-party push notification services, and issues with specific versions of the Microsoft Authenticator app. Microsoft responded to these incidents by investigating the root cause of the issue, rolling out fixes to mitigate the impact, and improving the resiliency of the service to prevent future occurrences. Customers can make incidents like this less impactful by configuring Azure Service Health alerts, and Microsoft is working to improve its incident communications to be more useful. \n",
      "\n",
      "SOURCES: Tracking ID FLX7-VD8, M0L-VC0, BL8Y-DT8, VS5M-RS8, FKPH-7Z8.\n"
     ]
    }
   ],
   "source": [
    "# flask service\n",
    "\n",
    "if mode == \"Service\":\n",
    "\n",
    "    from flask import Flask, request,  jsonify\n",
    "    app = Flask(__name__)\n",
    "\n",
    "    HTTP_400_BAD_REQUEST = 400\n",
    "\n",
    "    llm3 = AzureChatOpenAI(deployment_name=MODEL, temperature=0, max_tokens=500)\n",
    "\n",
    "    @app.route('/askQuestion/')\n",
    "    def hello_world():\n",
    "        if request.args is None:\n",
    "            return jsonify({'error': \"No question asked\"}),HTTP_400_BAD_REQUEST    \n",
    "\n",
    "        question = request.args.get('question')\n",
    "        if question is None or len(question) == 0: \n",
    "            return jsonify({'error': \"No question asked\"}),HTTP_400_BAD_REQUEST\n",
    "        \n",
    "        \n",
    "        skip = 0\n",
    "        try:\n",
    "            skip = int(request.args.get('skip'))\n",
    "        except:\n",
    "            skip = 0\n",
    "\n",
    "        search_complete = False\n",
    "        print(f\"the question is: {question}\")\n",
    "        print(f\"skip is: {skip}\")\n",
    "        top_docs3,chain_type3,search_complete,num_searched_docs = search_wrapper(question,skip)               \n",
    "        answer3 = get_chat_response(question,llm3,chain_type3,top_docs3)      \n",
    "\n",
    "\n",
    "        try:\n",
    "            answer = answer3.split(\"SOURCES:\")[0]\n",
    "        except:\n",
    "            answer = \"\"\n",
    "\n",
    "        try:\n",
    "            sources = answer3.split(\"SOURCES:\")[1].replace(\" \",\"\").split(\",\")\n",
    "        except: \n",
    "            sources = \"\"           \n",
    "\n",
    "        return jsonify(answer = answer , source_tracking_ids = sources, next_skip = skip +1, search_complete = search_complete)   \n",
    "\n",
    "    \n",
    "    app.run()"
   ]
  },
  {
   "attachments": {},
   "cell_type": "markdown",
   "metadata": {},
   "source": [
    "Sample:\n",
    "\n",
    "http://127.0.0.1:5000/askQuestion/?question=%22what%20are%20Authentication%20issues%22\n",
    "\n",
    "\n",
    "\n",
    "{\n",
    "    \"answer\":\"Authentication issues refer to difficulties experienced by customers when attempting to access Azure, Dynamics 365, and/or Microsoft 365 due to platform issues or third-party push notification service errors. The causes of these issues are identified in the Tracking IDs RV5D-7S0, F_BK-398, and FKPH-7Z8. The responses to these issues include mitigating the impact, increasing instance counts, routing traffic to other regions, and failing over to the legacy channel. Microsoft is taking steps to improve resiliency, monitoring, and documentation to prevent or reduce the impact of future incidents. Customers can also evaluate the reliability of their applications and configure Azure Service Health alerts to be notified of future service issues. \\n\",\n",
    "    \"num_tracking_ids\":4,\n",
    "    \"search_complete\":true,\n",
    "    \"source_tracking_ids\":[\"RV5D-7S0\",\"F_BK-398\",\"FKPH-7Z8\"]}\n",
    "\n",
    "{\"answer\":\"Authentication issues refer to difficulties experienced by customers when attempting to access Azure, Dynamics 365, and/or Microsoft 365 due to platform issues or third-party push notification service errors. The causes of these issues are identified in the Tracking IDs RV5D-7S0, F_BK-398, and FKPH-7Z8. The sources provide detailed information on what went wrong, how Microsoft responded, and the steps being taken to improve the service and make incidents like this less likely or less impactful. \\n\",\"num_tracking_ids\":4,\"search_complete\":false,\"source_tracking_ids\":[\"RV5D-7S0\",\"F_BK-398\",\"FKPH-7Z8\"]}"
   ]
  }
 ],
 "metadata": {
  "kernelspec": {
   "display_name": "Python 3",
   "language": "python",
   "name": "python3"
  },
  "language_info": {
   "codemirror_mode": {
    "name": "ipython",
    "version": 3
   },
   "file_extension": ".py",
   "mimetype": "text/x-python",
   "name": "python",
   "nbconvert_exporter": "python",
   "pygments_lexer": "ipython3",
   "version": "3.10.2"
  },
  "orig_nbformat": 4
 },
 "nbformat": 4,
 "nbformat_minor": 2
}
