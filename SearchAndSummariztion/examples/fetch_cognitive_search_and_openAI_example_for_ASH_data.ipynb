{
 "cells": [
  {
   "cell_type": "code",
   "execution_count": 88,
   "metadata": {},
   "outputs": [],
   "source": [
    "import os\n",
    "import urllib\n",
    "import requests\n",
    "import random\n",
    "from collections import OrderedDict\n",
    "from IPython.display import display, HTML\n",
    "from langchain.chains import LLMChain\n",
    "from langchain.prompts import PromptTemplate\n",
    "from langchain.llms import AzureOpenAI\n",
    "from langchain.chat_models import AzureChatOpenAI\n",
    "from langchain.vectorstores import FAISS\n",
    "from langchain.docstore.document import Document\n",
    "from langchain.chains.question_answering import load_qa_chain\n",
    "from langchain.chains.qa_with_sources import load_qa_with_sources_chain\n",
    "from langchain.embeddings import HuggingFaceEmbeddings\n",
    "from langchain.embeddings import OpenAIEmbeddings\n",
    "from configparser import ConfigParser\n",
    "\n",
    "parser = ConfigParser()\n",
    "parser.read('../secrets.cfg')\n",
    "\n",
    "AZURE_SEARCH_API_VERSION = parser.get('my_api','AZURE_SEARCH_API_VERSION')\n",
    "AZURE_OPENAI_API_VERSION = parser.get('my_api','AZURE_OPENAI_API_VERSION')\n",
    "AZURE_SEARCH_ENDPOINT = parser.get('my_api','AZURE_SEARCH_ENDPOINT')\n",
    "AZURE_SEARCH_KEY = parser.get('my_api','AZURE_SEARCH_KEY')\n",
    "AZURE_OPENAI_ENDPOINT = parser.get('my_api','AZURE_OPENAI_ENDPOINT')\n",
    "AZURE_OPENAI_API_KEY = parser.get('my_api','AZURE_OPENAI_API_KEY')\n",
    "\n",
    "# Setup the Payloads header\n",
    "headers = {'Content-Type': 'application/json','api-key': AZURE_SEARCH_KEY}\n",
    "\n",
    "indexes = [\"servicehealthfhl-index1\"]"
   ]
  },
  {
   "cell_type": "code",
   "execution_count": 89,
   "metadata": {},
   "outputs": [],
   "source": [
    "QUESTION = \"what are the Authentication issues?\" # the question asked by the user\n",
    "#QUESTION = \"platform issues\"\n",
    "#QUESTION = \"SMS for Multi-Factor Authentication\" \n",
    "#QUESTION = \"what issues were caused by Azure Active Directory\"\n",
    "#question = \"what are the common between events xyz\""
   ]
  },
  {
   "cell_type": "code",
   "execution_count": 90,
   "metadata": {},
   "outputs": [
    {
     "name": "stdout",
     "output_type": "stream",
     "text": [
      "https://servicehealth-summaryparser.search.windows.net/indexes/servicehealthfhl-index1/docs?api-version=2021-04-30-Preview&search=what are the Authentication issues?&select=*&$top=5&queryLanguage=en-us&queryType=semantic&semanticConfiguration=servicehealthfhl-semantic-config&$count=true&speller=lexicon&answers=extractive|count-3&captions=extractive|highlight-false\n",
      "200\n",
      "Results Found: 7, Results Returned: 5\n"
     ]
    },
    {
     "data": {
      "text/plain": [
       "[{'@odata.context': \"https://servicehealth-summaryparser.search.windows.net/indexes('servicehealthfhl-index1')/$metadata#docs(*)\",\n",
       "  '@odata.count': 7,\n",
       "  '@search.answers': [],\n",
       "  'value': [{'@search.score': 1.7600523,\n",
       "    '@search.rerankerScore': 1.0018234252929688,\n",
       "    '@search.captions': [{'text': 'RCA - Azure Multi-Factor Authentication - MFA Pull Down Refresh Issues.',\n",
       "      'highlights': ''}],\n",
       "    'id': 'FLX7-VD8',\n",
       "    'title': 'RCA - Azure Multi-Factor Authentication - MFA Pull Down Refresh Issues',\n",
       "    'content': None,\n",
       "    'language': 'en',\n",
       "    'pages': ['What happened?\\nYou were impacted by a platform issue that caused some of our Multi-Factor Authentication (MFA) customers to experience issues when attempting a pull-down refresh using the Microsoft Authenticator app on Android devices, between 19:19 UTC on 6 Mar 2023 and 22:20 UTC on 21 March 2023. While this issue impacted only one scenario where customers used a pull-down refresh instead of interacting with the push notification, unfortunately it impacted one or more of your Azure subscriptions. That’s why we’re providing you with this Post Incident Review (PIR) – to summarize what went wrong, how we responded, and the steps Microsoft is taking to learn from this and improve.\\nWhat went wrong and why?\\nThe Microsoft Authenticator app has support for a client-initiated refresh to allow customers to poll for a pending notification from the service. A recent service update contained a new feature that exposed a code issue when refreshing the Microsoft Authenticator app using the Pull-to-Refresh feature on Android devices. This only impacted users that utilize the Pull-to-Refresh feature on specific versions of the Microsoft Authenticator app to receive the authentication notification. Interactions with push notifications were not affected. While the service update followed our safe deployment practices, this break was not detected until reported by customers as the volume of Microsoft Authenticator Pull-to-Refresh requests from Android devices is very low.\\nHow did we respond?\\nUpon receiving the customer reports, we investigated and identified the feature that was causing this experience degradation. A configuration override was prepared by 19:39 UTC on 21 March 2023 and safely rolled out to mitigate the impact by 22:20 UTC on 21 March 2023. Affected customers may have needed to re-register their devices for multi-factor authentication.\\nHow are we making incidents like this less likely or less impactful?\\nWe are enhancing our telemetry to detect these issues on a per flow granularity instead of a holistic one. This will show us immediately when one of these flows is affected by an issue in the future.\\nWe are also taking steps to ensure that low volume scenarios have adequate validations to help protect against the possibility of this kind of failure.\\nHow can customers make incidents like this less impactful?\\nFinally, consider ensuring that the right people in your organization will be notified about any future service issues - by configuring Azure Service Health alerts. These can trigger emails, SMS, push notifications, webhooks, and more: https://aka.ms/ash-alerts\\nHow can we make our incident communications more useful?\\nYou can rate this PIR and provide any feedback using our quick 3-question survey.'],\n",
       "    'startTime': '2023-03-17T09:05:33.49Z',\n",
       "    'mitigationTime': '2023-03-21T10:20:28Z'},\n",
       "   {'@search.score': 1.6088759,\n",
       "    '@search.rerankerScore': 0.9531326293945312,\n",
       "    '@search.captions': [{'text': 'PIR/ RCA - Azure Multi-Factor Authentication - Issues with Push Notifications.',\n",
       "      'highlights': ''}],\n",
       "    'id': 'M0L-VC0',\n",
       "    'title': 'PIR/ RCA - Azure Multi-Factor Authentication - Issues with Push Notifications',\n",
       "    'content': None,\n",
       "    'language': 'en',\n",
       "    'pages': [\"What happened?\\nBetween 13:00 UTC and 14:05 UTC on 12 April 2023 you were identified as a customer using Azure Multi-Factor Authentication (MFA) that may have experienced difficulties receiving push notifications on their Android phones due to an issue with a third-party provider. Apple iOS users, and other MFA methods, were not impacted.\\nWhat went wrong and why?\\nWe determined the cause of these push notification issues was due to an issue with a third-party provider's push notification service. We determined that calls to this service were experiencing a high rate of errors.\\xa0\\nHow did we respond?\\nWe were alerted to the issue by monitoring. We were able to fall back to a legacy system that was operating normally with minimal failures. We manually performed a failover following our safe deployment practices, which allowed MFA to completely recover. Once the third-party provider's push notification service recovered, we failed back the traffic.\\xa0\\nHow are we making incidents like this less likely or less impactful?\\nWe improved the resiliency of the service by configuring an automatic failover of push notification traffic to the legacy system if the primary system experiences degradation. (Completed)We are updating our public documentation, recommending customers to complete the MFA request (even without a push notification) by opening the Microsoft Authenticator app and approving. (Completed)We are improving the user experience for similar issues, to convey that users can complete the MFA request by opening the Authenticator App if they are not receiving push notification (Estimated Completion: October 2023).\\nHow can customers make incidents like this less impactful?\\nConsider ensuring that the right people in your organization will be notified about any future service issues - by configuring Azure Service Health alerts. These can trigger emails, SMS, push notifications, webhooks, and more:\\xa0https://aka.ms/ash-alerts\\nHow can we make our incident communications more useful?\\nYou can rate this PIR and provide any feedback using our quick 3-question survey.\"],\n",
       "    'startTime': '2023-04-12T13:00:27Z',\n",
       "    'mitigationTime': '2023-04-12T14:05:28Z'},\n",
       "   {'@search.score': 0.68324494,\n",
       "    '@search.rerankerScore': 0.9051666259765625,\n",
       "    '@search.captions': [{'text': 'PIR/RCA - Azure Multi-Factor Authentication - Issues using Voice for Multi-Factor Authentication (MFA) in Philippines.',\n",
       "      'highlights': ''}],\n",
       "    'id': 'RKWL-T98',\n",
       "    'title': 'PIR/RCA - Azure Multi-Factor Authentication - Issues using Voice for Multi-Factor Authentication (MFA) in Philippines',\n",
       "    'content': None,\n",
       "    'language': 'en',\n",
       "    'pages': ['What happened?\\nYou were impacted by a platform issue that caused some of our Azure Multi-Factor Authentication (MFA) customers in the Philippines to experience difficulties signing into Azure resources, such as Azure Active Directory, when MFA is required by policy, between 01:03 and 06:34 UTC on 16 May 2023.\\nWhat went wrong and why?\\nOur telemetry indicated that the issue was related to the voice service providers in Philippines, which impacted Azure MFA users.\\nHow did we respond?\\nThe voice service providers in Philippines recovered, which subsequently mitigated the impact to Azure MFA.\\nHow are we making incidents like this less likely or less impactful?\\nWe continue to work with our service providers to prevent further occurrences of this kind and future issues.\\nHow can we make our incident communications more useful?\\nYou can rate this PIR and provide any feedback using our quick 3-question survey.'],\n",
       "    'startTime': '2023-05-16T01:26:28.41Z',\n",
       "    'mitigationTime': '2023-05-16T06:34:00Z'},\n",
       "   {'@search.score': 0.28582606,\n",
       "    '@search.rerankerScore': 0.7606163024902344,\n",
       "    '@search.captions': [{'text': 'Azure Multi-Factor Authentication (MFA) - Applying Mitigation.',\n",
       "      'highlights': ''}],\n",
       "    'id': 'BL8Y-DT8',\n",
       "    'title': 'Azure Multi-Factor Authentication (MFA) - Applying Mitigation',\n",
       "    'content': None,\n",
       "    'language': 'en',\n",
       "    'pages': ['Summary of impact:\\xa0Between 05:38 UTC on 12 May 2023 and and 07:48 UTC on 20 May 2023, you were identified as a customer using Azure Multi-Factor Authentication (MFA) wherein users may be blocked while using Windows first time setup (Out of Box Experience) or Windows Intune AutoPilot and Authenticator App with Code Match is used as an MFA method.\\nPreliminary root cause:\\xa0A recent code change to update the service introduced a bug that caused the issue.\\xa0\\nMitigation:\\xa0We rolled out a fix in the update code to mitigate the issue.\\xa0\\nNext steps:\\xa0We will continue to investigate to establish the full root cause and prevent future occurrences. Stay informed about Azure service issues by creating custom service health alerts:\\xa0\\xa0https://aka.ms/ash-videos\\xa0for video tutorials and\\xa0\\xa0https://aka.ms/ash-alerts\\xa0for how-to documentation.'],\n",
       "    'startTime': '2023-05-19T06:21:30.633Z',\n",
       "    'mitigationTime': '2023-05-20T07:48:21Z'},\n",
       "   {'@search.score': 0.2824934,\n",
       "    '@search.rerankerScore': 0.6464347839355469,\n",
       "    '@search.captions': [{'text': 'PIR - Azure Multi-Factor Authentication.',\n",
       "      'highlights': ''}],\n",
       "    'id': 'FKPH-7Z8',\n",
       "    'title': 'PIR - Azure Multi-Factor Authentication',\n",
       "    'content': None,\n",
       "    'language': 'en',\n",
       "    'pages': ['What happened?\\nBetween 13:00 UTC and 15:50 UTC on 4 April 2023, customers using Authenticator App for Azure Multi-Factor Authentication (MFA) may have experienced difficulties in receiving push notification on their Android phones to sign into Azure resources, such as Azure Active Directory, when Multi-Factor Authentication is required by policy. As this issue was global and impacted more than one region, we are providing you with this Post Incident Review (PIR) to summarize what went wrong, how we responded, and the steps Microsoft is taking to learn from this and improve.\\nWhat went wrong and why?\\nThe cause of the issue was a third-party push notification service experiencing high rates of errors.\\nHow did we respond?\\nOur monitors alerted us about the issue. The dashboard indicated that the issue was global impacting multiple regions. Based our our investigation it was revealed that the legacy channel, which is planned to be deprecated sometime in future, was operating normal with minimal failures. We manually performed a failover to the legacy channel following safe deployment plan, which allowed Azure MFA to completely recover. Once the third-party push notification service declared mitigation, we failed back the traffic.\\nHow are we making incidents like this less likely or less impactful?\\nWe have updated our troubleshooting guide to consider failing over the traffic to legacy channel for push notification traffic for Android if the primary channel is experiencing degradation (Completed).We are working on improving the resiliency to automatically failover push notification traffic to legacy channel if the primary channel experiences degradation.We are improving our public documentation so it recommends customers to complete the MFA request by opening up Microsoft Authenticator App and approving the request.In the longer term, we are improving the user experience to convey that they can complete the MFA request by opening the Authenticator App, if they are not receiving push notification.\\nHow can we make our incident communications more useful?\\nYou can rate this PIR and provide any feedback using our quick 3-question survey.'],\n",
       "    'startTime': '2023-04-04T13:00:42Z',\n",
       "    'mitigationTime': '2023-04-04T16:34:00Z'}]}]"
      ]
     },
     "execution_count": 90,
     "metadata": {},
     "output_type": "execute_result"
    }
   ],
   "source": [
    "agg_search_results = [] # get the events the question might pertain to currently gets 5 in the example\n",
    "\n",
    "for index in indexes:\n",
    "    url = AZURE_SEARCH_ENDPOINT + '/indexes/'+ index + '/docs'\n",
    "    url += '?api-version={}'.format(AZURE_SEARCH_API_VERSION)\n",
    "    url += '&search={}'.format(QUESTION)\n",
    "    url += '&select=*'\n",
    "    url += '&$top=5'  # You can change this to anything you need/want\n",
    "    url += '&queryLanguage=en-us'\n",
    "    url += '&queryType=semantic'\n",
    "    url += '&semanticConfiguration=servicehealthfhl-semantic-config'\n",
    "    url += '&$count=true'\n",
    "    url += '&speller=lexicon'\n",
    "    url += '&answers=extractive|count-3'\n",
    "    url += '&captions=extractive|highlight-false'\n",
    "\n",
    "    resp = requests.get(url, headers=headers)\n",
    "    print(url)\n",
    "    print(resp.status_code)\n",
    "\n",
    "    search_results = resp.json()\n",
    "    agg_search_results.append(search_results)\n",
    "    print(\"Results Found: {}, Results Returned: {}\".format(search_results['@odata.count'], len(search_results['value'])))\n",
    "agg_search_results"
   ]
  },
  {
   "cell_type": "code",
   "execution_count": 91,
   "metadata": {},
   "outputs": [
    {
     "data": {
      "text/html": [
       "<h4>Top Answers</h4>"
      ],
      "text/plain": [
       "<IPython.core.display.HTML object>"
      ]
     },
     "metadata": {},
     "output_type": "display_data"
    },
    {
     "name": "stdout",
     "output_type": "stream",
     "text": [
      "\n",
      "\n",
      "\n"
     ]
    },
    {
     "data": {
      "text/html": [
       "<h4>Top Results</h4>"
      ],
      "text/plain": [
       "<IPython.core.display.HTML object>"
      ]
     },
     "metadata": {},
     "output_type": "display_data"
    },
    {
     "name": "stdout",
     "output_type": "stream",
     "text": [
      "{'FLX7-VD8': {'title': 'RCA - Azure Multi-Factor Authentication - MFA Pull Down Refresh Issues', 'chunks': ['What happened?\\nYou were impacted by a platform issue that caused some of our Multi-Factor Authentication (MFA) customers to experience issues when attempting a pull-down refresh using the Microsoft Authenticator app on Android devices, between 19:19 UTC on 6 Mar 2023 and 22:20 UTC on 21 March 2023. While this issue impacted only one scenario where customers used a pull-down refresh instead of interacting with the push notification, unfortunately it impacted one or more of your Azure subscriptions. That’s why we’re providing you with this Post Incident Review (PIR) – to summarize what went wrong, how we responded, and the steps Microsoft is taking to learn from this and improve.\\nWhat went wrong and why?\\nThe Microsoft Authenticator app has support for a client-initiated refresh to allow customers to poll for a pending notification from the service. A recent service update contained a new feature that exposed a code issue when refreshing the Microsoft Authenticator app using the Pull-to-Refresh feature on Android devices. This only impacted users that utilize the Pull-to-Refresh feature on specific versions of the Microsoft Authenticator app to receive the authentication notification. Interactions with push notifications were not affected. While the service update followed our safe deployment practices, this break was not detected until reported by customers as the volume of Microsoft Authenticator Pull-to-Refresh requests from Android devices is very low.\\nHow did we respond?\\nUpon receiving the customer reports, we investigated and identified the feature that was causing this experience degradation. A configuration override was prepared by 19:39 UTC on 21 March 2023 and safely rolled out to mitigate the impact by 22:20 UTC on 21 March 2023. Affected customers may have needed to re-register their devices for multi-factor authentication.\\nHow are we making incidents like this less likely or less impactful?\\nWe are enhancing our telemetry to detect these issues on a per flow granularity instead of a holistic one. This will show us immediately when one of these flows is affected by an issue in the future.\\nWe are also taking steps to ensure that low volume scenarios have adequate validations to help protect against the possibility of this kind of failure.\\nHow can customers make incidents like this less impactful?\\nFinally, consider ensuring that the right people in your organization will be notified about any future service issues - by configuring Azure Service Health alerts. These can trigger emails, SMS, push notifications, webhooks, and more: https://aka.ms/ash-alerts\\nHow can we make our incident communications more useful?\\nYou can rate this PIR and provide any feedback using our quick 3-question survey.'], 'language': 'en', 'caption': 'RCA - Azure Multi-Factor Authentication - MFA Pull Down Refresh Issues.', 'score': 1.0018234252929688}, 'M0L-VC0': {'title': 'PIR/ RCA - Azure Multi-Factor Authentication - Issues with Push Notifications', 'chunks': [\"What happened?\\nBetween 13:00 UTC and 14:05 UTC on 12 April 2023 you were identified as a customer using Azure Multi-Factor Authentication (MFA) that may have experienced difficulties receiving push notifications on their Android phones due to an issue with a third-party provider. Apple iOS users, and other MFA methods, were not impacted.\\nWhat went wrong and why?\\nWe determined the cause of these push notification issues was due to an issue with a third-party provider's push notification service. We determined that calls to this service were experiencing a high rate of errors.\\xa0\\nHow did we respond?\\nWe were alerted to the issue by monitoring. We were able to fall back to a legacy system that was operating normally with minimal failures. We manually performed a failover following our safe deployment practices, which allowed MFA to completely recover. Once the third-party provider's push notification service recovered, we failed back the traffic.\\xa0\\nHow are we making incidents like this less likely or less impactful?\\nWe improved the resiliency of the service by configuring an automatic failover of push notification traffic to the legacy system if the primary system experiences degradation. (Completed)We are updating our public documentation, recommending customers to complete the MFA request (even without a push notification) by opening the Microsoft Authenticator app and approving. (Completed)We are improving the user experience for similar issues, to convey that users can complete the MFA request by opening the Authenticator App if they are not receiving push notification (Estimated Completion: October 2023).\\nHow can customers make incidents like this less impactful?\\nConsider ensuring that the right people in your organization will be notified about any future service issues - by configuring Azure Service Health alerts. These can trigger emails, SMS, push notifications, webhooks, and more:\\xa0https://aka.ms/ash-alerts\\nHow can we make our incident communications more useful?\\nYou can rate this PIR and provide any feedback using our quick 3-question survey.\"], 'language': 'en', 'caption': 'PIR/ RCA - Azure Multi-Factor Authentication - Issues with Push Notifications.', 'score': 0.9531326293945312}, 'RKWL-T98': {'title': 'PIR/RCA - Azure Multi-Factor Authentication - Issues using Voice for Multi-Factor Authentication (MFA) in Philippines', 'chunks': ['What happened?\\nYou were impacted by a platform issue that caused some of our Azure Multi-Factor Authentication (MFA) customers in the Philippines to experience difficulties signing into Azure resources, such as Azure Active Directory, when MFA is required by policy, between 01:03 and 06:34 UTC on 16 May 2023.\\nWhat went wrong and why?\\nOur telemetry indicated that the issue was related to the voice service providers in Philippines, which impacted Azure MFA users.\\nHow did we respond?\\nThe voice service providers in Philippines recovered, which subsequently mitigated the impact to Azure MFA.\\nHow are we making incidents like this less likely or less impactful?\\nWe continue to work with our service providers to prevent further occurrences of this kind and future issues.\\nHow can we make our incident communications more useful?\\nYou can rate this PIR and provide any feedback using our quick 3-question survey.'], 'language': 'en', 'caption': 'PIR/RCA - Azure Multi-Factor Authentication - Issues using Voice for Multi-Factor Authentication (MFA) in Philippines.', 'score': 0.9051666259765625}, 'BL8Y-DT8': {'title': 'Azure Multi-Factor Authentication (MFA) - Applying Mitigation', 'chunks': ['Summary of impact:\\xa0Between 05:38 UTC on 12 May 2023 and and 07:48 UTC on 20 May 2023, you were identified as a customer using Azure Multi-Factor Authentication (MFA) wherein users may be blocked while using Windows first time setup (Out of Box Experience) or Windows Intune AutoPilot and Authenticator App with Code Match is used as an MFA method.\\nPreliminary root cause:\\xa0A recent code change to update the service introduced a bug that caused the issue.\\xa0\\nMitigation:\\xa0We rolled out a fix in the update code to mitigate the issue.\\xa0\\nNext steps:\\xa0We will continue to investigate to establish the full root cause and prevent future occurrences. Stay informed about Azure service issues by creating custom service health alerts:\\xa0\\xa0https://aka.ms/ash-videos\\xa0for video tutorials and\\xa0\\xa0https://aka.ms/ash-alerts\\xa0for how-to documentation.'], 'language': 'en', 'caption': 'Azure Multi-Factor Authentication (MFA) - Applying Mitigation.', 'score': 0.7606163024902344}, 'FKPH-7Z8': {'title': 'PIR - Azure Multi-Factor Authentication', 'chunks': ['What happened?\\nBetween 13:00 UTC and 15:50 UTC on 4 April 2023, customers using Authenticator App for Azure Multi-Factor Authentication (MFA) may have experienced difficulties in receiving push notification on their Android phones to sign into Azure resources, such as Azure Active Directory, when Multi-Factor Authentication is required by policy. As this issue was global and impacted more than one region, we are providing you with this Post Incident Review (PIR) to summarize what went wrong, how we responded, and the steps Microsoft is taking to learn from this and improve.\\nWhat went wrong and why?\\nThe cause of the issue was a third-party push notification service experiencing high rates of errors.\\nHow did we respond?\\nOur monitors alerted us about the issue. The dashboard indicated that the issue was global impacting multiple regions. Based our our investigation it was revealed that the legacy channel, which is planned to be deprecated sometime in future, was operating normal with minimal failures. We manually performed a failover to the legacy channel following safe deployment plan, which allowed Azure MFA to completely recover. Once the third-party push notification service declared mitigation, we failed back the traffic.\\nHow are we making incidents like this less likely or less impactful?\\nWe have updated our troubleshooting guide to consider failing over the traffic to legacy channel for push notification traffic for Android if the primary channel is experiencing degradation (Completed).We are working on improving the resiliency to automatically failover push notification traffic to legacy channel if the primary channel experiences degradation.We are improving our public documentation so it recommends customers to complete the MFA request by opening up Microsoft Authenticator App and approving the request.In the longer term, we are improving the user experience to convey that they can complete the MFA request by opening the Authenticator App, if they are not receiving push notification.\\nHow can we make our incident communications more useful?\\nYou can rate this PIR and provide any feedback using our quick 3-question survey.'], 'language': 'en', 'caption': 'PIR - Azure Multi-Factor Authentication.', 'score': 0.6464347839355469}}\n"
     ]
    },
    {
     "data": {
      "text/html": [
       "<h5><a href=\"https://servicehealth-summaryparser.search.windows.net/indexes/servicehealthfhl-index1/docs?api-version=2021-04-30-Preview&search=what are the Authentication issues?&select=*&$top=5&queryLanguage=en-us&queryType=semantic&semanticConfiguration=servicehealthfhl-semantic-config&$count=true&speller=lexicon&answers=extractive|count-3&captions=extractive|highlight-false\">RCA - Azure Multi-Factor Authentication - MFA Pull Down Refresh Issues</a> - score: 1.0</h5>"
      ],
      "text/plain": [
       "<IPython.core.display.HTML object>"
      ]
     },
     "metadata": {},
     "output_type": "display_data"
    },
    {
     "data": {
      "text/html": [
       "RCA - Azure Multi-Factor Authentication - MFA Pull Down Refresh Issues."
      ],
      "text/plain": [
       "<IPython.core.display.HTML object>"
      ]
     },
     "metadata": {},
     "output_type": "display_data"
    },
    {
     "data": {
      "text/html": [
       "<h5><a href=\"https://servicehealth-summaryparser.search.windows.net/indexes/servicehealthfhl-index1/docs?api-version=2021-04-30-Preview&search=what are the Authentication issues?&select=*&$top=5&queryLanguage=en-us&queryType=semantic&semanticConfiguration=servicehealthfhl-semantic-config&$count=true&speller=lexicon&answers=extractive|count-3&captions=extractive|highlight-false\">PIR/ RCA - Azure Multi-Factor Authentication - Issues with Push Notifications</a> - score: 0.95</h5>"
      ],
      "text/plain": [
       "<IPython.core.display.HTML object>"
      ]
     },
     "metadata": {},
     "output_type": "display_data"
    },
    {
     "data": {
      "text/html": [
       "PIR/ RCA - Azure Multi-Factor Authentication - Issues with Push Notifications."
      ],
      "text/plain": [
       "<IPython.core.display.HTML object>"
      ]
     },
     "metadata": {},
     "output_type": "display_data"
    },
    {
     "data": {
      "text/html": [
       "<h5><a href=\"https://servicehealth-summaryparser.search.windows.net/indexes/servicehealthfhl-index1/docs?api-version=2021-04-30-Preview&search=what are the Authentication issues?&select=*&$top=5&queryLanguage=en-us&queryType=semantic&semanticConfiguration=servicehealthfhl-semantic-config&$count=true&speller=lexicon&answers=extractive|count-3&captions=extractive|highlight-false\">PIR/RCA - Azure Multi-Factor Authentication - Issues using Voice for Multi-Factor Authentication (MFA) in Philippines</a> - score: 0.91</h5>"
      ],
      "text/plain": [
       "<IPython.core.display.HTML object>"
      ]
     },
     "metadata": {},
     "output_type": "display_data"
    },
    {
     "data": {
      "text/html": [
       "PIR/RCA - Azure Multi-Factor Authentication - Issues using Voice for Multi-Factor Authentication (MFA) in Philippines."
      ],
      "text/plain": [
       "<IPython.core.display.HTML object>"
      ]
     },
     "metadata": {},
     "output_type": "display_data"
    },
    {
     "data": {
      "text/html": [
       "<h5><a href=\"https://servicehealth-summaryparser.search.windows.net/indexes/servicehealthfhl-index1/docs?api-version=2021-04-30-Preview&search=what are the Authentication issues?&select=*&$top=5&queryLanguage=en-us&queryType=semantic&semanticConfiguration=servicehealthfhl-semantic-config&$count=true&speller=lexicon&answers=extractive|count-3&captions=extractive|highlight-false\">Azure Multi-Factor Authentication (MFA) - Applying Mitigation</a> - score: 0.76</h5>"
      ],
      "text/plain": [
       "<IPython.core.display.HTML object>"
      ]
     },
     "metadata": {},
     "output_type": "display_data"
    },
    {
     "data": {
      "text/html": [
       "Azure Multi-Factor Authentication (MFA) - Applying Mitigation."
      ],
      "text/plain": [
       "<IPython.core.display.HTML object>"
      ]
     },
     "metadata": {},
     "output_type": "display_data"
    },
    {
     "data": {
      "text/html": [
       "<h5><a href=\"https://servicehealth-summaryparser.search.windows.net/indexes/servicehealthfhl-index1/docs?api-version=2021-04-30-Preview&search=what are the Authentication issues?&select=*&$top=5&queryLanguage=en-us&queryType=semantic&semanticConfiguration=servicehealthfhl-semantic-config&$count=true&speller=lexicon&answers=extractive|count-3&captions=extractive|highlight-false\">PIR - Azure Multi-Factor Authentication</a> - score: 0.65</h5>"
      ],
      "text/plain": [
       "<IPython.core.display.HTML object>"
      ]
     },
     "metadata": {},
     "output_type": "display_data"
    },
    {
     "data": {
      "text/html": [
       "PIR - Azure Multi-Factor Authentication."
      ],
      "text/plain": [
       "<IPython.core.display.HTML object>"
      ]
     },
     "metadata": {},
     "output_type": "display_data"
    },
    {
     "data": {
      "text/plain": [
       "OrderedDict([('FLX7-VD8',\n",
       "              {'title': 'RCA - Azure Multi-Factor Authentication - MFA Pull Down Refresh Issues',\n",
       "               'chunks': ['What happened?\\nYou were impacted by a platform issue that caused some of our Multi-Factor Authentication (MFA) customers to experience issues when attempting a pull-down refresh using the Microsoft Authenticator app on Android devices, between 19:19 UTC on 6 Mar 2023 and 22:20 UTC on 21 March 2023. While this issue impacted only one scenario where customers used a pull-down refresh instead of interacting with the push notification, unfortunately it impacted one or more of your Azure subscriptions. That’s why we’re providing you with this Post Incident Review (PIR) – to summarize what went wrong, how we responded, and the steps Microsoft is taking to learn from this and improve.\\nWhat went wrong and why?\\nThe Microsoft Authenticator app has support for a client-initiated refresh to allow customers to poll for a pending notification from the service. A recent service update contained a new feature that exposed a code issue when refreshing the Microsoft Authenticator app using the Pull-to-Refresh feature on Android devices. This only impacted users that utilize the Pull-to-Refresh feature on specific versions of the Microsoft Authenticator app to receive the authentication notification. Interactions with push notifications were not affected. While the service update followed our safe deployment practices, this break was not detected until reported by customers as the volume of Microsoft Authenticator Pull-to-Refresh requests from Android devices is very low.\\nHow did we respond?\\nUpon receiving the customer reports, we investigated and identified the feature that was causing this experience degradation. A configuration override was prepared by 19:39 UTC on 21 March 2023 and safely rolled out to mitigate the impact by 22:20 UTC on 21 March 2023. Affected customers may have needed to re-register their devices for multi-factor authentication.\\nHow are we making incidents like this less likely or less impactful?\\nWe are enhancing our telemetry to detect these issues on a per flow granularity instead of a holistic one. This will show us immediately when one of these flows is affected by an issue in the future.\\nWe are also taking steps to ensure that low volume scenarios have adequate validations to help protect against the possibility of this kind of failure.\\nHow can customers make incidents like this less impactful?\\nFinally, consider ensuring that the right people in your organization will be notified about any future service issues - by configuring Azure Service Health alerts. These can trigger emails, SMS, push notifications, webhooks, and more: https://aka.ms/ash-alerts\\nHow can we make our incident communications more useful?\\nYou can rate this PIR and provide any feedback using our quick 3-question survey.'],\n",
       "               'language': 'en',\n",
       "               'caption': 'RCA - Azure Multi-Factor Authentication - MFA Pull Down Refresh Issues.',\n",
       "               'score': 1.0018234252929688}),\n",
       "             ('M0L-VC0',\n",
       "              {'title': 'PIR/ RCA - Azure Multi-Factor Authentication - Issues with Push Notifications',\n",
       "               'chunks': [\"What happened?\\nBetween 13:00 UTC and 14:05 UTC on 12 April 2023 you were identified as a customer using Azure Multi-Factor Authentication (MFA) that may have experienced difficulties receiving push notifications on their Android phones due to an issue with a third-party provider. Apple iOS users, and other MFA methods, were not impacted.\\nWhat went wrong and why?\\nWe determined the cause of these push notification issues was due to an issue with a third-party provider's push notification service. We determined that calls to this service were experiencing a high rate of errors.\\xa0\\nHow did we respond?\\nWe were alerted to the issue by monitoring. We were able to fall back to a legacy system that was operating normally with minimal failures. We manually performed a failover following our safe deployment practices, which allowed MFA to completely recover. Once the third-party provider's push notification service recovered, we failed back the traffic.\\xa0\\nHow are we making incidents like this less likely or less impactful?\\nWe improved the resiliency of the service by configuring an automatic failover of push notification traffic to the legacy system if the primary system experiences degradation. (Completed)We are updating our public documentation, recommending customers to complete the MFA request (even without a push notification) by opening the Microsoft Authenticator app and approving. (Completed)We are improving the user experience for similar issues, to convey that users can complete the MFA request by opening the Authenticator App if they are not receiving push notification (Estimated Completion: October 2023).\\nHow can customers make incidents like this less impactful?\\nConsider ensuring that the right people in your organization will be notified about any future service issues - by configuring Azure Service Health alerts. These can trigger emails, SMS, push notifications, webhooks, and more:\\xa0https://aka.ms/ash-alerts\\nHow can we make our incident communications more useful?\\nYou can rate this PIR and provide any feedback using our quick 3-question survey.\"],\n",
       "               'language': 'en',\n",
       "               'caption': 'PIR/ RCA - Azure Multi-Factor Authentication - Issues with Push Notifications.',\n",
       "               'score': 0.9531326293945312}),\n",
       "             ('RKWL-T98',\n",
       "              {'title': 'PIR/RCA - Azure Multi-Factor Authentication - Issues using Voice for Multi-Factor Authentication (MFA) in Philippines',\n",
       "               'chunks': ['What happened?\\nYou were impacted by a platform issue that caused some of our Azure Multi-Factor Authentication (MFA) customers in the Philippines to experience difficulties signing into Azure resources, such as Azure Active Directory, when MFA is required by policy, between 01:03 and 06:34 UTC on 16 May 2023.\\nWhat went wrong and why?\\nOur telemetry indicated that the issue was related to the voice service providers in Philippines, which impacted Azure MFA users.\\nHow did we respond?\\nThe voice service providers in Philippines recovered, which subsequently mitigated the impact to Azure MFA.\\nHow are we making incidents like this less likely or less impactful?\\nWe continue to work with our service providers to prevent further occurrences of this kind and future issues.\\nHow can we make our incident communications more useful?\\nYou can rate this PIR and provide any feedback using our quick 3-question survey.'],\n",
       "               'language': 'en',\n",
       "               'caption': 'PIR/RCA - Azure Multi-Factor Authentication - Issues using Voice for Multi-Factor Authentication (MFA) in Philippines.',\n",
       "               'score': 0.9051666259765625}),\n",
       "             ('BL8Y-DT8',\n",
       "              {'title': 'Azure Multi-Factor Authentication (MFA) - Applying Mitigation',\n",
       "               'chunks': ['Summary of impact:\\xa0Between 05:38 UTC on 12 May 2023 and and 07:48 UTC on 20 May 2023, you were identified as a customer using Azure Multi-Factor Authentication (MFA) wherein users may be blocked while using Windows first time setup (Out of Box Experience) or Windows Intune AutoPilot and Authenticator App with Code Match is used as an MFA method.\\nPreliminary root cause:\\xa0A recent code change to update the service introduced a bug that caused the issue.\\xa0\\nMitigation:\\xa0We rolled out a fix in the update code to mitigate the issue.\\xa0\\nNext steps:\\xa0We will continue to investigate to establish the full root cause and prevent future occurrences. Stay informed about Azure service issues by creating custom service health alerts:\\xa0\\xa0https://aka.ms/ash-videos\\xa0for video tutorials and\\xa0\\xa0https://aka.ms/ash-alerts\\xa0for how-to documentation.'],\n",
       "               'language': 'en',\n",
       "               'caption': 'Azure Multi-Factor Authentication (MFA) - Applying Mitigation.',\n",
       "               'score': 0.7606163024902344}),\n",
       "             ('FKPH-7Z8',\n",
       "              {'title': 'PIR - Azure Multi-Factor Authentication',\n",
       "               'chunks': ['What happened?\\nBetween 13:00 UTC and 15:50 UTC on 4 April 2023, customers using Authenticator App for Azure Multi-Factor Authentication (MFA) may have experienced difficulties in receiving push notification on their Android phones to sign into Azure resources, such as Azure Active Directory, when Multi-Factor Authentication is required by policy. As this issue was global and impacted more than one region, we are providing you with this Post Incident Review (PIR) to summarize what went wrong, how we responded, and the steps Microsoft is taking to learn from this and improve.\\nWhat went wrong and why?\\nThe cause of the issue was a third-party push notification service experiencing high rates of errors.\\nHow did we respond?\\nOur monitors alerted us about the issue. The dashboard indicated that the issue was global impacting multiple regions. Based our our investigation it was revealed that the legacy channel, which is planned to be deprecated sometime in future, was operating normal with minimal failures. We manually performed a failover to the legacy channel following safe deployment plan, which allowed Azure MFA to completely recover. Once the third-party push notification service declared mitigation, we failed back the traffic.\\nHow are we making incidents like this less likely or less impactful?\\nWe have updated our troubleshooting guide to consider failing over the traffic to legacy channel for push notification traffic for Android if the primary channel is experiencing degradation (Completed).We are working on improving the resiliency to automatically failover push notification traffic to legacy channel if the primary channel experiences degradation.We are improving our public documentation so it recommends customers to complete the MFA request by opening up Microsoft Authenticator App and approving the request.In the longer term, we are improving the user experience to convey that they can complete the MFA request by opening the Authenticator App, if they are not receiving push notification.\\nHow can we make our incident communications more useful?\\nYou can rate this PIR and provide any feedback using our quick 3-question survey.'],\n",
       "               'language': 'en',\n",
       "               'caption': 'PIR - Azure Multi-Factor Authentication.',\n",
       "               'score': 0.6464347839355469})])"
      ]
     },
     "execution_count": 91,
     "metadata": {},
     "output_type": "execute_result"
    }
   ],
   "source": [
    "# from the above responses more filtering is possible simmilar to \n",
    "\n",
    "display(HTML('<h4>Top Answers</h4>'))\n",
    "\n",
    "for search_results in agg_search_results:\n",
    "    for result in search_results['@search.answers']:\n",
    "        print(result['score'])\n",
    "        if result['score'] > 0.5: # Show answers that are at least 50% of the max possible score=1\n",
    "            print(\"got here\")\n",
    "            display(HTML('<h5>' + 'Answer - score: ' + str(round(result['score'],2)) + '</h5>'))\n",
    "            display(HTML(result['text']))\n",
    "            \n",
    "print(\"\\n\\n\")\n",
    "display(HTML('<h4>Top Results</h4>'))\n",
    "\n",
    "content = dict()\n",
    "ordered_content = OrderedDict()\n",
    "\n",
    "\n",
    "for search_results in agg_search_results:\n",
    "    for result in search_results['value']:\n",
    "        if result['@search.rerankerScore'] > 0.5: # Filter results that are at least 12.5% of the max possible score=4\n",
    "            content[result['id']]={\n",
    "                                    \"title\": result['title'],\n",
    "                                    \"chunks\": result['pages'],\n",
    "                                    \"language\": result['language'], \n",
    "                                    \"caption\": result['@search.captions'][0]['text'],\n",
    "                                    \"score\": result['@search.rerankerScore'],\n",
    "                                    #\"name\": result['metadata_storage_name'], \n",
    "                                    #\"location\": result['metadata_storage_path']                  \n",
    "                                }\n",
    "            \n",
    "print(content)\n",
    "    \n",
    "#After results have been filtered we will Sort and add them as an Ordered list\\n\",\n",
    "for id in sorted(content, key= lambda x: content[x][\"score\"], reverse=True):\n",
    "    ordered_content[id] = content[id]\n",
    "    #url = ordered_content[id]['location'] + DATASOURCE_SAS_TOKEN\n",
    "    title = str(ordered_content[id]['title']) if (ordered_content[id]['title']) else ordered_content[id]['name']\n",
    "    score = str(round(ordered_content[id]['score'],2))\n",
    "    display(HTML('<h5><a href=\"'+ url + '\">' + title + '</a> - score: '+ score + '</h5>'))\n",
    "    display(HTML(ordered_content[id]['caption']))\n",
    "\n",
    "ordered_content"
   ]
  },
  {
   "cell_type": "code",
   "execution_count": 92,
   "metadata": {},
   "outputs": [],
   "source": [
    "# Set the ENV variables that Langchain needs to connect to Azure OpenAI\n",
    "os.environ[\"OPENAI_API_BASE\"] = os.environ[\"AZURE_OPENAI_ENDPOINT\"] = AZURE_OPENAI_ENDPOINT\n",
    "os.environ[\"OPENAI_API_KEY\"] = os.environ[\"AZURE_OPENAI_API_KEY\"] = AZURE_OPENAI_API_KEY\n",
    "os.environ[\"OPENAI_API_VERSION\"] = os.environ[\"AZURE_OPENAI_API_VERSION\"] = AZURE_OPENAI_API_VERSION\n",
    "os.environ[\"OPENAI_API_TYPE\"] = \"azure\"\n",
    "\n",
    "# Create our LLM model\n",
    "# Make sure you have the deployment named \"gpt-35-turbo\" for the model \"gpt-35-turbo (0301)\". \n",
    "# Use \"gpt-4\" if you have it available.\n",
    "MODEL = \"gpt-35-turbo\" # options: gpt-35-turbo, gpt-4, gpt-4-32k\n",
    "llm = AzureChatOpenAI(deployment_name=MODEL, temperature=0, max_tokens=500)"
   ]
  },
  {
   "cell_type": "code",
   "execution_count": 93,
   "metadata": {},
   "outputs": [
    {
     "name": "stdout",
     "output_type": "stream",
     "text": [
      "Number of chunks: 5\n"
     ]
    }
   ],
   "source": [
    "# Iterate over each of the results chunks and create a LangChain Document class to use further in the pipeline\n",
    "docs = []\n",
    "for key,value in ordered_content.items():\n",
    "    for page in value[\"chunks\"]:\n",
    "        docs.append(Document(page_content=page, metadata={\"source\": key}))\n",
    "        \n",
    "print(\"Number of chunks:\",len(docs))"
   ]
  },
  {
   "cell_type": "code",
   "execution_count": 94,
   "metadata": {},
   "outputs": [],
   "source": [
    "COMBINE_QUESTION_PROMPT_TEMPLATE = \"\"\"Use the following portion of a long document to see if any of the text is relevant to answer the question. \n",
    "Return any relevant text in {language}.\n",
    "{context}\n",
    "Question: {question}\n",
    "Relevant text, if any, in {language}:\"\"\"\n",
    "\n",
    "COMBINE_QUESTION_PROMPT = PromptTemplate(\n",
    "    template=COMBINE_QUESTION_PROMPT_TEMPLATE, input_variables=[\"context\", \"question\", \"language\"]\n",
    ")\n",
    "\n",
    "\n",
    "COMBINE_PROMPT_TEMPLATE = \"\"\"\n",
    "These are examples of how you must provide the answer:\n",
    "--> Beginning of examples\n",
    "=========\n",
    "QUESTION: Which state/country's law governs the interpretation of the contract?\n",
    "=========\n",
    "Content: This Agreement is governed by English law and the parties submit to the exclusive jurisdiction of the English courts in  relation to any dispute (contractual or non-contractual) concerning this Agreement save that either party may apply to any court for an  injunction or other relief to protect its Intellectual Property Rights.\n",
    "Source: https://xxx.com/article1.pdf\n",
    "Content: No Waiver. Failure or delay in exercising any right or remedy under this Agreement shall not constitute a waiver of such (or any other)  right or remedy.\\n\\n11.7 Severability. The invalidity, illegality or unenforceability of any term (or part of a term) of this Agreement shall not affect the continuation  in force of the remainder of the term (if any) and this Agreement.\\n\\n11.8 No Agency. Except as expressly stated otherwise, nothing in this Agreement shall create an agency, partnership or joint venture of any  kind between the parties.\\n\\n11.9 No Third-Party Beneficiaries.\n",
    "Source: https://yyyy.com/article2.html\n",
    "Content: (b) if Google believes, in good faith, that the Distributor has violated or caused Google to violate any Anti-Bribery Laws (as  defined in Clause 8.5) or that such a violation is reasonably likely to occur,\n",
    "Source: https://yyyy.com/article3.csv\n",
    "Content: The terms of this Agreement shall be subject to the laws of Manchester, England, and any disputes arising from or relating to this Agreement shall be exclusively resolved by the courts of that state, except where either party may seek an injunction or other legal remedy to safeguard their Intellectual Property Rights.\n",
    "Source: https://ppp.com/article4.pdf\n",
    "=========\n",
    "FINAL ANSWER IN English: This Agreement is governed by English law, specifically the laws of Manchester, England.\n",
    "SOURCES: https://xxx.com/article1.pdf, https://ppp.com/article4.pdf\n",
    "=========\n",
    "QUESTION: What did the president say about Michael Jackson?\n",
    "=========\n",
    "Content: Madam Speaker, Madam Vice President, our First Lady and Second Gentleman. Members of Congress and the Cabinet. Justices of the Supreme Court. My fellow Americans.  \\n\\nLast year COVID-19 kept us apart. This year we are finally together again. \\n\\nTonight, we meet as Democrats Republicans and Independents. But most importantly as Americans. \\n\\nWith a duty to one another to the American people to the Constitution. \\n\\nAnd with an unwavering resolve that freedom will always triumph over tyranny. \\n\\nSix days ago, Russia’s Vladimir Putin sought to shake the foundations of the free world thinking he could make it bend to his menacing ways. But he badly miscalculated. \\n\\nHe thought he could roll into Ukraine and the world would roll over. Instead he met a wall of strength he never imagined. \\n\\nHe met the Ukrainian people. \\n\\nFrom President Zelenskyy to every Ukrainian, their fearlessness, their courage, their determination, inspires the world. \\n\\nGroups of citizens blocking tanks with their bodies. Everyone from students to retirees teachers turned soldiers defending their homeland.\n",
    "Source: https://fff.com/article23.pdf\n",
    "Content: And we won’t stop. \\n\\nWe have lost so much to COVID-19. Time with one another. And worst of all, so much loss of life. \\n\\nLet’s use this moment to reset. Let’s stop looking at COVID-19 as a partisan dividing line and see it for what it is: A God-awful disease.  \\n\\nLet’s stop seeing each other as enemies, and start seeing each other for who we really are: Fellow Americans.  \\n\\nWe can’t change how divided we’ve been. But we can change how we move forward—on COVID-19 and other issues we must face together. \\n\\nI recently visited the New York City Police Department days after the funerals of Officer Wilbert Mora and his partner, Officer Jason Rivera. \\n\\nThey were responding to a 9-1-1 call when a man shot and killed them with a stolen gun. \\n\\nOfficer Mora was 27 years old. \\n\\nOfficer Rivera was 22. \\n\\nBoth Dominican Americans who’d grown up on the same streets they later chose to patrol as police officers. \\n\\nI spoke with their families and told them that we are forever in debt for their sacrifice, and we will carry on their mission to restore the trust and safety every community deserves.\n",
    "Source: https://jjj.com/article56.pdf\n",
    "Content: And a proud Ukrainian people, who have known 30 years  of independence, have repeatedly shown that they will not tolerate anyone who tries to take their country backwards.  \\n\\nTo all Americans, I will be honest with you, as I’ve always promised. A Russian dictator, invading a foreign country, has costs around the world. \\n\\nAnd I’m taking robust action to make sure the pain of our sanctions  is targeted at Russia’s economy. And I will use every tool at our disposal to protect American businesses and consumers. \\n\\nTonight, I can announce that the United States has worked with 30 other countries to release 60 Million barrels of oil from reserves around the world.  \\n\\nAmerica will lead that effort, releasing 30 Million barrels from our own Strategic Petroleum Reserve. And we stand ready to do more if necessary, unified with our allies.  \\n\\nThese steps will help blunt gas prices here at home. And I know the news about what’s happening can seem alarming. \\n\\nBut I want you to know that we are going to be okay.\n",
    "Source: https://vvv.com/article145.pdf\n",
    "Content: More support for patients and families. \\n\\nTo get there, I call on Congress to fund ARPA-H, the Advanced Research Projects Agency for Health. \\n\\nIt’s based on DARPA—the Defense Department project that led to the Internet, GPS, and so much more.  \\n\\nARPA-H will have a singular purpose—to drive breakthroughs in cancer, Alzheimer’s, diabetes, and more. \\n\\nA unity agenda for the nation. \\n\\nWe can do this. \\n\\nMy fellow Americans—tonight , we have gathered in a sacred space—the citadel of our democracy. \\n\\nIn this Capitol, generation after generation, Americans have debated great questions amid great strife, and have done great things. \\n\\nWe have fought for freedom, expanded liberty, defeated totalitarianism and terror. \\n\\nAnd built the strongest, freest, and most prosperous nation the world has ever known. \\n\\nNow is the hour. \\n\\nOur moment of responsibility. \\n\\nOur test of resolve and conscience, of history itself. \\n\\nIt is in this moment that our character is formed. Our purpose is found. Our future is forged. \\n\\nWell I know this nation.\n",
    "Source: https://uuu.com/article15.pdf\n",
    "=========\n",
    "FINAL ANSWER IN English: The president did not mention Michael Jackson.\n",
    "SOURCES: N/A\n",
    "<-- End of examples\n",
    "Given the following extracted parts of a long document and a question, create a final answer with references (\"SOURCES\"). \n",
    "If you don't know the answer, just say that you don't know. Don't try to make up an answer.\n",
    "ALWAYS return a \"SOURCES\" part in your answer.\n",
    "Instead of using the word \"Document\" use \"Tracking ID\"\n",
    "Respond in {language}.\n",
    "=========\n",
    "QUESTION: {question}\n",
    "=========\n",
    "{summaries}\n",
    "=========\n",
    "FINAL ANSWER IN {language}:\"\"\"\n",
    "\n",
    "\n",
    "COMBINE_PROMPT = PromptTemplate(\n",
    "    template=COMBINE_PROMPT_TEMPLATE, input_variables=[\"summaries\", \"question\", \"language\"]\n",
    ")"
   ]
  },
  {
   "cell_type": "code",
   "execution_count": 95,
   "metadata": {},
   "outputs": [
    {
     "name": "stdout",
     "output_type": "stream",
     "text": [
      "Custom token limit for gpt-35-turbo : 3000\n",
      "Combined docs tokens count: 1705\n"
     ]
    }
   ],
   "source": [
    "# some helper functions\n",
    "import tiktoken\n",
    "from typing import List\n",
    "# Returning the toekn limit based on model selection\n",
    "def model_tokens_limit(model: str) -> int:\n",
    "    \"\"\"Returns the number of tokens limits in a text model.\"\"\"\n",
    "    if model == \"gpt-35-turbo\":\n",
    "        token_limit = 3000\n",
    "    elif model == \"gpt-4\":\n",
    "        token_limit = 7000\n",
    "    elif model == \"gpt-4-32k\":\n",
    "        token_limit = 31000\n",
    "    else:\n",
    "        token_limit = 3000\n",
    "    return token_limit\n",
    "\n",
    "# Returns the num of tokens used on a string\n",
    "def num_tokens_from_string(string: str) -> int:\n",
    "    encoding_name ='cl100k_base'\n",
    "    \"\"\"Returns the number of tokens in a text string.\"\"\"\n",
    "    encoding = tiktoken.get_encoding(encoding_name)\n",
    "    num_tokens = len(encoding.encode(string))\n",
    "    return num_tokens\n",
    "\n",
    "def num_tokens_from_docs(docs: List[Document]) -> int:\n",
    "    num_tokens = 0\n",
    "    for i in range(len(docs)):\n",
    "        num_tokens += num_tokens_from_string(docs[i].page_content)\n",
    "    return num_tokens\n",
    "\n",
    "# Calculate number of tokens of our docs\n",
    "if(len(docs)>0):\n",
    "    tokens_limit = model_tokens_limit(MODEL) # this is a custom function we created in app/utils.py\n",
    "    num_tokens = num_tokens_from_docs(docs) # this is a custom function we created in app/utils.py\n",
    "    print(\"Custom token limit for\", MODEL, \":\", tokens_limit)\n",
    "    print(\"Combined docs tokens count:\",num_tokens)\n",
    "        \n",
    "else:\n",
    "    print(\"NO RESULTS FROM AZURE SEARCH\")"
   ]
  },
  {
   "cell_type": "code",
   "execution_count": 96,
   "metadata": {},
   "outputs": [
    {
     "name": "stdout",
     "output_type": "stream",
     "text": [
      "1705\n",
      "Chain Type selected: stuff\n",
      "CPU times: total: 0 ns\n",
      "Wall time: 1 ms\n"
     ]
    }
   ],
   "source": [
    "%%time\n",
    "print(num_tokens)\n",
    "if num_tokens > tokens_limit:\n",
    "    # Select the Embedder model\n",
    "    if len(docs) < 50:\n",
    "        # OpenAI models are accurate but slower, they also only (for now) accept one text at a time (chunk_size)\n",
    "        embedder = OpenAIEmbeddings(deployment=\"text-embedding-ada-002\", chunk_size=1) \n",
    "    else:\n",
    "        # Bert based models are faster (3x-10x) but not as great in accuracy as OpenAI models\n",
    "        # Since this repo supports Multiple languages we need to use a multilingual model. \n",
    "        # But if English only is the requirement, use \"multi-qa-MiniLM-L6-cos-v1\"\n",
    "        # The fastest english model is \"all-MiniLM-L12-v2\"\n",
    "        embedder = HuggingFaceEmbeddings(model_name = 'distiluse-base-multilingual-cased-v2')\n",
    "    \n",
    "    print(embedder)\n",
    "    \n",
    "    # Create our in-memory vector database index from the chunks given by Azure Search.\n",
    "    # We are using FAISS. https://ai.facebook.com/tools/faiss/\n",
    "    db = FAISS.from_documents(docs, embedder)\n",
    "    top_docs = db.similarity_search(QUESTION, k=4)  # Return the top 4 documents\n",
    "    \n",
    "    # Now we need to recalculate the tokens count of the top results from similarity vector search\n",
    "    # in order to select the chain type: stuff (all chunks in one prompt) or \n",
    "    # map_reduce (multiple calls to the LLM to summarize/reduce the chunks and then combine them)\n",
    "    \n",
    "    num_tokens = num_tokens_from_docs(top_docs)\n",
    "    print(\"Token count after similarity search:\", num_tokens)\n",
    "    chain_type = \"map_reduce\" if num_tokens > tokens_limit else \"stuff\"\n",
    "    \n",
    "else:\n",
    "    # if total tokens is less than our limit, we don't need to vectorize and do similarity search\n",
    "    top_docs = docs\n",
    "    chain_type = \"stuff\"\n",
    "    \n",
    "print(\"Chain Type selected:\", chain_type)"
   ]
  },
  {
   "cell_type": "code",
   "execution_count": 97,
   "metadata": {},
   "outputs": [
    {
     "data": {
      "text/plain": [
       "PromptTemplate(input_variables=['summaries', 'question', 'language'], output_parser=None, partial_variables={}, template='\\nThese are examples of how you must provide the answer:\\n--> Beginning of examples\\n=========\\nQUESTION: Which state/country\\'s law governs the interpretation of the contract?\\n=========\\nContent: This Agreement is governed by English law and the parties submit to the exclusive jurisdiction of the English courts in  relation to any dispute (contractual or non-contractual) concerning this Agreement save that either party may apply to any court for an  injunction or other relief to protect its Intellectual Property Rights.\\nSource: https://xxx.com/article1.pdf\\nContent: No Waiver. Failure or delay in exercising any right or remedy under this Agreement shall not constitute a waiver of such (or any other)  right or remedy.\\n\\n11.7 Severability. The invalidity, illegality or unenforceability of any term (or part of a term) of this Agreement shall not affect the continuation  in force of the remainder of the term (if any) and this Agreement.\\n\\n11.8 No Agency. Except as expressly stated otherwise, nothing in this Agreement shall create an agency, partnership or joint venture of any  kind between the parties.\\n\\n11.9 No Third-Party Beneficiaries.\\nSource: https://yyyy.com/article2.html\\nContent: (b) if Google believes, in good faith, that the Distributor has violated or caused Google to violate any Anti-Bribery Laws (as  defined in Clause 8.5) or that such a violation is reasonably likely to occur,\\nSource: https://yyyy.com/article3.csv\\nContent: The terms of this Agreement shall be subject to the laws of Manchester, England, and any disputes arising from or relating to this Agreement shall be exclusively resolved by the courts of that state, except where either party may seek an injunction or other legal remedy to safeguard their Intellectual Property Rights.\\nSource: https://ppp.com/article4.pdf\\n=========\\nFINAL ANSWER IN English: This Agreement is governed by English law, specifically the laws of Manchester, England.\\nSOURCES: https://xxx.com/article1.pdf, https://ppp.com/article4.pdf\\n=========\\nQUESTION: What did the president say about Michael Jackson?\\n=========\\nContent: Madam Speaker, Madam Vice President, our First Lady and Second Gentleman. Members of Congress and the Cabinet. Justices of the Supreme Court. My fellow Americans.  \\n\\nLast year COVID-19 kept us apart. This year we are finally together again. \\n\\nTonight, we meet as Democrats Republicans and Independents. But most importantly as Americans. \\n\\nWith a duty to one another to the American people to the Constitution. \\n\\nAnd with an unwavering resolve that freedom will always triumph over tyranny. \\n\\nSix days ago, Russia’s Vladimir Putin sought to shake the foundations of the free world thinking he could make it bend to his menacing ways. But he badly miscalculated. \\n\\nHe thought he could roll into Ukraine and the world would roll over. Instead he met a wall of strength he never imagined. \\n\\nHe met the Ukrainian people. \\n\\nFrom President Zelenskyy to every Ukrainian, their fearlessness, their courage, their determination, inspires the world. \\n\\nGroups of citizens blocking tanks with their bodies. Everyone from students to retirees teachers turned soldiers defending their homeland.\\nSource: https://fff.com/article23.pdf\\nContent: And we won’t stop. \\n\\nWe have lost so much to COVID-19. Time with one another. And worst of all, so much loss of life. \\n\\nLet’s use this moment to reset. Let’s stop looking at COVID-19 as a partisan dividing line and see it for what it is: A God-awful disease.  \\n\\nLet’s stop seeing each other as enemies, and start seeing each other for who we really are: Fellow Americans.  \\n\\nWe can’t change how divided we’ve been. But we can change how we move forward—on COVID-19 and other issues we must face together. \\n\\nI recently visited the New York City Police Department days after the funerals of Officer Wilbert Mora and his partner, Officer Jason Rivera. \\n\\nThey were responding to a 9-1-1 call when a man shot and killed them with a stolen gun. \\n\\nOfficer Mora was 27 years old. \\n\\nOfficer Rivera was 22. \\n\\nBoth Dominican Americans who’d grown up on the same streets they later chose to patrol as police officers. \\n\\nI spoke with their families and told them that we are forever in debt for their sacrifice, and we will carry on their mission to restore the trust and safety every community deserves.\\nSource: https://jjj.com/article56.pdf\\nContent: And a proud Ukrainian people, who have known 30 years  of independence, have repeatedly shown that they will not tolerate anyone who tries to take their country backwards.  \\n\\nTo all Americans, I will be honest with you, as I’ve always promised. A Russian dictator, invading a foreign country, has costs around the world. \\n\\nAnd I’m taking robust action to make sure the pain of our sanctions  is targeted at Russia’s economy. And I will use every tool at our disposal to protect American businesses and consumers. \\n\\nTonight, I can announce that the United States has worked with 30 other countries to release 60 Million barrels of oil from reserves around the world.  \\n\\nAmerica will lead that effort, releasing 30 Million barrels from our own Strategic Petroleum Reserve. And we stand ready to do more if necessary, unified with our allies.  \\n\\nThese steps will help blunt gas prices here at home. And I know the news about what’s happening can seem alarming. \\n\\nBut I want you to know that we are going to be okay.\\nSource: https://vvv.com/article145.pdf\\nContent: More support for patients and families. \\n\\nTo get there, I call on Congress to fund ARPA-H, the Advanced Research Projects Agency for Health. \\n\\nIt’s based on DARPA—the Defense Department project that led to the Internet, GPS, and so much more.  \\n\\nARPA-H will have a singular purpose—to drive breakthroughs in cancer, Alzheimer’s, diabetes, and more. \\n\\nA unity agenda for the nation. \\n\\nWe can do this. \\n\\nMy fellow Americans—tonight , we have gathered in a sacred space—the citadel of our democracy. \\n\\nIn this Capitol, generation after generation, Americans have debated great questions amid great strife, and have done great things. \\n\\nWe have fought for freedom, expanded liberty, defeated totalitarianism and terror. \\n\\nAnd built the strongest, freest, and most prosperous nation the world has ever known. \\n\\nNow is the hour. \\n\\nOur moment of responsibility. \\n\\nOur test of resolve and conscience, of history itself. \\n\\nIt is in this moment that our character is formed. Our purpose is found. Our future is forged. \\n\\nWell I know this nation.\\nSource: https://uuu.com/article15.pdf\\n=========\\nFINAL ANSWER IN English: The president did not mention Michael Jackson.\\nSOURCES: N/A\\n<-- End of examples\\nGiven the following extracted parts of a long document and a question, create a final answer with references (\"SOURCES\"). \\nIf you don\\'t know the answer, just say that you don\\'t know. Don\\'t try to make up an answer.\\nALWAYS return a \"SOURCES\" part in your answer.\\nInstead of using the word \"Document\" use \"Tracking ID\"\\nRespond in {language}.\\n=========\\nQUESTION: {question}\\n=========\\n{summaries}\\n=========\\nFINAL ANSWER IN {language}:', template_format='f-string', validate_template=True)"
      ]
     },
     "execution_count": 97,
     "metadata": {},
     "output_type": "execute_result"
    }
   ],
   "source": [
    "if chain_type == \"stuff\":\n",
    "    chain = load_qa_with_sources_chain(llm, chain_type=chain_type, \n",
    "                                       prompt=COMBINE_PROMPT)\n",
    "elif chain_type == \"map_reduce\":\n",
    "    chain = load_qa_with_sources_chain(llm, chain_type=chain_type, \n",
    "                                       question_prompt=COMBINE_QUESTION_PROMPT,\n",
    "                                       combine_prompt=COMBINE_PROMPT,\n",
    "                                       return_intermediate_steps=True)\n",
    "    \n",
    "\n",
    "COMBINE_PROMPT"
   ]
  },
  {
   "cell_type": "code",
   "execution_count": 98,
   "metadata": {},
   "outputs": [
    {
     "name": "stdout",
     "output_type": "stream",
     "text": [
      "{'input_documents': [Document(page_content='What happened?\\nYou were impacted by a platform issue that caused some of our Multi-Factor Authentication (MFA) customers to experience issues when attempting a pull-down refresh using the Microsoft Authenticator app on Android devices, between 19:19 UTC on 6 Mar 2023 and 22:20 UTC on 21 March 2023. While this issue impacted only one scenario where customers used a pull-down refresh instead of interacting with the push notification, unfortunately it impacted one or more of your Azure subscriptions. That’s why we’re providing you with this Post Incident Review (PIR) – to summarize what went wrong, how we responded, and the steps Microsoft is taking to learn from this and improve.\\nWhat went wrong and why?\\nThe Microsoft Authenticator app has support for a client-initiated refresh to allow customers to poll for a pending notification from the service. A recent service update contained a new feature that exposed a code issue when refreshing the Microsoft Authenticator app using the Pull-to-Refresh feature on Android devices. This only impacted users that utilize the Pull-to-Refresh feature on specific versions of the Microsoft Authenticator app to receive the authentication notification. Interactions with push notifications were not affected. While the service update followed our safe deployment practices, this break was not detected until reported by customers as the volume of Microsoft Authenticator Pull-to-Refresh requests from Android devices is very low.\\nHow did we respond?\\nUpon receiving the customer reports, we investigated and identified the feature that was causing this experience degradation. A configuration override was prepared by 19:39 UTC on 21 March 2023 and safely rolled out to mitigate the impact by 22:20 UTC on 21 March 2023. Affected customers may have needed to re-register their devices for multi-factor authentication.\\nHow are we making incidents like this less likely or less impactful?\\nWe are enhancing our telemetry to detect these issues on a per flow granularity instead of a holistic one. This will show us immediately when one of these flows is affected by an issue in the future.\\nWe are also taking steps to ensure that low volume scenarios have adequate validations to help protect against the possibility of this kind of failure.\\nHow can customers make incidents like this less impactful?\\nFinally, consider ensuring that the right people in your organization will be notified about any future service issues - by configuring Azure Service Health alerts. These can trigger emails, SMS, push notifications, webhooks, and more: https://aka.ms/ash-alerts\\nHow can we make our incident communications more useful?\\nYou can rate this PIR and provide any feedback using our quick 3-question survey.', metadata={'source': 'FLX7-VD8'}), Document(page_content=\"What happened?\\nBetween 13:00 UTC and 14:05 UTC on 12 April 2023 you were identified as a customer using Azure Multi-Factor Authentication (MFA) that may have experienced difficulties receiving push notifications on their Android phones due to an issue with a third-party provider. Apple iOS users, and other MFA methods, were not impacted.\\nWhat went wrong and why?\\nWe determined the cause of these push notification issues was due to an issue with a third-party provider's push notification service. We determined that calls to this service were experiencing a high rate of errors.\\xa0\\nHow did we respond?\\nWe were alerted to the issue by monitoring. We were able to fall back to a legacy system that was operating normally with minimal failures. We manually performed a failover following our safe deployment practices, which allowed MFA to completely recover. Once the third-party provider's push notification service recovered, we failed back the traffic.\\xa0\\nHow are we making incidents like this less likely or less impactful?\\nWe improved the resiliency of the service by configuring an automatic failover of push notification traffic to the legacy system if the primary system experiences degradation. (Completed)We are updating our public documentation, recommending customers to complete the MFA request (even without a push notification) by opening the Microsoft Authenticator app and approving. (Completed)We are improving the user experience for similar issues, to convey that users can complete the MFA request by opening the Authenticator App if they are not receiving push notification (Estimated Completion: October 2023).\\nHow can customers make incidents like this less impactful?\\nConsider ensuring that the right people in your organization will be notified about any future service issues - by configuring Azure Service Health alerts. These can trigger emails, SMS, push notifications, webhooks, and more:\\xa0https://aka.ms/ash-alerts\\nHow can we make our incident communications more useful?\\nYou can rate this PIR and provide any feedback using our quick 3-question survey.\", metadata={'source': 'M0L-VC0'}), Document(page_content='What happened?\\nYou were impacted by a platform issue that caused some of our Azure Multi-Factor Authentication (MFA) customers in the Philippines to experience difficulties signing into Azure resources, such as Azure Active Directory, when MFA is required by policy, between 01:03 and 06:34 UTC on 16 May 2023.\\nWhat went wrong and why?\\nOur telemetry indicated that the issue was related to the voice service providers in Philippines, which impacted Azure MFA users.\\nHow did we respond?\\nThe voice service providers in Philippines recovered, which subsequently mitigated the impact to Azure MFA.\\nHow are we making incidents like this less likely or less impactful?\\nWe continue to work with our service providers to prevent further occurrences of this kind and future issues.\\nHow can we make our incident communications more useful?\\nYou can rate this PIR and provide any feedback using our quick 3-question survey.', metadata={'source': 'RKWL-T98'}), Document(page_content='Summary of impact:\\xa0Between 05:38 UTC on 12 May 2023 and and 07:48 UTC on 20 May 2023, you were identified as a customer using Azure Multi-Factor Authentication (MFA) wherein users may be blocked while using Windows first time setup (Out of Box Experience) or Windows Intune AutoPilot and Authenticator App with Code Match is used as an MFA method.\\nPreliminary root cause:\\xa0A recent code change to update the service introduced a bug that caused the issue.\\xa0\\nMitigation:\\xa0We rolled out a fix in the update code to mitigate the issue.\\xa0\\nNext steps:\\xa0We will continue to investigate to establish the full root cause and prevent future occurrences. Stay informed about Azure service issues by creating custom service health alerts:\\xa0\\xa0https://aka.ms/ash-videos\\xa0for video tutorials and\\xa0\\xa0https://aka.ms/ash-alerts\\xa0for how-to documentation.', metadata={'source': 'BL8Y-DT8'}), Document(page_content='What happened?\\nBetween 13:00 UTC and 15:50 UTC on 4 April 2023, customers using Authenticator App for Azure Multi-Factor Authentication (MFA) may have experienced difficulties in receiving push notification on their Android phones to sign into Azure resources, such as Azure Active Directory, when Multi-Factor Authentication is required by policy. As this issue was global and impacted more than one region, we are providing you with this Post Incident Review (PIR) to summarize what went wrong, how we responded, and the steps Microsoft is taking to learn from this and improve.\\nWhat went wrong and why?\\nThe cause of the issue was a third-party push notification service experiencing high rates of errors.\\nHow did we respond?\\nOur monitors alerted us about the issue. The dashboard indicated that the issue was global impacting multiple regions. Based our our investigation it was revealed that the legacy channel, which is planned to be deprecated sometime in future, was operating normal with minimal failures. We manually performed a failover to the legacy channel following safe deployment plan, which allowed Azure MFA to completely recover. Once the third-party push notification service declared mitigation, we failed back the traffic.\\nHow are we making incidents like this less likely or less impactful?\\nWe have updated our troubleshooting guide to consider failing over the traffic to legacy channel for push notification traffic for Android if the primary channel is experiencing degradation (Completed).We are working on improving the resiliency to automatically failover push notification traffic to legacy channel if the primary channel experiences degradation.We are improving our public documentation so it recommends customers to complete the MFA request by opening up Microsoft Authenticator App and approving the request.In the longer term, we are improving the user experience to convey that they can complete the MFA request by opening the Authenticator App, if they are not receiving push notification.\\nHow can we make our incident communications more useful?\\nYou can rate this PIR and provide any feedback using our quick 3-question survey.', metadata={'source': 'FKPH-7Z8'})], 'question': 'what are the Authentication issues?', 'language': 'English', 'output_text': \"For the first Tracking ID (FLX7-VD8), the Authentication issues were caused by a code issue when refreshing the Microsoft Authenticator app using the Pull-to-Refresh feature on Android devices. This issue impacted only one scenario where customers used a pull-down refresh instead of interacting with the push notification. For the second Tracking ID (M0L-VC0), the Authentication issues were caused by a third-party provider's push notification service experiencing a high rate of errors. For the third Tracking ID (RKWL-T98), the Authentication issues were caused by voice service providers in the Philippines, which impacted Azure MFA users. For the fourth Tracking ID (BL8Y-DT8), the Authentication issues were caused by a third-party push notification service experiencing high rates of errors. For the fifth Tracking ID, (no content provided), the Authentication issues were caused by a recent code change to update the service that introduced a bug. \\nSOURCES: FLX7-VD8, M0L-VC0, RKWL-T98, BL8Y-DT8\"}\n"
     ]
    }
   ],
   "source": [
    "response = chain({\"input_documents\": top_docs, \"question\": QUESTION, \"language\": \"English\"})\n",
    "answer = response['output_text']\n",
    "print(response)\n"
   ]
  },
  {
   "cell_type": "code",
   "execution_count": 99,
   "metadata": {},
   "outputs": [
    {
     "data": {
      "text/html": [
       "<h4>Azure OpenAI ChatGPT Answer:</h4>"
      ],
      "text/plain": [
       "<IPython.core.display.HTML object>"
      ]
     },
     "metadata": {},
     "output_type": "display_data"
    },
    {
     "data": {
      "text/html": [
       "For the first Tracking ID (FLX7-VD8), the Authentication issues were caused by a code issue when refreshing the Microsoft Authenticator app using the Pull-to-Refresh feature on Android devices. This issue impacted only one scenario where customers used a pull-down refresh instead of interacting with the push notification. For the second Tracking ID (M0L-VC0), the Authentication issues were caused by a third-party provider's push notification service experiencing a high rate of errors. For the third Tracking ID (RKWL-T98), the Authentication issues were caused by voice service providers in the Philippines, which impacted Azure MFA users. For the fourth Tracking ID (BL8Y-DT8), the Authentication issues were caused by a third-party push notification service experiencing high rates of errors. For the fifth Tracking ID, (no content provided), the Authentication issues were caused by a recent code change to update the service that introduced a bug. \n"
      ],
      "text/plain": [
       "<IPython.core.display.HTML object>"
      ]
     },
     "metadata": {},
     "output_type": "display_data"
    }
   ],
   "source": [
    "display(HTML('<h4>Azure OpenAI ChatGPT Answer:</h4>'))\n",
    "display(HTML(answer.split(\"SOURCES:\")[0]))\n",
    "\n"
   ]
  },
  {
   "cell_type": "code",
   "execution_count": 100,
   "metadata": {},
   "outputs": [
    {
     "data": {
      "text/plain": [
       "'\\njust a way to link stuff can use this for other stuff feel free to ignore\\n\\nsources_list = answer.split(\"SOURCES:\")[1].replace(\" \",\"\").split(\",\")\\n\\nsources_html = \\'<u>Sources</u>: \\'\\nfor index, value in enumerate(sources_list):\\n    url = value + DATASOURCE_SAS_TOKEN \\n    sources_html +=\\'<sup><a href=\"\\'+ url + \\'\">[\\' + str(index+1) + \\']</a></sup>\\'\\n    \\ndisplay(HTML(sources_html))\\n'"
      ]
     },
     "execution_count": 100,
     "metadata": {},
     "output_type": "execute_result"
    }
   ],
   "source": [
    "'''\n",
    "just a way to link stuff can use this for other stuff feel free to ignore\n",
    "\n",
    "sources_list = answer.split(\"SOURCES:\")[1].replace(\" \",\"\").split(\",\")\n",
    "\n",
    "sources_html = '<u>Sources</u>: '\n",
    "for index, value in enumerate(sources_list):\n",
    "    url = value + DATASOURCE_SAS_TOKEN \n",
    "    sources_html +='<sup><a href=\"'+ url + '\">[' + str(index+1) + ']</a></sup>'\n",
    "    \n",
    "display(HTML(sources_html))\n",
    "'''"
   ]
  },
  {
   "cell_type": "code",
   "execution_count": null,
   "metadata": {},
   "outputs": [],
   "source": []
  }
 ],
 "metadata": {
  "kernelspec": {
   "display_name": "Python 3",
   "language": "python",
   "name": "python3"
  },
  "language_info": {
   "codemirror_mode": {
    "name": "ipython",
    "version": 3
   },
   "file_extension": ".py",
   "mimetype": "text/x-python",
   "name": "python",
   "nbconvert_exporter": "python",
   "pygments_lexer": "ipython3",
   "version": "3.10.4"
  },
  "orig_nbformat": 4
 },
 "nbformat": 4,
 "nbformat_minor": 2
}
