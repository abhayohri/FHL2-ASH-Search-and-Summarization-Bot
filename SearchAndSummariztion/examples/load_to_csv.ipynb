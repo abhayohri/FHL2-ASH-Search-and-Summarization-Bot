{
 "cells": [
  {
   "cell_type": "code",
   "execution_count": 9,
   "metadata": {},
   "outputs": [],
   "source": [
    "from configparser import ConfigParser\n",
    "parser = ConfigParser()\n",
    "parser.read('../secrets.cfg')\n",
    "\n",
    "portalToken = parser.get('my_api','PORTAL_TOKEN')\n",
    "\n",
    "headers = {\"Authorization\": portalToken}"
   ]
  },
  {
   "cell_type": "code",
   "execution_count": 10,
   "metadata": {},
   "outputs": [
    {
     "name": "stdout",
     "output_type": "stream",
     "text": [
      "{'error': {'code': 'InvalidAuthenticationToken', 'message': 'The access token is invalid.'}}\n"
     ]
    }
   ],
   "source": [
    "# importing the requests library\n",
    "import requests\n",
    "from bs4 import BeautifulSoup\n",
    "import re\n",
    "import pandas as pd\n",
    "  \n",
    "# api-endpoint\n",
    "URL  = parser.get('my_api','ASH_EXAMPLE_DATA_SOURCE')\n",
    "\n",
    "r = requests.get(url = URL, headers = headers)\n",
    "    # extracting data in json format\n",
    "data = r.json()\n",
    "\n",
    "print(data)\n",
    "\n",
    "subscriptionData=\"\"\n",
    "subscriptiondataarray= []\n",
    "\n",
    "count = 0\n",
    "if 'value' in data:\n",
    "    for event in data['value']:\n",
    "        count =count +1\n",
    "        if count >= 19: # due to being free shit need to do: https://learn.microsoft.com/en-us/azure/search/cognitive-search-attach-cognitive-services?tabs=portal\n",
    "            break\n",
    "        \n",
    "        if 'properties' not in event:\n",
    "            print(\"missing props\")\n",
    "            continue\n",
    "        \n",
    "        props = set (['title','impactStartTime','impactMitigationTime','description','impact'])\n",
    "\n",
    "        if props.issubset(event['properties'].keys()) and event['properties']['title'][0] != '_':\n",
    "            s = \"#################\"\n",
    "            s = s + \"\\nTitle: \" + event['properties']['title'] + \"\\nstart time: \" + event['properties']['impactStartTime'] + \"\\nmitigated time: \" + event['properties']['impactMitigationTime'] + \"\\nDetails: \" + re.sub('\\n\\n','\\n',BeautifulSoup(event['properties']['description']).get_text(\"\"))\n",
    "            s = s + \"\\n#################\\n\\n\"\n",
    "            ##print(s)\n",
    "            subscriptionData = subscriptionData + s\n",
    "\n",
    "            subscriptiondataarray.append([event['name'], event['properties']['title'], event['properties']['impactStartTime'], event['properties']['impactMitigationTime'], re.sub('\\n\\n','\\n',BeautifulSoup(event['properties']['description']).get_text(\"\"))])\n",
    "\n",
    "        \n",
    "    f = open('ServiceHealthData-11764614-ffac-4e4d-8506-bdf64388ce6c.txt','w', encoding=\"utf-8\")\n",
    "    f.write(subscriptionData)\n",
    "\n",
    "    df = pd.DataFrame(subscriptiondataarray, columns=['id','title', 'startTime', 'mitigationTime', 'Details'])\n",
    "\n",
    "    df.to_csv('ServiceHealthData-11764614-ffac-4e4d-8506-bdf64388ce6c.csv',index=False)\n",
    "    \n",
    "\n",
    "\n",
    "    "
   ]
  },
  {
   "cell_type": "code",
   "execution_count": null,
   "metadata": {},
   "outputs": [],
   "source": []
  }
 ],
 "metadata": {
  "kernelspec": {
   "display_name": "Python 3",
   "language": "python",
   "name": "python3"
  },
  "language_info": {
   "codemirror_mode": {
    "name": "ipython",
    "version": 3
   },
   "file_extension": ".py",
   "mimetype": "text/x-python",
   "name": "python",
   "nbconvert_exporter": "python",
   "pygments_lexer": "ipython3",
   "version": "3.10.4"
  },
  "orig_nbformat": 4
 },
 "nbformat": 4,
 "nbformat_minor": 2
}
